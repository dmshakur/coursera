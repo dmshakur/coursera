{
  "nbformat": 4,
  "nbformat_minor": 0,
  "metadata": {
    "colab": {
      "name": "week_6_project_ml_w_python_d_shakur.ipynb",
      "provenance": [],
      "collapsed_sections": []
    },
    "kernelspec": {
      "name": "python3",
      "display_name": "Python 3"
    },
    "accelerator": "GPU"
  },
  "cells": [
    {
      "cell_type": "code",
      "metadata": {
        "id": "S_Yw_-en9iBB",
        "colab_type": "code",
        "outputId": "34077495-44a3-4671-a487-b651c4351a79",
        "colab": {
          "base_uri": "https://localhost:8080/",
          "height": 425
        }
      },
      "source": [
        "!pip install h20gpu\n",
        "import h2ogpu as sklearn\n",
        "import numpy as np\n",
        "import pandas as pd\n",
        "import matplotlib.pyplot as plt\n",
        "from sklearn import preprocessing"
      ],
      "execution_count": 0,
      "outputs": [
        {
          "output_type": "stream",
          "text": [
            "\u001b[31mERROR: Could not find a version that satisfies the requirement h20gpu (from versions: none)\u001b[0m\n",
            "\u001b[31mERROR: No matching distribution found for h20gpu\u001b[0m\n"
          ],
          "name": "stdout"
        },
        {
          "output_type": "error",
          "ename": "ModuleNotFoundError",
          "evalue": "ignored",
          "traceback": [
            "\u001b[0;31m---------------------------------------------------------------------------\u001b[0m",
            "\u001b[0;31mModuleNotFoundError\u001b[0m                       Traceback (most recent call last)",
            "\u001b[0;32m<ipython-input-2-9d7cbcee3515>\u001b[0m in \u001b[0;36m<module>\u001b[0;34m()\u001b[0m\n\u001b[1;32m      1\u001b[0m \u001b[0mget_ipython\u001b[0m\u001b[0;34m(\u001b[0m\u001b[0;34m)\u001b[0m\u001b[0;34m.\u001b[0m\u001b[0msystem\u001b[0m\u001b[0;34m(\u001b[0m\u001b[0;34m'pip install h20gpu'\u001b[0m\u001b[0;34m)\u001b[0m\u001b[0;34m\u001b[0m\u001b[0;34m\u001b[0m\u001b[0m\n\u001b[0;32m----> 2\u001b[0;31m \u001b[0;32mimport\u001b[0m \u001b[0mh2ogpu\u001b[0m \u001b[0;32mas\u001b[0m \u001b[0msklearn\u001b[0m\u001b[0;34m\u001b[0m\u001b[0;34m\u001b[0m\u001b[0m\n\u001b[0m\u001b[1;32m      3\u001b[0m \u001b[0;32mimport\u001b[0m \u001b[0mnumpy\u001b[0m \u001b[0;32mas\u001b[0m \u001b[0mnp\u001b[0m\u001b[0;34m\u001b[0m\u001b[0;34m\u001b[0m\u001b[0m\n\u001b[1;32m      4\u001b[0m \u001b[0;32mimport\u001b[0m \u001b[0mpandas\u001b[0m \u001b[0;32mas\u001b[0m \u001b[0mpd\u001b[0m\u001b[0;34m\u001b[0m\u001b[0;34m\u001b[0m\u001b[0m\n\u001b[1;32m      5\u001b[0m \u001b[0;32mimport\u001b[0m \u001b[0mmatplotlib\u001b[0m\u001b[0;34m.\u001b[0m\u001b[0mpyplot\u001b[0m \u001b[0;32mas\u001b[0m \u001b[0mplt\u001b[0m\u001b[0;34m\u001b[0m\u001b[0;34m\u001b[0m\u001b[0m\n",
            "\u001b[0;31mModuleNotFoundError\u001b[0m: No module named 'h2ogpu'",
            "",
            "\u001b[0;31m---------------------------------------------------------------------------\u001b[0;32m\nNOTE: If your import is failing due to a missing package, you can\nmanually install dependencies using either !pip or !apt.\n\nTo view examples of installing some common dependencies, click the\n\"Open Examples\" button below.\n\u001b[0;31m---------------------------------------------------------------------------\u001b[0m\n"
          ]
        }
      ]
    },
    {
      "cell_type": "code",
      "metadata": {
        "id": "4JXydff399_j",
        "colab_type": "code",
        "outputId": "eaad66b7-f3e2-4da1-bfdc-59ff2d36d3b7",
        "colab": {
          "base_uri": "https://localhost:8080/",
          "height": 237
        }
      },
      "source": [
        "!wget -O loan_train.csv https://s3-api.us-geo.objectstorage.softlayer.net/cf-courses-data/CognitiveClass/ML0101ENv3/labs/loan_train.csv"
      ],
      "execution_count": 0,
      "outputs": [
        {
          "output_type": "stream",
          "text": [
            "--2020-04-28 19:07:46--  https://s3-api.us-geo.objectstorage.softlayer.net/cf-courses-data/CognitiveClass/ML0101ENv3/labs/loan_train.csv\n",
            "Resolving s3-api.us-geo.objectstorage.softlayer.net (s3-api.us-geo.objectstorage.softlayer.net)... 67.228.254.196\n",
            "Connecting to s3-api.us-geo.objectstorage.softlayer.net (s3-api.us-geo.objectstorage.softlayer.net)|67.228.254.196|:443... connected.\n",
            "HTTP request sent, awaiting response... 200 OK\n",
            "Length: 23101 (23K) [text/csv]\n",
            "Saving to: ‘loan_train.csv’\n",
            "\n",
            "\rloan_train.csv        0%[                    ]       0  --.-KB/s               \rloan_train.csv      100%[===================>]  22.56K  --.-KB/s    in 0.001s  \n",
            "\n",
            "2020-04-28 19:07:46 (32.5 MB/s) - ‘loan_train.csv’ saved [23101/23101]\n",
            "\n"
          ],
          "name": "stdout"
        }
      ]
    },
    {
      "cell_type": "code",
      "metadata": {
        "id": "uP4xoPlv-MlW",
        "colab_type": "code",
        "outputId": "02d535e3-4848-4017-dc8e-fcea5ad0f187",
        "colab": {
          "base_uri": "https://localhost:8080/",
          "height": 270
        }
      },
      "source": [
        "raw_data = pd.read_csv('loan_train.csv')\n",
        "raw_data.head()"
      ],
      "execution_count": 0,
      "outputs": [
        {
          "output_type": "execute_result",
          "data": {
            "text/html": [
              "<div>\n",
              "<style scoped>\n",
              "    .dataframe tbody tr th:only-of-type {\n",
              "        vertical-align: middle;\n",
              "    }\n",
              "\n",
              "    .dataframe tbody tr th {\n",
              "        vertical-align: top;\n",
              "    }\n",
              "\n",
              "    .dataframe thead th {\n",
              "        text-align: right;\n",
              "    }\n",
              "</style>\n",
              "<table border=\"1\" class=\"dataframe\">\n",
              "  <thead>\n",
              "    <tr style=\"text-align: right;\">\n",
              "      <th></th>\n",
              "      <th>Unnamed: 0</th>\n",
              "      <th>Unnamed: 0.1</th>\n",
              "      <th>loan_status</th>\n",
              "      <th>Principal</th>\n",
              "      <th>terms</th>\n",
              "      <th>effective_date</th>\n",
              "      <th>due_date</th>\n",
              "      <th>age</th>\n",
              "      <th>education</th>\n",
              "      <th>Gender</th>\n",
              "    </tr>\n",
              "  </thead>\n",
              "  <tbody>\n",
              "    <tr>\n",
              "      <th>0</th>\n",
              "      <td>0</td>\n",
              "      <td>0</td>\n",
              "      <td>PAIDOFF</td>\n",
              "      <td>1000</td>\n",
              "      <td>30</td>\n",
              "      <td>9/8/2016</td>\n",
              "      <td>10/7/2016</td>\n",
              "      <td>45</td>\n",
              "      <td>High School or Below</td>\n",
              "      <td>male</td>\n",
              "    </tr>\n",
              "    <tr>\n",
              "      <th>1</th>\n",
              "      <td>2</td>\n",
              "      <td>2</td>\n",
              "      <td>PAIDOFF</td>\n",
              "      <td>1000</td>\n",
              "      <td>30</td>\n",
              "      <td>9/8/2016</td>\n",
              "      <td>10/7/2016</td>\n",
              "      <td>33</td>\n",
              "      <td>Bechalor</td>\n",
              "      <td>female</td>\n",
              "    </tr>\n",
              "    <tr>\n",
              "      <th>2</th>\n",
              "      <td>3</td>\n",
              "      <td>3</td>\n",
              "      <td>PAIDOFF</td>\n",
              "      <td>1000</td>\n",
              "      <td>15</td>\n",
              "      <td>9/8/2016</td>\n",
              "      <td>9/22/2016</td>\n",
              "      <td>27</td>\n",
              "      <td>college</td>\n",
              "      <td>male</td>\n",
              "    </tr>\n",
              "    <tr>\n",
              "      <th>3</th>\n",
              "      <td>4</td>\n",
              "      <td>4</td>\n",
              "      <td>PAIDOFF</td>\n",
              "      <td>1000</td>\n",
              "      <td>30</td>\n",
              "      <td>9/9/2016</td>\n",
              "      <td>10/8/2016</td>\n",
              "      <td>28</td>\n",
              "      <td>college</td>\n",
              "      <td>female</td>\n",
              "    </tr>\n",
              "    <tr>\n",
              "      <th>4</th>\n",
              "      <td>6</td>\n",
              "      <td>6</td>\n",
              "      <td>PAIDOFF</td>\n",
              "      <td>1000</td>\n",
              "      <td>30</td>\n",
              "      <td>9/9/2016</td>\n",
              "      <td>10/8/2016</td>\n",
              "      <td>29</td>\n",
              "      <td>college</td>\n",
              "      <td>male</td>\n",
              "    </tr>\n",
              "  </tbody>\n",
              "</table>\n",
              "</div>"
            ],
            "text/plain": [
              "   Unnamed: 0  Unnamed: 0.1 loan_status  ...  age             education  Gender\n",
              "0           0             0     PAIDOFF  ...   45  High School or Below    male\n",
              "1           2             2     PAIDOFF  ...   33              Bechalor  female\n",
              "2           3             3     PAIDOFF  ...   27               college    male\n",
              "3           4             4     PAIDOFF  ...   28               college  female\n",
              "4           6             6     PAIDOFF  ...   29               college    male\n",
              "\n",
              "[5 rows x 10 columns]"
            ]
          },
          "metadata": {
            "tags": []
          },
          "execution_count": 3
        }
      ]
    },
    {
      "cell_type": "code",
      "metadata": {
        "id": "ylvO4-g_-Rwv",
        "colab_type": "code",
        "outputId": "21b99843-09df-4d94-b9fa-b69283e0adff",
        "colab": {
          "base_uri": "https://localhost:8080/",
          "height": 198
        }
      },
      "source": [
        "raw_data = raw_data.drop(['Unnamed: 0', 'Unnamed: 0.1'], axis = 1)\n",
        "raw_data.head()"
      ],
      "execution_count": 0,
      "outputs": [
        {
          "output_type": "execute_result",
          "data": {
            "text/html": [
              "<div>\n",
              "<style scoped>\n",
              "    .dataframe tbody tr th:only-of-type {\n",
              "        vertical-align: middle;\n",
              "    }\n",
              "\n",
              "    .dataframe tbody tr th {\n",
              "        vertical-align: top;\n",
              "    }\n",
              "\n",
              "    .dataframe thead th {\n",
              "        text-align: right;\n",
              "    }\n",
              "</style>\n",
              "<table border=\"1\" class=\"dataframe\">\n",
              "  <thead>\n",
              "    <tr style=\"text-align: right;\">\n",
              "      <th></th>\n",
              "      <th>loan_status</th>\n",
              "      <th>Principal</th>\n",
              "      <th>terms</th>\n",
              "      <th>effective_date</th>\n",
              "      <th>due_date</th>\n",
              "      <th>age</th>\n",
              "      <th>education</th>\n",
              "      <th>Gender</th>\n",
              "    </tr>\n",
              "  </thead>\n",
              "  <tbody>\n",
              "    <tr>\n",
              "      <th>0</th>\n",
              "      <td>PAIDOFF</td>\n",
              "      <td>1000</td>\n",
              "      <td>30</td>\n",
              "      <td>9/8/2016</td>\n",
              "      <td>10/7/2016</td>\n",
              "      <td>45</td>\n",
              "      <td>High School or Below</td>\n",
              "      <td>male</td>\n",
              "    </tr>\n",
              "    <tr>\n",
              "      <th>1</th>\n",
              "      <td>PAIDOFF</td>\n",
              "      <td>1000</td>\n",
              "      <td>30</td>\n",
              "      <td>9/8/2016</td>\n",
              "      <td>10/7/2016</td>\n",
              "      <td>33</td>\n",
              "      <td>Bechalor</td>\n",
              "      <td>female</td>\n",
              "    </tr>\n",
              "    <tr>\n",
              "      <th>2</th>\n",
              "      <td>PAIDOFF</td>\n",
              "      <td>1000</td>\n",
              "      <td>15</td>\n",
              "      <td>9/8/2016</td>\n",
              "      <td>9/22/2016</td>\n",
              "      <td>27</td>\n",
              "      <td>college</td>\n",
              "      <td>male</td>\n",
              "    </tr>\n",
              "    <tr>\n",
              "      <th>3</th>\n",
              "      <td>PAIDOFF</td>\n",
              "      <td>1000</td>\n",
              "      <td>30</td>\n",
              "      <td>9/9/2016</td>\n",
              "      <td>10/8/2016</td>\n",
              "      <td>28</td>\n",
              "      <td>college</td>\n",
              "      <td>female</td>\n",
              "    </tr>\n",
              "    <tr>\n",
              "      <th>4</th>\n",
              "      <td>PAIDOFF</td>\n",
              "      <td>1000</td>\n",
              "      <td>30</td>\n",
              "      <td>9/9/2016</td>\n",
              "      <td>10/8/2016</td>\n",
              "      <td>29</td>\n",
              "      <td>college</td>\n",
              "      <td>male</td>\n",
              "    </tr>\n",
              "  </tbody>\n",
              "</table>\n",
              "</div>"
            ],
            "text/plain": [
              "  loan_status  Principal  terms  ... age             education  Gender\n",
              "0     PAIDOFF       1000     30  ...  45  High School or Below    male\n",
              "1     PAIDOFF       1000     30  ...  33              Bechalor  female\n",
              "2     PAIDOFF       1000     15  ...  27               college    male\n",
              "3     PAIDOFF       1000     30  ...  28               college  female\n",
              "4     PAIDOFF       1000     30  ...  29               college    male\n",
              "\n",
              "[5 rows x 8 columns]"
            ]
          },
          "metadata": {
            "tags": []
          },
          "execution_count": 4
        }
      ]
    },
    {
      "cell_type": "markdown",
      "metadata": {
        "id": "_c0rTpa2_q38",
        "colab_type": "text"
      },
      "source": [
        "Drop the date related columns, effective_date & due_date. Map the Gender & loan_status columns to 0s and 1s."
      ]
    },
    {
      "cell_type": "code",
      "metadata": {
        "id": "rBC4dVm5-hIo",
        "colab_type": "code",
        "outputId": "8318e35c-23a3-4cf6-db63-f0c2c0c28b9b",
        "colab": {
          "base_uri": "https://localhost:8080/",
          "height": 145
        }
      },
      "source": [
        "data = raw_data.drop(['effective_date', 'due_date'], axis = 1)\n",
        "data['Gender'] = data['Gender'].map({'male': 0, 'female': 1})\n",
        "data['loan_status'] = data['loan_status'].map({'COLLECTION': 0, 'PAIDOFF': 1})\n",
        "data.count()"
      ],
      "execution_count": 0,
      "outputs": [
        {
          "output_type": "execute_result",
          "data": {
            "text/plain": [
              "loan_status    346\n",
              "Principal      346\n",
              "terms          346\n",
              "age            346\n",
              "education      346\n",
              "Gender         346\n",
              "dtype: int64"
            ]
          },
          "metadata": {
            "tags": []
          },
          "execution_count": 5
        }
      ]
    },
    {
      "cell_type": "markdown",
      "metadata": {
        "id": "Axx6razdAGIh",
        "colab_type": "text"
      },
      "source": [
        "Create dummies for the education column."
      ]
    },
    {
      "cell_type": "code",
      "metadata": {
        "id": "-7MqMMWo_YLB",
        "colab_type": "code",
        "outputId": "8867177e-ab70-4177-9470-0a5435a21970",
        "colab": {
          "base_uri": "https://localhost:8080/",
          "height": 216
        }
      },
      "source": [
        "dummies = pd.get_dummies(data['education'], prefix='edu').astype('float')\n",
        "print(type(dummies))\n",
        "dummies.head()"
      ],
      "execution_count": 0,
      "outputs": [
        {
          "output_type": "stream",
          "text": [
            "<class 'pandas.core.frame.DataFrame'>\n"
          ],
          "name": "stdout"
        },
        {
          "output_type": "execute_result",
          "data": {
            "text/html": [
              "<div>\n",
              "<style scoped>\n",
              "    .dataframe tbody tr th:only-of-type {\n",
              "        vertical-align: middle;\n",
              "    }\n",
              "\n",
              "    .dataframe tbody tr th {\n",
              "        vertical-align: top;\n",
              "    }\n",
              "\n",
              "    .dataframe thead th {\n",
              "        text-align: right;\n",
              "    }\n",
              "</style>\n",
              "<table border=\"1\" class=\"dataframe\">\n",
              "  <thead>\n",
              "    <tr style=\"text-align: right;\">\n",
              "      <th></th>\n",
              "      <th>edu_Bechalor</th>\n",
              "      <th>edu_High School or Below</th>\n",
              "      <th>edu_Master or Above</th>\n",
              "      <th>edu_college</th>\n",
              "    </tr>\n",
              "  </thead>\n",
              "  <tbody>\n",
              "    <tr>\n",
              "      <th>0</th>\n",
              "      <td>0.0</td>\n",
              "      <td>1.0</td>\n",
              "      <td>0.0</td>\n",
              "      <td>0.0</td>\n",
              "    </tr>\n",
              "    <tr>\n",
              "      <th>1</th>\n",
              "      <td>1.0</td>\n",
              "      <td>0.0</td>\n",
              "      <td>0.0</td>\n",
              "      <td>0.0</td>\n",
              "    </tr>\n",
              "    <tr>\n",
              "      <th>2</th>\n",
              "      <td>0.0</td>\n",
              "      <td>0.0</td>\n",
              "      <td>0.0</td>\n",
              "      <td>1.0</td>\n",
              "    </tr>\n",
              "    <tr>\n",
              "      <th>3</th>\n",
              "      <td>0.0</td>\n",
              "      <td>0.0</td>\n",
              "      <td>0.0</td>\n",
              "      <td>1.0</td>\n",
              "    </tr>\n",
              "    <tr>\n",
              "      <th>4</th>\n",
              "      <td>0.0</td>\n",
              "      <td>0.0</td>\n",
              "      <td>0.0</td>\n",
              "      <td>1.0</td>\n",
              "    </tr>\n",
              "  </tbody>\n",
              "</table>\n",
              "</div>"
            ],
            "text/plain": [
              "   edu_Bechalor  edu_High School or Below  edu_Master or Above  edu_college\n",
              "0           0.0                       1.0                  0.0          0.0\n",
              "1           1.0                       0.0                  0.0          0.0\n",
              "2           0.0                       0.0                  0.0          1.0\n",
              "3           0.0                       0.0                  0.0          1.0\n",
              "4           0.0                       0.0                  0.0          1.0"
            ]
          },
          "metadata": {
            "tags": []
          },
          "execution_count": 6
        }
      ]
    },
    {
      "cell_type": "markdown",
      "metadata": {
        "id": "ut_qzKx3BoKD",
        "colab_type": "text"
      },
      "source": [
        "Rename the column names for consistency."
      ]
    },
    {
      "cell_type": "code",
      "metadata": {
        "id": "Q9Ti96tCAdKc",
        "colab_type": "code",
        "outputId": "910eee70-e8aa-421e-9abe-9f55c21023a7",
        "colab": {
          "base_uri": "https://localhost:8080/",
          "height": 90
        }
      },
      "source": [
        "dummies.columns = ['edu_bachelor', 'edu_hs_or_lower', 'edu_master_or_higher', 'edu_college']\n",
        "dummies = dummies.drop('edu_master_or_higher', axis = 1)\n",
        "dummies.count()"
      ],
      "execution_count": 0,
      "outputs": [
        {
          "output_type": "execute_result",
          "data": {
            "text/plain": [
              "edu_bachelor       346\n",
              "edu_hs_or_lower    346\n",
              "edu_college        346\n",
              "dtype: int64"
            ]
          },
          "metadata": {
            "tags": []
          },
          "execution_count": 7
        }
      ]
    },
    {
      "cell_type": "code",
      "metadata": {
        "id": "MlZn_ujCFEh1",
        "colab_type": "code",
        "outputId": "4901c53f-e3aa-4bff-ca53-3dc0d7f063a4",
        "colab": {
          "base_uri": "https://localhost:8080/",
          "height": 145
        }
      },
      "source": [
        "data.count()"
      ],
      "execution_count": 0,
      "outputs": [
        {
          "output_type": "execute_result",
          "data": {
            "text/plain": [
              "loan_status    346\n",
              "Principal      346\n",
              "terms          346\n",
              "age            346\n",
              "education      346\n",
              "Gender         346\n",
              "dtype: int64"
            ]
          },
          "metadata": {
            "tags": []
          },
          "execution_count": 8
        }
      ]
    },
    {
      "cell_type": "markdown",
      "metadata": {
        "id": "_HuxKqJeC4O8",
        "colab_type": "text"
      },
      "source": [
        "Drop education column and merge education dummies with dataset"
      ]
    },
    {
      "cell_type": "code",
      "metadata": {
        "id": "ydEWr8jkCbP7",
        "colab_type": "code",
        "outputId": "90a1a52b-0dc2-49bf-feb5-7f3d2e72a24c",
        "colab": {
          "base_uri": "https://localhost:8080/",
          "height": 362
        }
      },
      "source": [
        "x = data.drop('education', axis = 1)\n",
        "x = x.join(dummies)\n",
        "print(type(x), x.count())\n",
        "# for i in range(len(x.index)):\n",
        "#     x['edu_bachelor'][i] = dummies['edu_bachelor'][i]\n",
        "#     x['edu_hs_or_lower'][i] = dummies['edu_hs_or_lower'][i]\n",
        "#     x['edu_college'][i] = dummies['edu_college'][i]\n",
        "x.head()"
      ],
      "execution_count": 0,
      "outputs": [
        {
          "output_type": "stream",
          "text": [
            "<class 'pandas.core.frame.DataFrame'> loan_status        346\n",
            "Principal          346\n",
            "terms              346\n",
            "age                346\n",
            "Gender             346\n",
            "edu_bachelor       346\n",
            "edu_hs_or_lower    346\n",
            "edu_college        346\n",
            "dtype: int64\n"
          ],
          "name": "stdout"
        },
        {
          "output_type": "execute_result",
          "data": {
            "text/html": [
              "<div>\n",
              "<style scoped>\n",
              "    .dataframe tbody tr th:only-of-type {\n",
              "        vertical-align: middle;\n",
              "    }\n",
              "\n",
              "    .dataframe tbody tr th {\n",
              "        vertical-align: top;\n",
              "    }\n",
              "\n",
              "    .dataframe thead th {\n",
              "        text-align: right;\n",
              "    }\n",
              "</style>\n",
              "<table border=\"1\" class=\"dataframe\">\n",
              "  <thead>\n",
              "    <tr style=\"text-align: right;\">\n",
              "      <th></th>\n",
              "      <th>loan_status</th>\n",
              "      <th>Principal</th>\n",
              "      <th>terms</th>\n",
              "      <th>age</th>\n",
              "      <th>Gender</th>\n",
              "      <th>edu_bachelor</th>\n",
              "      <th>edu_hs_or_lower</th>\n",
              "      <th>edu_college</th>\n",
              "    </tr>\n",
              "  </thead>\n",
              "  <tbody>\n",
              "    <tr>\n",
              "      <th>0</th>\n",
              "      <td>1</td>\n",
              "      <td>1000</td>\n",
              "      <td>30</td>\n",
              "      <td>45</td>\n",
              "      <td>0</td>\n",
              "      <td>0.0</td>\n",
              "      <td>1.0</td>\n",
              "      <td>0.0</td>\n",
              "    </tr>\n",
              "    <tr>\n",
              "      <th>1</th>\n",
              "      <td>1</td>\n",
              "      <td>1000</td>\n",
              "      <td>30</td>\n",
              "      <td>33</td>\n",
              "      <td>1</td>\n",
              "      <td>1.0</td>\n",
              "      <td>0.0</td>\n",
              "      <td>0.0</td>\n",
              "    </tr>\n",
              "    <tr>\n",
              "      <th>2</th>\n",
              "      <td>1</td>\n",
              "      <td>1000</td>\n",
              "      <td>15</td>\n",
              "      <td>27</td>\n",
              "      <td>0</td>\n",
              "      <td>0.0</td>\n",
              "      <td>0.0</td>\n",
              "      <td>1.0</td>\n",
              "    </tr>\n",
              "    <tr>\n",
              "      <th>3</th>\n",
              "      <td>1</td>\n",
              "      <td>1000</td>\n",
              "      <td>30</td>\n",
              "      <td>28</td>\n",
              "      <td>1</td>\n",
              "      <td>0.0</td>\n",
              "      <td>0.0</td>\n",
              "      <td>1.0</td>\n",
              "    </tr>\n",
              "    <tr>\n",
              "      <th>4</th>\n",
              "      <td>1</td>\n",
              "      <td>1000</td>\n",
              "      <td>30</td>\n",
              "      <td>29</td>\n",
              "      <td>0</td>\n",
              "      <td>0.0</td>\n",
              "      <td>0.0</td>\n",
              "      <td>1.0</td>\n",
              "    </tr>\n",
              "  </tbody>\n",
              "</table>\n",
              "</div>"
            ],
            "text/plain": [
              "   loan_status  Principal  terms  ...  edu_bachelor  edu_hs_or_lower  edu_college\n",
              "0            1       1000     30  ...           0.0              1.0          0.0\n",
              "1            1       1000     30  ...           1.0              0.0          0.0\n",
              "2            1       1000     15  ...           0.0              0.0          1.0\n",
              "3            1       1000     30  ...           0.0              0.0          1.0\n",
              "4            1       1000     30  ...           0.0              0.0          1.0\n",
              "\n",
              "[5 rows x 8 columns]"
            ]
          },
          "metadata": {
            "tags": []
          },
          "execution_count": 9
        }
      ]
    },
    {
      "cell_type": "code",
      "metadata": {
        "id": "3ruwpFdoJ_-W",
        "colab_type": "code",
        "colab": {}
      },
      "source": [
        "y = x['loan_status']\n",
        "y = y.values\n",
        "x = x.drop('loan_status', axis = 1)"
      ],
      "execution_count": 0,
      "outputs": []
    },
    {
      "cell_type": "markdown",
      "metadata": {
        "id": "H83oPFMKBuWD",
        "colab_type": "text"
      },
      "source": [
        "Normalize the following columns, Principal, terms & age."
      ]
    },
    {
      "cell_type": "code",
      "metadata": {
        "id": "nnIsjzIkAhIQ",
        "colab_type": "code",
        "outputId": "f1093b65-fc3b-4125-896b-901dc35b9e81",
        "colab": {
          "base_uri": "https://localhost:8080/",
          "height": 254
        }
      },
      "source": [
        "min_max_scaler = preprocessing.MinMaxScaler()\n",
        "x_np = x.values\n",
        "x_scaled = min_max_scaler.fit_transform(x_np)\n",
        "x_scaled"
      ],
      "execution_count": 0,
      "outputs": [
        {
          "output_type": "execute_result",
          "data": {
            "text/plain": [
              "array([[1.        , 1.        , 0.81818182, ..., 0.        , 1.        ,\n",
              "        0.        ],\n",
              "       [1.        , 1.        , 0.45454545, ..., 1.        , 0.        ,\n",
              "        0.        ],\n",
              "       [1.        , 0.34782609, 0.27272727, ..., 0.        , 0.        ,\n",
              "        1.        ],\n",
              "       ...,\n",
              "       [0.71428571, 0.34782609, 0.63636364, ..., 0.        , 0.        ,\n",
              "        1.        ],\n",
              "       [1.        , 1.        , 0.3030303 , ..., 0.        , 0.        ,\n",
              "        1.        ],\n",
              "       [1.        , 1.        , 0.24242424, ..., 0.        , 0.        ,\n",
              "        1.        ]])"
            ]
          },
          "metadata": {
            "tags": []
          },
          "execution_count": 11
        }
      ]
    },
    {
      "cell_type": "markdown",
      "metadata": {
        "id": "UHMsN0MMJg3_",
        "colab_type": "text"
      },
      "source": [
        "Create training and testing data"
      ]
    },
    {
      "cell_type": "code",
      "metadata": {
        "id": "QQPZCxokJhSp",
        "colab_type": "code",
        "colab": {}
      },
      "source": [
        "from sklearn.model_selection import train_test_split\n",
        "\n",
        "x_train, x_test, y_train, y_test = train_test_split(x_scaled, y, test_size = 0.2)"
      ],
      "execution_count": 0,
      "outputs": []
    },
    {
      "cell_type": "code",
      "metadata": {
        "id": "o_OtrVuvOt69",
        "colab_type": "code",
        "colab": {}
      },
      "source": [
        "from sklearn.metrics import jaccard_score, f1_score, log_loss"
      ],
      "execution_count": 0,
      "outputs": []
    },
    {
      "cell_type": "markdown",
      "metadata": {
        "id": "kbnGOp55I5nf",
        "colab_type": "text"
      },
      "source": [
        "K-Nearest Neighbor:"
      ]
    },
    {
      "cell_type": "code",
      "metadata": {
        "id": "IDvM1CqHA1mu",
        "colab_type": "code",
        "colab": {}
      },
      "source": [
        "from sklearn.neighbors import KNeighborsClassifier\n",
        "\n",
        "def find_best_knn(k):\n",
        "    knn_predictions = []\n",
        "    for k_ in range(1, k):\n",
        "        knn = KNeighborsClassifier(n_neighbors = k_, n_jobs = -1)\n",
        "        knn.fit(x_train, y_train)\n",
        "        y_pred = knn.predict(x_test)\n",
        "        y_pred_proba = knn.predict_proba(x_test)\n",
        "        score = knn.score(x_test, y_test)\n",
        "        jaccard = jaccard_score(y_test, y_pred)\n",
        "        f1 = f1_score(y_test, y_pred)\n",
        "        knn_predictions.append([y_pred, y_pred_proba, score, jaccard, f1])\n",
        "    return knn_predictions"
      ],
      "execution_count": 0,
      "outputs": []
    },
    {
      "cell_type": "code",
      "metadata": {
        "id": "nqRnQXMKL4Ph",
        "colab_type": "code",
        "colab": {}
      },
      "source": [
        "knn_predictions = find_best_knn(20)"
      ],
      "execution_count": 0,
      "outputs": []
    },
    {
      "cell_type": "code",
      "metadata": {
        "id": "0EVrtUXyMFi8",
        "colab_type": "code",
        "outputId": "9d81a68d-49cb-41eb-98b2-85e58fee169a",
        "colab": {
          "base_uri": "https://localhost:8080/",
          "height": 35
        }
      },
      "source": [
        "knn_predictions[0][4]"
      ],
      "execution_count": 0,
      "outputs": [
        {
          "output_type": "execute_result",
          "data": {
            "text/plain": [
              "0.7346938775510203"
            ]
          },
          "metadata": {
            "tags": []
          },
          "execution_count": 52
        }
      ]
    },
    {
      "cell_type": "code",
      "metadata": {
        "id": "VUHo8iQ_Onj6",
        "colab_type": "code",
        "outputId": "ecc3e353-3ec5-4347-cd4a-33b851a7340c",
        "colab": {
          "base_uri": "https://localhost:8080/",
          "height": 295
        }
      },
      "source": [
        "plt.plot([i + 2 for i in range(len(knn_predictions))],\n",
        "         [knn_predictions[i][3] for i in range(len(knn_predictions))], label = 'Jaccard')\n",
        "plt.plot([i + 2 for i in range(len(knn_predictions))],\n",
        "         [knn_predictions[i][4] for i in range(len(knn_predictions))], label = 'F1')\n",
        "plt.title('K-nearest neighbors Jaccard & F1')\n",
        "plt.xlabel('K')\n",
        "plt.ylabel('Jaccard score / F1 Score')\n",
        "plt.ylim(0,1)\n",
        "plt.xticks([i for i in range(2, 21)])\n",
        "plt.legend()\n",
        "plt.show()"
      ],
      "execution_count": 0,
      "outputs": [
        {
          "output_type": "display_data",
          "data": {
            "image/png": "[encoded data removed]",
            "text/plain": [
              "<Figure size 432x288 with 1 Axes>"
            ]
          },
          "metadata": {
            "tags": [],
            "needs_background": "light"
          }
        }
      ]
    },
    {
      "cell_type": "markdown",
      "metadata": {
        "id": "Ddf6-pu8ObZL",
        "colab_type": "text"
      },
      "source": [
        "Decision Tree:"
      ]
    },
    {
      "cell_type": "code",
      "metadata": {
        "id": "hfu1xMsyOkiO",
        "colab_type": "code",
        "colab": {}
      },
      "source": [
        "from sklearn.tree import DecisionTreeClassifier\n",
        "\n",
        "dec_tree = DecisionTreeClassifier()\n",
        "dec_tree.fit(x_train, y_train)\n",
        "dec_tree_y_predict = dec_tree.predict(x_test)\n",
        "dec_tree_y_predict_proba = dec_tree.predict_proba(x_test)\n",
        "dec_tree_score = dec_tree.score(x_test, y_test)\n",
        "dec_tree_f1_score = f1_score(y_test, dec_tree_y_predict)\n",
        "dec_tree_jaccard_score = jaccard_score(y_test, dec_tree_y_predict)"
      ],
      "execution_count": 0,
      "outputs": []
    },
    {
      "cell_type": "code",
      "metadata": {
        "id": "Xdd6nXmJSSQ9",
        "colab_type": "code",
        "outputId": "0ea36373-853a-4391-c312-184ea19ed4f2",
        "colab": {
          "base_uri": "https://localhost:8080/",
          "height": 35
        }
      },
      "source": [
        "dec_tree_f1_score, dec_tree_jaccard_score"
      ],
      "execution_count": 0,
      "outputs": [
        {
          "output_type": "execute_result",
          "data": {
            "text/plain": [
              "(0.6947368421052631, 0.532258064516129)"
            ]
          },
          "metadata": {
            "tags": []
          },
          "execution_count": 57
        }
      ]
    },
    {
      "cell_type": "markdown",
      "metadata": {
        "id": "Gc9o72zkOdKg",
        "colab_type": "text"
      },
      "source": [
        "Support vector machine:"
      ]
    },
    {
      "cell_type": "code",
      "metadata": {
        "id": "Dsg-EXCLOlpt",
        "colab_type": "code",
        "colab": {}
      },
      "source": [
        "from sklearn.svm import SVC\n",
        "\n",
        "def test_poly_svm(poly_count):\n",
        "    poly = []\n",
        "    for p in range(poly_count):\n",
        "        svm = SVC(kernel = 'poly', degree = p)\n",
        "        svm.fit(x_train, y_train)\n",
        "        y_pred = svm.predict(x_test)\n",
        "        score = svm.score(x_test, y_test)\n",
        "        f1 = f1_score(y_test, y_pred)\n",
        "        jaccard = jaccard_score(y_test, y_pred)\n",
        "        poly.append([y_pred, score, f1, jaccard])\n",
        "    return poly\n",
        "\n",
        "def svm_kernel_test():\n",
        "    f1_ = []\n",
        "    jaccard_ = []\n",
        "    for kernel in ['linear', 'rbf', 'sigmoid']:\n",
        "        svm = SVC(kernel = kernel)\n",
        "        svm.fit(x_train, y_train)\n",
        "        y_pred = svm.predict(x_test)\n",
        "        score = svm.score(x_test, y_test)\n",
        "        f1 = f1_score(y_test, y_pred)\n",
        "        jaccard = jaccard_score(y_test, y_pred)\n",
        "        f1_.append(f1)\n",
        "        jaccard_.append(jaccard)\n",
        "    return [f1_, jaccard_]"
      ],
      "execution_count": 0,
      "outputs": []
    },
    {
      "cell_type": "code",
      "metadata": {
        "id": "96anAVmiUQ-z",
        "colab_type": "code",
        "colab": {}
      },
      "source": [
        "poly = 10\n",
        "test_poly = test_poly_svm(poly)\n",
        "kernel_comp = svm_kernel_test()"
      ],
      "execution_count": 0,
      "outputs": []
    },
    {
      "cell_type": "code",
      "metadata": {
        "id": "X-jw8iV_V6wv",
        "colab_type": "code",
        "outputId": "44414ffa-8282-4259-f4c7-b446c6e3ec17",
        "colab": {
          "base_uri": "https://localhost:8080/",
          "height": 295
        }
      },
      "source": [
        "plt.plot([i for i in range(poly)],\n",
        "         [test_poly[i][2] for i in range(len(test_poly))], label = 'F1')\n",
        "plt.plot([i for i in range(poly)],\n",
        "         [test_poly[i][3] for i in range(len(test_poly))], label = 'Jaccard')\n",
        "plt.title('SVM F1 score over poly degree')\n",
        "plt.xlabel('Poly degree')\n",
        "plt.ylabel('F1 score / Jaccard score')\n",
        "plt.ylim(0, 1)\n",
        "plt.legend()\n",
        "plt.show()"
      ],
      "execution_count": 0,
      "outputs": [
        {
          "output_type": "display_data",
          "data": {
            "image/png": "[encoded data removed]",
            "text/plain": [
              "<Figure size 432x288 with 1 Axes>"
            ]
          },
          "metadata": {
            "tags": [],
            "needs_background": "light"
          }
        }
      ]
    },
    {
      "cell_type": "code",
      "metadata": {
        "id": "n-nGhJ2wci3p",
        "colab_type": "code",
        "outputId": "5b5c631b-1730-4859-8cda-c4af7214ff32",
        "colab": {
          "base_uri": "https://localhost:8080/",
          "height": 54
        }
      },
      "source": [
        "(kernel_comp)"
      ],
      "execution_count": 0,
      "outputs": [
        {
          "output_type": "execute_result",
          "data": {
            "text/plain": [
              "[[0.8617886178861789, 0.8617886178861789, 0.8429752066115702],\n",
              " [0.7571428571428571, 0.7571428571428571, 0.7285714285714285]]"
            ]
          },
          "metadata": {
            "tags": []
          },
          "execution_count": 94
        }
      ]
    },
    {
      "cell_type": "code",
      "metadata": {
        "id": "hfJtNwAxYWkj",
        "colab_type": "code",
        "outputId": "5741942f-198a-41c3-a7e7-1b42366f00e2",
        "colab": {
          "base_uri": "https://localhost:8080/",
          "height": 295
        }
      },
      "source": [
        "# plt.bar(0 - 2, [f for f in kernel_comp[0]], label = 'Jaccard')\n",
        "# plt.bar(0, [j for j in kernel_comp[1]], label = 'F1')\n",
        "# plt.title('Linear, RBF, Sigmoid SVMs')\n",
        "# plt.ylabel('Score')\n",
        "# plt.legend()\n",
        "# plt.xticks(ticks = ['Linear', 'RBF', 'Sigmoid'])\n",
        "# plt.show()\n",
        "\n",
        "plt.plot([i for i in range(3)],\n",
        "         [f for f in kernel_comp[1]], label = 'F1')\n",
        "plt.plot([i for i in range(3)],\n",
        "         [f for f in kernel_comp[0]], label = 'Jaccard')\n",
        "plt.title('SVM F1 score over poly degree')\n",
        "plt.xlabel('Linear, RBF, Sigmoid')\n",
        "plt.ylabel('F1 score / Jaccard score')\n",
        "plt.ylim(0, 1)\n",
        "plt.legend()\n",
        "plt.show()"
      ],
      "execution_count": 0,
      "outputs": [
        {
          "output_type": "display_data",
          "data": {
            "image/png": "[encoded data removed]",
            "text/plain": [
              "<Figure size 432x288 with 1 Axes>"
            ]
          },
          "metadata": {
            "tags": [],
            "needs_background": "light"
          }
        }
      ]
    },
    {
      "cell_type": "markdown",
      "metadata": {
        "id": "SvRJFOgXOgKH",
        "colab_type": "text"
      },
      "source": [
        "Logistic regression:"
      ]
    },
    {
      "cell_type": "code",
      "metadata": {
        "id": "7tIvQrC_OmAD",
        "colab_type": "code",
        "colab": {}
      },
      "source": [
        "from sklearn.linear_model import LogisticRegression\n",
        "from sklearn.metrics import log_loss\n",
        "\n",
        "log_reg_solvers = ['newton-cg', 'lbfgs', 'liblinear', 'sag', 'saga']\n",
        "\n",
        "def test_log_reg():\n",
        "    f1_ = []\n",
        "    jaccard_ = []\n",
        "    log_loss_ = []\n",
        "    for solver in log_reg_solvers:\n",
        "        log_reg = LogisticRegression(solver = solver, n_jobs = -1)\n",
        "        log_reg.fit(x_train, y_train)\n",
        "        y_pred = log_reg.predict(x_test)\n",
        "        f1 = f1_score(y_test, y_pred)\n",
        "        jaccard = jaccard_score(y_test, y_pred)\n",
        "        l_loss = log_loss(y_test, y_pred)\n",
        "        f1_.append(f1)\n",
        "        jaccard_.append(jaccard)\n",
        "        log_loss_.append(l_loss)\n",
        "    return [f1_, jaccard_, log_loss_]"
      ],
      "execution_count": 0,
      "outputs": []
    },
    {
      "cell_type": "code",
      "metadata": {
        "id": "vFEEjyoBgHDP",
        "colab_type": "code",
        "outputId": "e102bd93-2542-4004-be75-de6a14dfc8fa",
        "colab": {
          "base_uri": "https://localhost:8080/",
          "height": 346
        }
      },
      "source": [
        "log_reg_scores = test_log_reg()\n",
        "log_reg_scores"
      ],
      "execution_count": 0,
      "outputs": [
        {
          "output_type": "stream",
          "text": [
            "/usr/local/lib/python3.6/dist-packages/sklearn/linear_model/_logistic.py:1539: UserWarning: 'n_jobs' > 1 does not have any effect when 'solver' is set to 'liblinear'. Got 'n_jobs' = 2.\n",
            "  \" = {}.\".format(effective_n_jobs(self.n_jobs)))\n"
          ],
          "name": "stderr"
        },
        {
          "output_type": "execute_result",
          "data": {
            "text/plain": [
              "[[0.8617886178861789,\n",
              "  0.8617886178861789,\n",
              "  0.8617886178861789,\n",
              "  0.8617886178861789,\n",
              "  0.8617886178861789],\n",
              " [0.7571428571428571,\n",
              "  0.7571428571428571,\n",
              "  0.7571428571428571,\n",
              "  0.7571428571428571,\n",
              "  0.7571428571428571],\n",
              " [8.388182740997072,\n",
              "  8.388182740997072,\n",
              "  8.388182740997072,\n",
              "  8.388182740997072,\n",
              "  8.388182740997072]]"
            ]
          },
          "metadata": {
            "tags": []
          },
          "execution_count": 133
        }
      ]
    },
    {
      "cell_type": "code",
      "metadata": {
        "id": "R_9_8yEzMnNO",
        "colab_type": "code",
        "outputId": "656531db-ae8d-4586-8020-c7dcb85289d4",
        "colab": {
          "base_uri": "https://localhost:8080/",
          "height": 281
        }
      },
      "source": [
        "plt.plot([i for i in range(5)],\n",
        "         [f for f in log_reg_scores[0]], label = 'F1')\n",
        "plt.plot([i for i in range(5)],\n",
        "         [j for j in log_reg_scores[1]], label = 'Jaccard')\n",
        "plt.plot([i for i in range(5)],\n",
        "         [l for l in log_reg_scores[2]], label = 'Log loss')\n",
        "plt.title('Solvers')\n",
        "plt.xlabel('')\n",
        "# plt.ylim(0, 1)\n",
        "plt.legend()\n",
        "plt.show()"
      ],
      "execution_count": 0,
      "outputs": [
        {
          "output_type": "display_data",
          "data": {
            "image/png": "[encoded data removed]",
            "text/plain": [
              "<Figure size 432x288 with 1 Axes>"
            ]
          },
          "metadata": {
            "tags": [],
            "needs_background": "light"
          }
        }
      ]
    },
    {
      "cell_type": "code",
      "metadata": {
        "id": "u_0L07x7gZRu",
        "colab_type": "code",
        "colab": {}
      },
      "source": [
        ""
      ],
      "execution_count": 0,
      "outputs": []
    }
  ]
}