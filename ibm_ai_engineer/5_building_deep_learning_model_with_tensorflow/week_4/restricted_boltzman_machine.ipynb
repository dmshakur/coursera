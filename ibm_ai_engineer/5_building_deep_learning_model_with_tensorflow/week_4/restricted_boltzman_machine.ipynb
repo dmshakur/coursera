{
 "cells": [
  {
   "cell_type": "code",
   "execution_count": 1,
   "metadata": {},
   "outputs": [],
   "source": [
    "import urllib.request\n",
    "with urllib.request.urlopen(\"http://deeplearning.net/tutorial/code/utils.py\") as url:\n",
    "    response = url.read()\n",
    "target = open('utils.py', 'w')\n",
    "target.write(response.decode('utf-8'))\n",
    "target.close()"
   ]
  },
  {
   "cell_type": "code",
   "execution_count": 2,
   "metadata": {},
   "outputs": [],
   "source": [
    "import tensorflow as tf\n",
    "import numpy as np\n",
    "from tensorflow.examples.tutorials.mnist import input_data\n",
    "from PIL import Image\n",
    "from utils import tile_raster_images\n",
    "import matplotlib.pyplot as plt"
   ]
  },
  {
   "cell_type": "code",
   "execution_count": 3,
   "metadata": {},
   "outputs": [],
   "source": [
    "v_bias = tf.placeholder('float', [7])\n",
    "h_bias = tf.placeholder('float', [2])"
   ]
  },
  {
   "cell_type": "code",
   "execution_count": 4,
   "metadata": {},
   "outputs": [],
   "source": [
    "w = tf.constant(np.random.normal(loc = 0.0, scale = 1.0, size = (7, 2)).astype(np.float32))"
   ]
  },
  {
   "cell_type": "code",
   "execution_count": 7,
   "metadata": {},
   "outputs": [
    {
     "name": "stdout",
     "output_type": "stream",
     "text": [
      "input [[1. 0. 0. 1. 0. 0. 0.]]\n",
      "hb:  [0.2 0.1]\n",
      "w:  [[-0.66977453 -0.1720476 ]\n",
      " [-0.27142283 -0.68606114]\n",
      " [-0.5107691   0.23005682]\n",
      " [ 0.42924896  1.127393  ]\n",
      " [ 1.9810048  -2.0872593 ]\n",
      " [-0.4230628  -0.01211898]\n",
      " [ 1.0891845   0.3114079 ]]\n",
      "p(h|v):  [[0.48986998 0.74180007]]\n",
      "h0 states:  [[1. 1.]]\n"
     ]
    }
   ],
   "source": [
    "sess = tf.Session()\n",
    "x = tf.constant([[1.0, 0.0, 0.0, 1.0, 0.0, 0.0, 0.0]])\n",
    "v_state = x\n",
    "print('input', sess.run(v_state))\n",
    "h_bias = tf.constant([0.2, 0.1])\n",
    "print('hb: ', sess.run(h_bias))\n",
    "print('w: ', sess.run(w))\n",
    "h_prob = tf.nn.sigmoid(tf.matmul(v_state, w) + h_bias)\n",
    "print('p(h|v): ', sess.run(h_prob))\n",
    "h_state = tf.nn.relu(tf.sign(h_prob - tf.random_uniform(tf.shape(h_prob))))\n",
    "print('h0 states: ', sess.run(h_state))"
   ]
  },
  {
   "cell_type": "code",
   "execution_count": 8,
   "metadata": {},
   "outputs": [
    {
     "name": "stdout",
     "output_type": "stream",
     "text": [
      "b:  [0.1 0.2 0.1 0.1 0.1 0.2 0.1]\n",
      "p(vi|h):  [[0.32260585 0.31919277 0.4549445  0.83978677 0.49843636 0.44147408\n",
      "  0.81766284]]\n",
      "v probability states:  [[1. 0. 0. 1. 0. 0. 1.]]\n"
     ]
    }
   ],
   "source": [
    "vb = tf.constant([0.1, 0.2, 0.1, 0.1, 0.1, 0.2, 0.1])\n",
    "print('b: ', sess.run(vb))\n",
    "v_prob = sess.run(tf.nn.sigmoid(tf.matmul(h_state, tf.transpose(w)) + vb))\n",
    "print('p(vi|h): ', v_prob)\n",
    "v_state = tf.nn.relu(tf.sign(v_prob - tf.random_uniform(tf.shape(v_prob))))\n",
    "print('v probability states: ', sess.run(v_state))"
   ]
  },
  {
   "cell_type": "code",
   "execution_count": 9,
   "metadata": {},
   "outputs": [
    {
     "name": "stdout",
     "output_type": "stream",
     "text": [
      "Tensor(\"Const_4:0\", shape=(1, 7), dtype=float32)\n",
      "[0.32260585 0.31919277 0.4549445  0.83978677 0.49843636 0.44147408\n",
      " 0.81766284]\n"
     ]
    },
    {
     "data": {
      "text/plain": [
       "0.005135121601531439"
      ]
     },
     "execution_count": 9,
     "metadata": {},
     "output_type": "execute_result"
    }
   ],
   "source": [
    "inp = sess.run(x)\n",
    "print(x)\n",
    "print(v_prob[0])\n",
    "v_probability = 1\n",
    "for el, p in zip(inp[0], v_prob[0]):\n",
    "    if el == 1:\n",
    "        v_probability *= p\n",
    "    else:\n",
    "        v_probability *= (1 - p)\n",
    "v_probability"
   ]
  },
  {
   "cell_type": "code",
   "execution_count": 10,
   "metadata": {},
   "outputs": [
    {
     "name": "stdout",
     "output_type": "stream",
     "text": [
      "WARNING:tensorflow:From <ipython-input-10-f087ded6397b>:1: read_data_sets (from tensorflow.contrib.learn.python.learn.datasets.mnist) is deprecated and will be removed in a future version.\n",
      "Instructions for updating:\n",
      "Please use alternatives such as official/mnist/dataset.py from tensorflow/models.\n",
      "WARNING:tensorflow:From C:\\Source-Files\\anaconda3\\envs\\old_tensorflow_1.15\\lib\\site-packages\\tensorflow_core\\contrib\\learn\\python\\learn\\datasets\\mnist.py:260: maybe_download (from tensorflow.contrib.learn.python.learn.datasets.base) is deprecated and will be removed in a future version.\n",
      "Instructions for updating:\n",
      "Please write your own downloading logic.\n",
      "WARNING:tensorflow:From C:\\Source-Files\\anaconda3\\envs\\old_tensorflow_1.15\\lib\\site-packages\\tensorflow_core\\contrib\\learn\\python\\learn\\datasets\\base.py:252: _internal_retry.<locals>.wrap.<locals>.wrapped_fn (from tensorflow.contrib.learn.python.learn.datasets.base) is deprecated and will be removed in a future version.\n",
      "Instructions for updating:\n",
      "Please use urllib or similar directly.\n",
      "Successfully downloaded train-images-idx3-ubyte.gz 9912422 bytes.\n",
      "WARNING:tensorflow:From C:\\Source-Files\\anaconda3\\envs\\old_tensorflow_1.15\\lib\\site-packages\\tensorflow_core\\contrib\\learn\\python\\learn\\datasets\\mnist.py:262: extract_images (from tensorflow.contrib.learn.python.learn.datasets.mnist) is deprecated and will be removed in a future version.\n",
      "Instructions for updating:\n",
      "Please use tf.data to implement this functionality.\n",
      "Extracting MNIST_data/train-images-idx3-ubyte.gz\n",
      "Successfully downloaded train-labels-idx1-ubyte.gz 28881 bytes.\n",
      "WARNING:tensorflow:From C:\\Source-Files\\anaconda3\\envs\\old_tensorflow_1.15\\lib\\site-packages\\tensorflow_core\\contrib\\learn\\python\\learn\\datasets\\mnist.py:267: extract_labels (from tensorflow.contrib.learn.python.learn.datasets.mnist) is deprecated and will be removed in a future version.\n",
      "Instructions for updating:\n",
      "Please use tf.data to implement this functionality.\n",
      "Extracting MNIST_data/train-labels-idx1-ubyte.gz\n",
      "WARNING:tensorflow:From C:\\Source-Files\\anaconda3\\envs\\old_tensorflow_1.15\\lib\\site-packages\\tensorflow_core\\contrib\\learn\\python\\learn\\datasets\\mnist.py:110: dense_to_one_hot (from tensorflow.contrib.learn.python.learn.datasets.mnist) is deprecated and will be removed in a future version.\n",
      "Instructions for updating:\n",
      "Please use tf.one_hot on tensors.\n",
      "Successfully downloaded t10k-images-idx3-ubyte.gz 1648877 bytes.\n",
      "Extracting MNIST_data/t10k-images-idx3-ubyte.gz\n",
      "Successfully downloaded t10k-labels-idx1-ubyte.gz 4542 bytes.\n",
      "Extracting MNIST_data/t10k-labels-idx1-ubyte.gz\n",
      "WARNING:tensorflow:From C:\\Source-Files\\anaconda3\\envs\\old_tensorflow_1.15\\lib\\site-packages\\tensorflow_core\\contrib\\learn\\python\\learn\\datasets\\mnist.py:290: DataSet.__init__ (from tensorflow.contrib.learn.python.learn.datasets.mnist) is deprecated and will be removed in a future version.\n",
      "Instructions for updating:\n",
      "Please use alternatives such as official/mnist/dataset.py from tensorflow/models.\n"
     ]
    }
   ],
   "source": [
    "mnist = input_data.read_data_sets('MNIST_data/', one_hot = True)\n",
    "x_train, y_train, x_test, y_test = mnist.train.images, mnist.train.labels, mnist.test.images, mnist.test.labels"
   ]
  },
  {
   "cell_type": "code",
   "execution_count": 11,
   "metadata": {},
   "outputs": [
    {
     "data": {
      "text/plain": [
       "(784,)"
      ]
     },
     "execution_count": 11,
     "metadata": {},
     "output_type": "execute_result"
    }
   ],
   "source": [
    "x_train[1].shape"
   ]
  },
  {
   "cell_type": "code",
   "execution_count": 12,
   "metadata": {},
   "outputs": [],
   "source": [
    "vb = tf.placeholder('float', [784])\n",
    "hb = tf.placeholder('float', [50])"
   ]
  },
  {
   "cell_type": "code",
   "execution_count": 13,
   "metadata": {},
   "outputs": [],
   "source": [
    "w = tf.placeholder('float', [784, 50])"
   ]
  },
  {
   "cell_type": "code",
   "execution_count": 14,
   "metadata": {},
   "outputs": [],
   "source": [
    "v0_state = tf.placeholder('float', [None, 784])"
   ]
  },
  {
   "cell_type": "code",
   "execution_count": 16,
   "metadata": {},
   "outputs": [],
   "source": [
    "h0_prob = tf.nn.sigmoid(tf.matmul(v0_state, w) + hb)\n",
    "h0_state = tf.nn.relu(tf.sign(h0_prob - tf.random_uniform(tf.shape(h0_prob))))"
   ]
  },
  {
   "cell_type": "code",
   "execution_count": 19,
   "metadata": {},
   "outputs": [],
   "source": [
    "v1_prob = tf.nn.sigmoid(tf.matmul(h0_state, tf.transpose(w)) + vb) \n",
    "v1_state = tf.nn.relu(tf.sign(v1_prob - tf.random_uniform(tf.shape(v1_prob))))"
   ]
  },
  {
   "cell_type": "code",
   "execution_count": 20,
   "metadata": {},
   "outputs": [],
   "source": [
    "err = tf.reduce_mean(tf.square(v0_state - v1_state))"
   ]
  },
  {
   "cell_type": "code",
   "execution_count": 21,
   "metadata": {},
   "outputs": [],
   "source": [
    "h1_prob = tf.nn.sigmoid(tf.matmul(v1_state, w) + hb)\n",
    "h1_state = tf.nn.relu(tf.sign(h1_prob - tf.random_uniform(tf.shape(h1_prob))))"
   ]
  },
  {
   "cell_type": "code",
   "execution_count": 23,
   "metadata": {},
   "outputs": [],
   "source": [
    "alpha = 0.01\n",
    "w_delta = tf.matmul(tf.transpose(v0_state), h0_prob) - tf.matmul(tf.transpose(v1_state), h1_prob)\n",
    "update_w = w + alpha * w_delta\n",
    "update_vb = vb + alpha * tf.reduce_mean(v0_state - v1_state, 0)\n",
    "update_hb = hb + alpha * tf.reduce_mean(h0_state - h1_state, 0)"
   ]
  },
  {
   "cell_type": "code",
   "execution_count": 24,
   "metadata": {},
   "outputs": [],
   "source": [
    "cur_w = np.zeros([784, 50], np.float32)\n",
    "cur_vb = np.zeros([784], np.float32)\n",
    "cur_hb = np.zeros([50], np.float32)\n",
    "prv_w = np.zeros([784, 50], np.float32)\n",
    "prv_vb = np.zeros([784], np.float32)\n",
    "prv_hb = np.zeros([50], np.float32)\n",
    "sess = tf.Session()\n",
    "init = tf.global_variables_initializer()\n",
    "sess.run(init)"
   ]
  },
  {
   "cell_type": "code",
   "execution_count": 25,
   "metadata": {},
   "outputs": [
    {
     "data": {
      "text/plain": [
       "0.48139247"
      ]
     },
     "execution_count": 25,
     "metadata": {},
     "output_type": "execute_result"
    }
   ],
   "source": [
    "sess.run(err, feed_dict = {v0_state: x_train, w: prv_w, vb: prv_vb, hb: prv_hb})"
   ]
  },
  {
   "cell_type": "code",
   "execution_count": 29,
   "metadata": {},
   "outputs": [
    {
     "name": "stdout",
     "output_type": "stream",
     "text": [
      "Epoch: 0 reconstruction error: 0.087152\n",
      "Epoch: 1 reconstruction error: 0.082891\n",
      "Epoch: 2 reconstruction error: 0.081651\n",
      "Epoch: 3 reconstruction error: 0.081134\n",
      "Epoch: 4 reconstruction error: 0.080965\n"
     ]
    },
    {
     "data": {
      "image/png": "[encoded data removed]",
      "text/plain": [
       "<Figure size 432x288 with 1 Axes>"
      ]
     },
     "metadata": {
      "needs_background": "light"
     },
     "output_type": "display_data"
    }
   ],
   "source": [
    "epochs = 5\n",
    "batch_size = 100\n",
    "weights = []\n",
    "errors = []\n",
    "\n",
    "for epoch in range(epochs):\n",
    "    for start, end in zip(range(0, len(x_train), batch_size), range(batch_size, len(x_train), batch_size)):\n",
    "        batch = x_train[start:end]\n",
    "        cur_w = sess.run(update_w, feed_dict={ v0_state: batch, w: prv_w, vb: prv_vb, hb: prv_hb})\n",
    "        cur_vb = sess.run(update_vb, feed_dict={v0_state: batch, w: prv_w, vb: prv_vb, hb: prv_hb})\n",
    "        cur_hb = sess.run(update_hb, feed_dict={ v0_state: batch, w: prv_w, vb: prv_vb, hb: prv_hb})\n",
    "        prv_w = cur_w\n",
    "        prv_vb = cur_vb\n",
    "        prv_hb = cur_hb\n",
    "        if start % 10000 == 0:\n",
    "            errors.append(sess.run(err, feed_dict = {v0_state: x_train, w: cur_w, vb: cur_vb, hb: cur_hb}))\n",
    "            weights.append(cur_w)\n",
    "    print('Epoch: %d' % epoch, 'reconstruction error: %f' % errors[-1])\n",
    "plt.plot(errors)\n",
    "plt.xlabel('batch number')\n",
    "plt.ylabel('error')\n",
    "plt.show()"
   ]
  },
  {
   "cell_type": "code",
   "execution_count": 30,
   "metadata": {},
   "outputs": [
    {
     "name": "stdout",
     "output_type": "stream",
     "text": [
      "[[-0.82343286 -1.0164698  -0.8695649  ... -0.9866267  -0.9197342\n",
      "  -0.9197402 ]\n",
      " [-0.76028216 -0.7721789  -0.71227115 ... -0.75969607 -0.74126744\n",
      "  -0.76791966]\n",
      " [-0.23708156 -0.23047458 -0.23809233 ... -0.26517186 -0.23849803\n",
      "  -0.21446267]\n",
      " ...\n",
      " [-0.3779449  -0.38094932 -0.42214185 ... -0.45181018 -0.39928144\n",
      "  -0.3554327 ]\n",
      " [-1.6384125  -1.7082527  -1.6840634  ... -1.5767587  -1.6256353\n",
      "  -1.6712638 ]\n",
      " [-1.5670893  -1.5159016  -1.6149038  ... -1.646359   -1.6837318\n",
      "  -1.8233783 ]]\n"
     ]
    }
   ],
   "source": [
    "uw = weights[-1].T\n",
    "print(uw)"
   ]
  },
  {
   "cell_type": "code",
   "execution_count": 36,
   "metadata": {},
   "outputs": [
    {
     "ename": "TypeError",
     "evalue": "tile_raster_images() got an unexpected keyword argument 'x'",
     "output_type": "error",
     "traceback": [
      "\u001b[1;31m---------------------------------------------------------------------------\u001b[0m",
      "\u001b[1;31mTypeError\u001b[0m                                 Traceback (most recent call last)",
      "\u001b[1;32m<ipython-input-36-255a1b8cf59a>\u001b[0m in \u001b[0;36m<module>\u001b[1;34m\u001b[0m\n\u001b[0;32m      1\u001b[0m \u001b[0mtile_raster_images\u001b[0m\u001b[1;33m(\u001b[0m\u001b[0mX\u001b[0m \u001b[1;33m=\u001b[0m \u001b[0mcur_w\u001b[0m\u001b[1;33m.\u001b[0m\u001b[0mT\u001b[0m\u001b[1;33m,\u001b[0m \u001b[0mimg_shape\u001b[0m \u001b[1;33m=\u001b[0m \u001b[1;33m(\u001b[0m\u001b[1;36m28\u001b[0m\u001b[1;33m,\u001b[0m \u001b[1;36m28\u001b[0m\u001b[1;33m)\u001b[0m\u001b[1;33m,\u001b[0m \u001b[0mtile_shape\u001b[0m \u001b[1;33m=\u001b[0m \u001b[1;33m(\u001b[0m\u001b[1;36m5\u001b[0m\u001b[1;33m,\u001b[0m \u001b[1;36m10\u001b[0m\u001b[1;33m)\u001b[0m\u001b[1;33m,\u001b[0m \u001b[0mtile_spacing\u001b[0m \u001b[1;33m=\u001b[0m \u001b[1;33m(\u001b[0m\u001b[1;36m1\u001b[0m\u001b[1;33m,\u001b[0m \u001b[1;36m1\u001b[0m\u001b[1;33m)\u001b[0m\u001b[1;33m)\u001b[0m\u001b[1;33m\u001b[0m\u001b[1;33m\u001b[0m\u001b[0m\n\u001b[1;32m----> 2\u001b[1;33m \u001b[0mimage\u001b[0m \u001b[1;33m=\u001b[0m \u001b[0mImage\u001b[0m\u001b[1;33m.\u001b[0m\u001b[0mfromarray\u001b[0m\u001b[1;33m(\u001b[0m\u001b[0mtile_raster_images\u001b[0m\u001b[1;33m(\u001b[0m\u001b[0mx\u001b[0m \u001b[1;33m=\u001b[0m \u001b[0mcur_w\u001b[0m\u001b[1;33m.\u001b[0m\u001b[0mT\u001b[0m\u001b[1;33m,\u001b[0m \u001b[0mimg_shape\u001b[0m \u001b[1;33m=\u001b[0m \u001b[1;33m(\u001b[0m\u001b[1;36m28\u001b[0m\u001b[1;33m,\u001b[0m \u001b[1;36m28\u001b[0m\u001b[1;33m)\u001b[0m\u001b[1;33m,\u001b[0m \u001b[0mtile_shape\u001b[0m \u001b[1;33m=\u001b[0m \u001b[1;33m(\u001b[0m\u001b[1;36m5\u001b[0m\u001b[1;33m,\u001b[0m \u001b[1;36m10\u001b[0m\u001b[1;33m)\u001b[0m\u001b[1;33m,\u001b[0m \u001b[0mtile_spacing\u001b[0m \u001b[1;33m=\u001b[0m \u001b[1;33m(\u001b[0m\u001b[1;36m1\u001b[0m\u001b[1;33m,\u001b[0m \u001b[1;36m1\u001b[0m\u001b[1;33m)\u001b[0m\u001b[1;33m)\u001b[0m\u001b[1;33m)\u001b[0m\u001b[1;33m\u001b[0m\u001b[1;33m\u001b[0m\u001b[0m\n\u001b[0m\u001b[0;32m      3\u001b[0m \u001b[0mplt\u001b[0m\u001b[1;33m.\u001b[0m\u001b[0mrcParams\u001b[0m\u001b[1;33m[\u001b[0m\u001b[1;34m'figure.figsize'\u001b[0m\u001b[1;33m]\u001b[0m \u001b[1;33m=\u001b[0m \u001b[1;33m(\u001b[0m\u001b[1;36m18.0\u001b[0m\u001b[1;33m,\u001b[0m \u001b[1;36m18.0\u001b[0m\u001b[1;33m)\u001b[0m\u001b[1;33m\u001b[0m\u001b[1;33m\u001b[0m\u001b[0m\n\u001b[0;32m      4\u001b[0m \u001b[0mimgplot\u001b[0m \u001b[1;33m=\u001b[0m \u001b[0mplt\u001b[0m\u001b[1;33m.\u001b[0m\u001b[0mimshow\u001b[0m\u001b[1;33m(\u001b[0m\u001b[0mimage\u001b[0m\u001b[1;33m)\u001b[0m\u001b[1;33m\u001b[0m\u001b[1;33m\u001b[0m\u001b[0m\n\u001b[0;32m      5\u001b[0m \u001b[0mimgplot\u001b[0m\u001b[1;33m.\u001b[0m\u001b[0mset_cmap\u001b[0m\u001b[1;33m(\u001b[0m\u001b[1;34m'gray'\u001b[0m\u001b[1;33m)\u001b[0m\u001b[1;33m\u001b[0m\u001b[1;33m\u001b[0m\u001b[0m\n",
      "\u001b[1;31mTypeError\u001b[0m: tile_raster_images() got an unexpected keyword argument 'x'"
     ]
    }
   ],
   "source": [
    "tile_raster_images(X = cur_w.T, img_shape = (28, 28), tile_shape = (5, 10), tile_spacing = (1, 1))\n",
    "image = Image.fromarray(tile_raster_images(x = cur_w.T, img_shape = (28, 28), tile_shape = (5, 10), tile_spacing = (1, 1)))\n",
    "plt.rcParams['figure.figsize'] = (18.0, 18.0)\n",
    "imgplot = plt.imshow(image)\n",
    "imgplot.set_cmap('gray')"
   ]
  },
  {
   "cell_type": "code",
   "execution_count": null,
   "metadata": {},
   "outputs": [],
   "source": []
  },
  {
   "cell_type": "code",
   "execution_count": null,
   "metadata": {},
   "outputs": [],
   "source": []
  },
  {
   "cell_type": "code",
   "execution_count": null,
   "metadata": {},
   "outputs": [],
   "source": []
  }
 ],
 "metadata": {
  "kernelspec": {
   "display_name": "Python 3",
   "language": "python",
   "name": "python3"
  },
  "language_info": {
   "codemirror_mode": {
    "name": "ipython",
    "version": 3
   },
   "file_extension": ".py",
   "mimetype": "text/x-python",
   "name": "python",
   "nbconvert_exporter": "python",
   "pygments_lexer": "ipython3",
   "version": "3.7.7"
  }
 },
 "nbformat": 4,
 "nbformat_minor": 4
}
