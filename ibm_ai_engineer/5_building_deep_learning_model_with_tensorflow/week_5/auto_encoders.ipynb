{
 "cells": [
  {
   "cell_type": "code",
   "execution_count": 11,
   "metadata": {},
   "outputs": [
    {
     "name": "stdout",
     "output_type": "stream",
     "text": [
      "Extracting /tmp/data/train-images-idx3-ubyte.gz\n",
      "Extracting /tmp/data/train-labels-idx1-ubyte.gz\n",
      "Extracting /tmp/data/t10k-images-idx3-ubyte.gz\n",
      "Extracting /tmp/data/t10k-labels-idx1-ubyte.gz\n"
     ]
    }
   ],
   "source": [
    "import tensorflow as tf\n",
    "import numpy as np\n",
    "import matplotlib.pyplot as plt\n",
    "%matplotlib inline\n",
    "\n",
    "from tensorflow.examples.tutorials.mnist import input_data\n",
    "mnist = input_data.read_data_sets('/tmp/data/', one_hot = True)"
   ]
  },
  {
   "cell_type": "code",
   "execution_count": 12,
   "metadata": {},
   "outputs": [],
   "source": [
    "learning_rate = 0.01\n",
    "training_epochs = 20\n",
    "batch_size = 256\n",
    "display_step = 1\n",
    "examples_to_show = 10\n",
    "\n",
    "n_hidden_1 = 256\n",
    "n_hidden_2 = 128\n",
    "n_input = 784\n",
    "\n",
    "x = tf.placeholder('float', [None, n_input])\n",
    "\n",
    "weights = {\n",
    "    'encoder_h1': tf.Variable(tf.random_normal([n_input, n_hidden_1])),\n",
    "    'encoder_h2': tf.Variable(tf.random_normal([n_hidden_1, n_hidden_2])),\n",
    "    'decoder_h1': tf.Variable(tf.random_normal([n_hidden_2, n_hidden_1])),\n",
    "    'decoder_h2': tf.Variable(tf.random_normal([n_hidden_1, n_input])),\n",
    "}\n",
    "biases = {\n",
    "    'encoder_b1': tf.Variable(tf.random_normal([n_hidden_1])),\n",
    "    'encoder_b2': tf.Variable(tf.random_normal([n_hidden_2])),\n",
    "    'decoder_b1': tf.Variable(tf.random_normal([n_hidden_1])),\n",
    "    'decoder_b2': tf.Variable(tf.random_normal([n_input])),\n",
    "}"
   ]
  },
  {
   "cell_type": "code",
   "execution_count": 13,
   "metadata": {},
   "outputs": [],
   "source": [
    "def encoder(x):\n",
    "    layer_1 = tf.nn.sigmoid(tf.add(tf.matmul(x, weights['encoder_h1']), biases['encoder_b1']))\n",
    "    layer_2 = tf.nn.sigmoid(tf.add(tf.matmul(layer_1, weights['encoder_h2']), biases['encoder_b2']))\n",
    "    return layer_2"
   ]
  },
  {
   "cell_type": "code",
   "execution_count": 14,
   "metadata": {},
   "outputs": [],
   "source": [
    "def decoder(x):\n",
    "    layer_1 = tf.nn.sigmoid(tf.add(tf.matmul(x, weights['decoder_h1']), biases['decoder_b1']))\n",
    "    layer_2 = tf.nn.sigmoid(tf.add(tf.matmul(layer_1, weights['decoder_h2']), biases['decoder_b2']))\n",
    "    return layer_2"
   ]
  },
  {
   "cell_type": "code",
   "execution_count": 15,
   "metadata": {},
   "outputs": [],
   "source": [
    "encoder_op = encoder(x)\n",
    "decoder_op = decoder(encoder_op)\n",
    "\n",
    "y_pred = decoder_op\n",
    "y_true = x\n",
    "cost = tf.reduce_mean(tf.pow(y_true - y_pred, 2))\n",
    "optimizer = tf.train.RMSPropOptimizer(learning_rate).minimize(cost)\n",
    "init = tf.global_variables_initializer()"
   ]
  },
  {
   "cell_type": "code",
   "execution_count": 18,
   "metadata": {},
   "outputs": [
    {
     "name": "stdout",
     "output_type": "stream",
     "text": [
      "Epoch: 1 cost =  Tensor(\"Placeholder_2:0\", shape=(?, 784), dtype=float32)\n",
      "Epoch: 2 cost =  Tensor(\"Placeholder_2:0\", shape=(?, 784), dtype=float32)\n",
      "Epoch: 3 cost =  Tensor(\"Placeholder_2:0\", shape=(?, 784), dtype=float32)\n",
      "Epoch: 4 cost =  Tensor(\"Placeholder_2:0\", shape=(?, 784), dtype=float32)\n",
      "Epoch: 5 cost =  Tensor(\"Placeholder_2:0\", shape=(?, 784), dtype=float32)\n",
      "Epoch: 6 cost =  Tensor(\"Placeholder_2:0\", shape=(?, 784), dtype=float32)\n",
      "Epoch: 7 cost =  Tensor(\"Placeholder_2:0\", shape=(?, 784), dtype=float32)\n",
      "Epoch: 8 cost =  Tensor(\"Placeholder_2:0\", shape=(?, 784), dtype=float32)\n",
      "Epoch: 9 cost =  Tensor(\"Placeholder_2:0\", shape=(?, 784), dtype=float32)\n",
      "Epoch: 10 cost =  Tensor(\"Placeholder_2:0\", shape=(?, 784), dtype=float32)\n",
      "Epoch: 11 cost =  Tensor(\"Placeholder_2:0\", shape=(?, 784), dtype=float32)\n",
      "Epoch: 12 cost =  Tensor(\"Placeholder_2:0\", shape=(?, 784), dtype=float32)\n",
      "Epoch: 13 cost =  Tensor(\"Placeholder_2:0\", shape=(?, 784), dtype=float32)\n",
      "Epoch: 14 cost =  Tensor(\"Placeholder_2:0\", shape=(?, 784), dtype=float32)\n",
      "Epoch: 15 cost =  Tensor(\"Placeholder_2:0\", shape=(?, 784), dtype=float32)\n",
      "Epoch: 16 cost =  Tensor(\"Placeholder_2:0\", shape=(?, 784), dtype=float32)\n",
      "Epoch: 17 cost =  Tensor(\"Placeholder_2:0\", shape=(?, 784), dtype=float32)\n",
      "Epoch: 18 cost =  Tensor(\"Placeholder_2:0\", shape=(?, 784), dtype=float32)\n",
      "Epoch: 19 cost =  Tensor(\"Placeholder_2:0\", shape=(?, 784), dtype=float32)\n",
      "Epoch: 20 cost =  Tensor(\"Placeholder_2:0\", shape=(?, 784), dtype=float32)\n",
      "optimization complete\n"
     ]
    }
   ],
   "source": [
    "sess = tf.InteractiveSession()\n",
    "sess.run(init)\n",
    "\n",
    "total_batch = int(mnist.train.num_examples / batch_size)\n",
    "for epoch in range(training_epochs):\n",
    "    for i in range(total_batch):\n",
    "        batch_xs, batch_ys = mnist.train.next_batch(batch_size)\n",
    "        _, c = sess.run([optimizer, cost], feed_dict = {x: batch_xs})\n",
    "    if epoch % display_step == 0:\n",
    "        print('Epoch:', (epoch + 1), 'cost = ', x)\n",
    "print('optimization complete')"
   ]
  },
  {
   "cell_type": "code",
   "execution_count": 19,
   "metadata": {},
   "outputs": [],
   "source": [
    "encode_decode = sess.run(y_pred, feed_dict = {x: mnist.test.images[:examples_to_show]})"
   ]
  },
  {
   "cell_type": "code",
   "execution_count": 21,
   "metadata": {},
   "outputs": [
    {
     "data": {
      "image/png": "[encoded data removed]",
      "text/plain": [
       "<Figure size 720x72 with 20 Axes>"
      ]
     },
     "metadata": {
      "needs_background": "light"
     },
     "output_type": "display_data"
    }
   ],
   "source": [
    "f, a = plt.subplots(2, 10, figsize = (10, 1))\n",
    "for i in range(examples_to_show):\n",
    "    a[0][i].imshow(np.reshape(mnist.test.images[i], (28, 28)))\n",
    "    a[1][i].imshow(np.reshape(encode_decode[i], (28, 28)))"
   ]
  },
  {
   "cell_type": "code",
   "execution_count": null,
   "metadata": {},
   "outputs": [],
   "source": []
  }
 ],
 "metadata": {
  "kernelspec": {
   "display_name": "Python 3",
   "language": "python",
   "name": "python3"
  },
  "language_info": {
   "codemirror_mode": {
    "name": "ipython",
    "version": 3
   },
   "file_extension": ".py",
   "mimetype": "text/x-python",
   "name": "python",
   "nbconvert_exporter": "python",
   "pygments_lexer": "ipython3",
   "version": "3.7.7"
  }
 },
 "nbformat": 4,
 "nbformat_minor": 4
}
