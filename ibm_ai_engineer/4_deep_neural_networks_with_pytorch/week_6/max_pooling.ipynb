{
 "cells": [
  {
   "cell_type": "code",
   "execution_count": 1,
   "metadata": {},
   "outputs": [],
   "source": [
    "import torch \n",
    "import torch.nn as nn\n",
    "import matplotlib.pyplot as plt\n",
    "import numpy as np\n",
    "from scipy import ndimage, misc"
   ]
  },
  {
   "cell_type": "code",
   "execution_count": 2,
   "metadata": {},
   "outputs": [
    {
     "data": {
      "text/plain": [
       "OrderedDict([('weight',\n",
       "              tensor([[[[ 1.0000,  0.0000, -1.0000],\n",
       "                        [ 2.0000,  0.0000, -2.0000],\n",
       "                        [ 1.0000,  0.0000, -1.0000]]],\n",
       "              \n",
       "              \n",
       "                      [[[-0.3054, -0.0110,  0.1854],\n",
       "                        [-0.0390,  0.2923,  0.2066],\n",
       "                        [-0.1858,  0.2571,  0.2828]]]])),\n",
       "             ('bias', tensor([0.0000, 0.1470]))])"
      ]
     },
     "execution_count": 2,
     "metadata": {},
     "output_type": "execute_result"
    }
   ],
   "source": [
    "conv = nn.Conv2d(in_channels = 1, out_channels = 2, kernel_size = 3)\n",
    "gx = torch.tensor([[1.0, 0, -1.0], [2.0, 0, -2.0], [1.0, 0, -1.0]])\n",
    "conv.state_dict()['weight'][0][0] = gx\n",
    "conv.state_dict()['bias'][0] = 0.0\n",
    "conv.state_dict()"
   ]
  },
  {
   "cell_type": "code",
   "execution_count": 3,
   "metadata": {},
   "outputs": [
    {
     "data": {
      "text/plain": [
       "tensor([[[[0., 0., 1., 0., 0.],\n",
       "          [0., 0., 1., 0., 0.],\n",
       "          [0., 0., 1., 0., 0.],\n",
       "          [0., 0., 1., 0., 0.],\n",
       "          [0., 0., 1., 0., 0.]]]])"
      ]
     },
     "execution_count": 3,
     "metadata": {},
     "output_type": "execute_result"
    }
   ],
   "source": [
    "image = torch.zeros(1, 1, 5, 5)\n",
    "image[0, 0, :, 2] = 1\n",
    "image"
   ]
  },
  {
   "cell_type": "code",
   "execution_count": 4,
   "metadata": {},
   "outputs": [
    {
     "data": {
      "text/plain": [
       "tensor([[[[-4.0000,  0.0000,  4.0000],\n",
       "          [-4.0000,  0.0000,  4.0000],\n",
       "          [-4.0000,  0.0000,  4.0000]],\n",
       "\n",
       "         [[ 0.8217,  0.6854, -0.3832],\n",
       "          [ 0.8217,  0.6854, -0.3832],\n",
       "          [ 0.8217,  0.6854, -0.3832]]]], grad_fn=<MkldnnConvolutionBackward>)"
      ]
     },
     "execution_count": 4,
     "metadata": {},
     "output_type": "execute_result"
    }
   ],
   "source": [
    "z = conv(image)\n",
    "z"
   ]
  },
  {
   "cell_type": "code",
   "execution_count": 5,
   "metadata": {},
   "outputs": [
    {
     "data": {
      "text/plain": [
       "tensor([[[[0.0000, 0.0000, 4.0000],\n",
       "          [0.0000, 0.0000, 4.0000],\n",
       "          [0.0000, 0.0000, 4.0000]],\n",
       "\n",
       "         [[0.8217, 0.6854, 0.0000],\n",
       "          [0.8217, 0.6854, 0.0000],\n",
       "          [0.8217, 0.6854, 0.0000]]]], grad_fn=<ReluBackward0>)"
      ]
     },
     "execution_count": 5,
     "metadata": {},
     "output_type": "execute_result"
    }
   ],
   "source": [
    "a = torch.relu(z)\n",
    "a"
   ]
  },
  {
   "cell_type": "code",
   "execution_count": 6,
   "metadata": {},
   "outputs": [
    {
     "data": {
      "text/plain": [
       "tensor([[[[0.0000, 0.0000, 4.0000],\n",
       "          [0.0000, 0.0000, 4.0000],\n",
       "          [0.0000, 0.0000, 4.0000]],\n",
       "\n",
       "         [[0.8217, 0.6854, 0.0000],\n",
       "          [0.8217, 0.6854, 0.0000],\n",
       "          [0.8217, 0.6854, 0.0000]]]], grad_fn=<ReluBackward0>)"
      ]
     },
     "execution_count": 6,
     "metadata": {},
     "output_type": "execute_result"
    }
   ],
   "source": [
    "relu = nn.ReLU()\n",
    "relu(z)"
   ]
  },
  {
   "cell_type": "code",
   "execution_count": 7,
   "metadata": {},
   "outputs": [
    {
     "data": {
      "text/plain": [
       "tensor([[[[ 1.,  2.,  3., -4.],\n",
       "          [ 0.,  2.,  3.,  1.],\n",
       "          [ 0.,  0.,  0.,  0.],\n",
       "          [ 0.,  0.,  0.,  0.]]]])"
      ]
     },
     "execution_count": 7,
     "metadata": {},
     "output_type": "execute_result"
    }
   ],
   "source": [
    "image1 = torch.zeros(1, 1, 4, 4)\n",
    "image1[0, 0, 0, :] = torch.tensor([1.0, 2.0, 3.0, -4.0])\n",
    "image1[0, 0, 1, :] = torch.tensor([0.0 ,2.0, -3.0, 0.0])\n",
    "image1[0, 0, 1, :] = torch.tensor([0., 2., 3., 1.])\n",
    "image1"
   ]
  },
  {
   "cell_type": "code",
   "execution_count": null,
   "metadata": {},
   "outputs": [],
   "source": []
  }
 ],
 "metadata": {
  "kernelspec": {
   "display_name": "Python 3",
   "language": "python",
   "name": "python3"
  },
  "language_info": {
   "codemirror_mode": {
    "name": "ipython",
    "version": 3
   },
   "file_extension": ".py",
   "mimetype": "text/x-python",
   "name": "python",
   "nbconvert_exporter": "python",
   "pygments_lexer": "ipython3",
   "version": "3.7.7"
  }
 },
 "nbformat": 4,
 "nbformat_minor": 4
}
