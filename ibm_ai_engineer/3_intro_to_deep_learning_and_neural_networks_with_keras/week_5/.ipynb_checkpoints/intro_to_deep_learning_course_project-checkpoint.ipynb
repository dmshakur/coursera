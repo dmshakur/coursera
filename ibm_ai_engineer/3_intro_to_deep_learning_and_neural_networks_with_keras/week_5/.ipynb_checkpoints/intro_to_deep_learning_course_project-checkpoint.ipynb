{
 "cells": [
  {
   "cell_type": "code",
   "execution_count": 0,
   "metadata": {
    "colab": {},
    "colab_type": "code",
    "id": "hDU2TGjUxHqd"
   },
   "outputs": [],
   "source": [
    "import pandas as pd\n",
    "import numpy as np\n",
    "import matplotlib.pyplot as plt"
   ]
  },
  {
   "cell_type": "code",
   "execution_count": 102,
   "metadata": {
    "colab": {
     "base_uri": "https://localhost:8080/",
     "height": 328
    },
    "colab_type": "code",
    "id": "slLnEixJxmaO",
    "outputId": "86767d41-ea17-441c-ad57-dd36af277ec6"
   },
   "outputs": [
    {
     "name": "stdout",
     "output_type": "stream",
     "text": [
      "--2020-04-29 03:45:04--  https://cocl.us/concrete_data\n",
      "Resolving cocl.us (cocl.us)... 158.85.108.86, 158.85.108.83, 169.48.113.194\n",
      "Connecting to cocl.us (cocl.us)|158.85.108.86|:443... connected.\n",
      "HTTP request sent, awaiting response... 301 Moved Permanently\n",
      "Location: https://s3-api.us-geo.objectstorage.softlayer.net/cf-courses-data/CognitiveClass/DL0101EN/labs/data/concrete_data.csv [following]\n",
      "--2020-04-29 03:45:06--  https://s3-api.us-geo.objectstorage.softlayer.net/cf-courses-data/CognitiveClass/DL0101EN/labs/data/concrete_data.csv\n",
      "Resolving s3-api.us-geo.objectstorage.softlayer.net (s3-api.us-geo.objectstorage.softlayer.net)... 67.228.254.196\n",
      "Connecting to s3-api.us-geo.objectstorage.softlayer.net (s3-api.us-geo.objectstorage.softlayer.net)|67.228.254.196|:443... connected.\n",
      "HTTP request sent, awaiting response... 200 OK\n",
      "Length: 58988 (58K) [text/csv]\n",
      "Saving to: ‘concrete_data.csv’\n",
      "\n",
      "concrete_data.csv   100%[===================>]  57.61K  --.-KB/s    in 0.02s   \n",
      "\n",
      "2020-04-29 03:45:06 (3.19 MB/s) - ‘concrete_data.csv’ saved [58988/58988]\n",
      "\n"
     ]
    }
   ],
   "source": [
    "!wget -O 'concrete_data.csv' https://cocl.us/concrete_data"
   ]
  },
  {
   "cell_type": "code",
   "execution_count": 110,
   "metadata": {
    "colab": {
     "base_uri": "https://localhost:8080/",
     "height": 442
    },
    "colab_type": "code",
    "id": "RW4BTjcyxsYL",
    "outputId": "e1c656ed-a491-40a5-a030-71f7e1138fef"
   },
   "outputs": [
    {
     "data": {
      "text/html": [
       "<div>\n",
       "<style scoped>\n",
       "    .dataframe tbody tr th:only-of-type {\n",
       "        vertical-align: middle;\n",
       "    }\n",
       "\n",
       "    .dataframe tbody tr th {\n",
       "        vertical-align: top;\n",
       "    }\n",
       "\n",
       "    .dataframe thead th {\n",
       "        text-align: right;\n",
       "    }\n",
       "</style>\n",
       "<table border=\"1\" class=\"dataframe\">\n",
       "  <thead>\n",
       "    <tr style=\"text-align: right;\">\n",
       "      <th></th>\n",
       "      <th>Cement</th>\n",
       "      <th>Blast Furnace Slag</th>\n",
       "      <th>Fly Ash</th>\n",
       "      <th>Water</th>\n",
       "      <th>Superplasticizer</th>\n",
       "      <th>Coarse Aggregate</th>\n",
       "      <th>Fine Aggregate</th>\n",
       "      <th>Age</th>\n",
       "      <th>Strength</th>\n",
       "    </tr>\n",
       "  </thead>\n",
       "  <tbody>\n",
       "    <tr>\n",
       "      <th>0</th>\n",
       "      <td>540.0</td>\n",
       "      <td>0.0</td>\n",
       "      <td>0.0</td>\n",
       "      <td>162.0</td>\n",
       "      <td>2.5</td>\n",
       "      <td>1040.0</td>\n",
       "      <td>676.0</td>\n",
       "      <td>28</td>\n",
       "      <td>79.99</td>\n",
       "    </tr>\n",
       "    <tr>\n",
       "      <th>1</th>\n",
       "      <td>540.0</td>\n",
       "      <td>0.0</td>\n",
       "      <td>0.0</td>\n",
       "      <td>162.0</td>\n",
       "      <td>2.5</td>\n",
       "      <td>1055.0</td>\n",
       "      <td>676.0</td>\n",
       "      <td>28</td>\n",
       "      <td>61.89</td>\n",
       "    </tr>\n",
       "    <tr>\n",
       "      <th>2</th>\n",
       "      <td>332.5</td>\n",
       "      <td>142.5</td>\n",
       "      <td>0.0</td>\n",
       "      <td>228.0</td>\n",
       "      <td>0.0</td>\n",
       "      <td>932.0</td>\n",
       "      <td>594.0</td>\n",
       "      <td>270</td>\n",
       "      <td>40.27</td>\n",
       "    </tr>\n",
       "    <tr>\n",
       "      <th>3</th>\n",
       "      <td>332.5</td>\n",
       "      <td>142.5</td>\n",
       "      <td>0.0</td>\n",
       "      <td>228.0</td>\n",
       "      <td>0.0</td>\n",
       "      <td>932.0</td>\n",
       "      <td>594.0</td>\n",
       "      <td>365</td>\n",
       "      <td>41.05</td>\n",
       "    </tr>\n",
       "    <tr>\n",
       "      <th>4</th>\n",
       "      <td>198.6</td>\n",
       "      <td>132.4</td>\n",
       "      <td>0.0</td>\n",
       "      <td>192.0</td>\n",
       "      <td>0.0</td>\n",
       "      <td>978.4</td>\n",
       "      <td>825.5</td>\n",
       "      <td>360</td>\n",
       "      <td>44.30</td>\n",
       "    </tr>\n",
       "    <tr>\n",
       "      <th>...</th>\n",
       "      <td>...</td>\n",
       "      <td>...</td>\n",
       "      <td>...</td>\n",
       "      <td>...</td>\n",
       "      <td>...</td>\n",
       "      <td>...</td>\n",
       "      <td>...</td>\n",
       "      <td>...</td>\n",
       "      <td>...</td>\n",
       "    </tr>\n",
       "    <tr>\n",
       "      <th>1025</th>\n",
       "      <td>276.4</td>\n",
       "      <td>116.0</td>\n",
       "      <td>90.3</td>\n",
       "      <td>179.6</td>\n",
       "      <td>8.9</td>\n",
       "      <td>870.1</td>\n",
       "      <td>768.3</td>\n",
       "      <td>28</td>\n",
       "      <td>44.28</td>\n",
       "    </tr>\n",
       "    <tr>\n",
       "      <th>1026</th>\n",
       "      <td>322.2</td>\n",
       "      <td>0.0</td>\n",
       "      <td>115.6</td>\n",
       "      <td>196.0</td>\n",
       "      <td>10.4</td>\n",
       "      <td>817.9</td>\n",
       "      <td>813.4</td>\n",
       "      <td>28</td>\n",
       "      <td>31.18</td>\n",
       "    </tr>\n",
       "    <tr>\n",
       "      <th>1027</th>\n",
       "      <td>148.5</td>\n",
       "      <td>139.4</td>\n",
       "      <td>108.6</td>\n",
       "      <td>192.7</td>\n",
       "      <td>6.1</td>\n",
       "      <td>892.4</td>\n",
       "      <td>780.0</td>\n",
       "      <td>28</td>\n",
       "      <td>23.70</td>\n",
       "    </tr>\n",
       "    <tr>\n",
       "      <th>1028</th>\n",
       "      <td>159.1</td>\n",
       "      <td>186.7</td>\n",
       "      <td>0.0</td>\n",
       "      <td>175.6</td>\n",
       "      <td>11.3</td>\n",
       "      <td>989.6</td>\n",
       "      <td>788.9</td>\n",
       "      <td>28</td>\n",
       "      <td>32.77</td>\n",
       "    </tr>\n",
       "    <tr>\n",
       "      <th>1029</th>\n",
       "      <td>260.9</td>\n",
       "      <td>100.5</td>\n",
       "      <td>78.3</td>\n",
       "      <td>200.6</td>\n",
       "      <td>8.6</td>\n",
       "      <td>864.5</td>\n",
       "      <td>761.5</td>\n",
       "      <td>28</td>\n",
       "      <td>32.40</td>\n",
       "    </tr>\n",
       "  </tbody>\n",
       "</table>\n",
       "<p>1030 rows × 9 columns</p>\n",
       "</div>"
      ],
      "text/plain": [
       "      Cement  Blast Furnace Slag  Fly Ash  ...  Fine Aggregate  Age  Strength\n",
       "0      540.0                 0.0      0.0  ...           676.0   28     79.99\n",
       "1      540.0                 0.0      0.0  ...           676.0   28     61.89\n",
       "2      332.5               142.5      0.0  ...           594.0  270     40.27\n",
       "3      332.5               142.5      0.0  ...           594.0  365     41.05\n",
       "4      198.6               132.4      0.0  ...           825.5  360     44.30\n",
       "...      ...                 ...      ...  ...             ...  ...       ...\n",
       "1025   276.4               116.0     90.3  ...           768.3   28     44.28\n",
       "1026   322.2                 0.0    115.6  ...           813.4   28     31.18\n",
       "1027   148.5               139.4    108.6  ...           780.0   28     23.70\n",
       "1028   159.1               186.7      0.0  ...           788.9   28     32.77\n",
       "1029   260.9               100.5     78.3  ...           761.5   28     32.40\n",
       "\n",
       "[1030 rows x 9 columns]"
      ]
     },
     "execution_count": 110,
     "metadata": {
      "tags": []
     },
     "output_type": "execute_result"
    }
   ],
   "source": [
    "raw_data = pd.read_csv('concrete_data.csv')\n",
    "raw_data"
   ]
  },
  {
   "cell_type": "markdown",
   "metadata": {
    "colab_type": "text",
    "id": "IKp_mwRx4J8E"
   },
   "source": [
    "Checking for null values, there are none so proceed with proceed with data preprocessing."
   ]
  },
  {
   "cell_type": "code",
   "execution_count": 111,
   "metadata": {
    "colab": {
     "base_uri": "https://localhost:8080/",
     "height": 199
    },
    "colab_type": "code",
    "id": "cLHZGsj4yvtX",
    "outputId": "b4ef0f41-9128-4114-a127-e017776518a5"
   },
   "outputs": [
    {
     "data": {
      "text/plain": [
       "Cement                0\n",
       "Blast Furnace Slag    0\n",
       "Fly Ash               0\n",
       "Water                 0\n",
       "Superplasticizer      0\n",
       "Coarse Aggregate      0\n",
       "Fine Aggregate        0\n",
       "Age                   0\n",
       "Strength              0\n",
       "dtype: int64"
      ]
     },
     "execution_count": 111,
     "metadata": {
      "tags": []
     },
     "output_type": "execute_result"
    }
   ],
   "source": [
    "raw_data.isnull().sum()"
   ]
  },
  {
   "cell_type": "markdown",
   "metadata": {
    "colab_type": "text",
    "id": "jm8WIDdC4bH-"
   },
   "source": [
    "Normalizing the data to have only values between 1 and 0."
   ]
  },
  {
   "cell_type": "code",
   "execution_count": 0,
   "metadata": {
    "colab": {},
    "colab_type": "code",
    "id": "1JqfGcUL0FHp"
   },
   "outputs": [],
   "source": [
    "x = raw_data.drop(['Strength'], axis = 1)\n",
    "y = raw_data['Strength']"
   ]
  },
  {
   "cell_type": "markdown",
   "metadata": {
    "colab_type": "text",
    "id": "UPUKwBz24dXc"
   },
   "source": [
    "Splitting the data into a train and test set with labels, and a test set size of 20%."
   ]
  },
  {
   "cell_type": "code",
   "execution_count": 0,
   "metadata": {
    "colab": {},
    "colab_type": "code",
    "id": "ZckC24Lj1ahz"
   },
   "outputs": [],
   "source": [
    "from sklearn.model_selection import train_test_split\n",
    "\n",
    "x_train, x_test, y_train, y_test = train_test_split(x, y, test_size = 0.3)"
   ]
  },
  {
   "cell_type": "markdown",
   "metadata": {
    "colab_type": "text",
    "id": "bhR4uapgA9B_"
   },
   "source": [
    "## Part A: \n",
    "\n",
    "Building and training the baseline model"
   ]
  },
  {
   "cell_type": "code",
   "execution_count": 0,
   "metadata": {
    "colab": {},
    "colab_type": "code",
    "id": "IWnDYvG3A8gK"
   },
   "outputs": [],
   "source": [
    "from keras import Sequential\n",
    "from keras.layers import Dense\n",
    "\n",
    "baseline_model = Sequential()\n",
    "\n",
    "baseline_model.add(Dense(10, activation = 'relu', input_shape = (8,)))\n",
    "baseline_model.add(Dense(1, activation = 'sigmoid'))\n",
    "\n",
    "baseline_model.compile(optimizer = 'adam', loss = 'mean_squared_error', metrics = ['accuracy'])\n",
    "\n",
    "baseline_model.fit(x_train, y_train, batch_size = 200, epochs = 50)"
   ]
  },
  {
   "cell_type": "markdown",
   "metadata": {
    "colab_type": "text",
    "id": "Sg9KmpbKCvOo"
   },
   "source": [
    "Testing the model"
   ]
  },
  {
   "cell_type": "code",
   "execution_count": 131,
   "metadata": {
    "colab": {
     "base_uri": "https://localhost:8080/",
     "height": 54
    },
    "colab_type": "code",
    "id": "E0h6hk8wCuZq",
    "outputId": "c1a93c22-18e1-4766-99d7-4dfc9888dc99"
   },
   "outputs": [
    {
     "name": "stdout",
     "output_type": "stream",
     "text": [
      "Mean error:  1.0 \n",
      "Standard Deviation of errors:  0.0\n"
     ]
    }
   ],
   "source": [
    "from math import sqrt\n",
    "\n",
    "baseline_errors = baseline_model.predict(x_test, batch_size = 200)\n",
    "baseline_mean = baseline_model_errors.mean()\n",
    "baseline_std_dev = \\\n",
    "    sqrt(sum([i - baseline_mean for i in baseline_model_errors]) / len(baseline_errors))\n",
    "\n",
    "print('Mean error: ', baseline_mean, '\\nStandard Deviation of errors: ', baseline_std_dev)"
   ]
  },
  {
   "cell_type": "markdown",
   "metadata": {
    "colab_type": "text",
    "id": "qdeWNlUBCIMF"
   },
   "source": [
    "## Part B:\n",
    "Normalize the data for the same network."
   ]
  },
  {
   "cell_type": "code",
   "execution_count": 0,
   "metadata": {
    "colab": {},
    "colab_type": "code",
    "id": "b1u8QGQ8Ff00"
   },
   "outputs": [],
   "source": [
    "from sklearn.preprocessing import MinMaxScaler\n",
    "\n",
    "scaled_data = MinMaxScaler().fit_transform(raw_data.values)\n",
    "\n",
    "x_scaled = scaled_data[:, :-1]\n",
    "y_scaled = scaled_data[:, -1]\n",
    "\n",
    "x_train, x_test, y_train, y_test = train_test_split(x_scaled, y_scaled, test_size = 0.3)"
   ]
  },
  {
   "cell_type": "code",
   "execution_count": 135,
   "metadata": {
    "colab": {
     "base_uri": "https://localhost:8080/",
     "height": 1000
    },
    "colab_type": "code",
    "id": "oJ0pSFJyFNlD",
    "outputId": "f770354f-9442-4f26-c04b-f93335a95055"
   },
   "outputs": [
    {
     "name": "stdout",
     "output_type": "stream",
     "text": [
      "Epoch 1/100\n",
      "721/721 [==============================] - 0s 109us/step - loss: 0.0565 - accuracy: 0.0000e+00\n",
      "Epoch 2/100\n",
      "721/721 [==============================] - 0s 17us/step - loss: 0.0550 - accuracy: 0.0014\n",
      "Epoch 3/100\n",
      "721/721 [==============================] - 0s 23us/step - loss: 0.0536 - accuracy: 0.0014\n",
      "Epoch 4/100\n",
      "721/721 [==============================] - 0s 23us/step - loss: 0.0521 - accuracy: 0.0014\n",
      "Epoch 5/100\n",
      "721/721 [==============================] - 0s 18us/step - loss: 0.0509 - accuracy: 0.0014\n",
      "Epoch 6/100\n",
      "721/721 [==============================] - 0s 18us/step - loss: 0.0496 - accuracy: 0.0014\n",
      "Epoch 7/100\n",
      "721/721 [==============================] - 0s 18us/step - loss: 0.0483 - accuracy: 0.0014\n",
      "Epoch 8/100\n",
      "721/721 [==============================] - 0s 16us/step - loss: 0.0471 - accuracy: 0.0014\n",
      "Epoch 9/100\n",
      "721/721 [==============================] - 0s 17us/step - loss: 0.0460 - accuracy: 0.0014\n",
      "Epoch 10/100\n",
      "721/721 [==============================] - 0s 16us/step - loss: 0.0449 - accuracy: 0.0014\n",
      "Epoch 11/100\n",
      "721/721 [==============================] - 0s 16us/step - loss: 0.0439 - accuracy: 0.0014\n",
      "Epoch 12/100\n",
      "721/721 [==============================] - 0s 17us/step - loss: 0.0429 - accuracy: 0.0014\n",
      "Epoch 13/100\n",
      "721/721 [==============================] - 0s 17us/step - loss: 0.0420 - accuracy: 0.0014\n",
      "Epoch 14/100\n",
      "721/721 [==============================] - 0s 18us/step - loss: 0.0410 - accuracy: 0.0014\n",
      "Epoch 15/100\n",
      "721/721 [==============================] - 0s 21us/step - loss: 0.0402 - accuracy: 0.0014\n",
      "Epoch 16/100\n",
      "721/721 [==============================] - 0s 19us/step - loss: 0.0394 - accuracy: 0.0014\n",
      "Epoch 17/100\n",
      "721/721 [==============================] - 0s 17us/step - loss: 0.0386 - accuracy: 0.0014\n",
      "Epoch 18/100\n",
      "721/721 [==============================] - 0s 16us/step - loss: 0.0378 - accuracy: 0.0014\n",
      "Epoch 19/100\n",
      "721/721 [==============================] - 0s 16us/step - loss: 0.0371 - accuracy: 0.0014\n",
      "Epoch 20/100\n",
      "721/721 [==============================] - 0s 16us/step - loss: 0.0364 - accuracy: 0.0014\n",
      "Epoch 21/100\n",
      "721/721 [==============================] - 0s 17us/step - loss: 0.0357 - accuracy: 0.0014\n",
      "Epoch 22/100\n",
      "721/721 [==============================] - 0s 16us/step - loss: 0.0351 - accuracy: 0.0014\n",
      "Epoch 23/100\n",
      "721/721 [==============================] - 0s 17us/step - loss: 0.0345 - accuracy: 0.0014\n",
      "Epoch 24/100\n",
      "721/721 [==============================] - 0s 18us/step - loss: 0.0339 - accuracy: 0.0014\n",
      "Epoch 25/100\n",
      "721/721 [==============================] - 0s 16us/step - loss: 0.0334 - accuracy: 0.0014\n",
      "Epoch 26/100\n",
      "721/721 [==============================] - 0s 15us/step - loss: 0.0328 - accuracy: 0.0028\n",
      "Epoch 27/100\n",
      "721/721 [==============================] - 0s 20us/step - loss: 0.0323 - accuracy: 0.0028\n",
      "Epoch 28/100\n",
      "721/721 [==============================] - 0s 17us/step - loss: 0.0319 - accuracy: 0.0028\n",
      "Epoch 29/100\n",
      "721/721 [==============================] - 0s 15us/step - loss: 0.0314 - accuracy: 0.0028\n",
      "Epoch 30/100\n",
      "721/721 [==============================] - 0s 23us/step - loss: 0.0309 - accuracy: 0.0028\n",
      "Epoch 31/100\n",
      "721/721 [==============================] - 0s 18us/step - loss: 0.0305 - accuracy: 0.0028\n",
      "Epoch 32/100\n",
      "721/721 [==============================] - 0s 19us/step - loss: 0.0300 - accuracy: 0.0028\n",
      "Epoch 33/100\n",
      "721/721 [==============================] - 0s 18us/step - loss: 0.0296 - accuracy: 0.0028\n",
      "Epoch 34/100\n",
      "721/721 [==============================] - 0s 19us/step - loss: 0.0292 - accuracy: 0.0028\n",
      "Epoch 35/100\n",
      "721/721 [==============================] - 0s 17us/step - loss: 0.0288 - accuracy: 0.0028\n",
      "Epoch 36/100\n",
      "721/721 [==============================] - 0s 18us/step - loss: 0.0283 - accuracy: 0.0028\n",
      "Epoch 37/100\n",
      "721/721 [==============================] - 0s 16us/step - loss: 0.0279 - accuracy: 0.0028\n",
      "Epoch 38/100\n",
      "721/721 [==============================] - 0s 16us/step - loss: 0.0275 - accuracy: 0.0028\n",
      "Epoch 39/100\n",
      "721/721 [==============================] - 0s 20us/step - loss: 0.0270 - accuracy: 0.0028\n",
      "Epoch 40/100\n",
      "721/721 [==============================] - 0s 23us/step - loss: 0.0266 - accuracy: 0.0028\n",
      "Epoch 41/100\n",
      "721/721 [==============================] - 0s 23us/step - loss: 0.0262 - accuracy: 0.0028\n",
      "Epoch 42/100\n",
      "721/721 [==============================] - 0s 30us/step - loss: 0.0257 - accuracy: 0.0028\n",
      "Epoch 43/100\n",
      "721/721 [==============================] - 0s 26us/step - loss: 0.0253 - accuracy: 0.0028\n",
      "Epoch 44/100\n",
      "721/721 [==============================] - 0s 17us/step - loss: 0.0249 - accuracy: 0.0028\n",
      "Epoch 45/100\n",
      "721/721 [==============================] - 0s 16us/step - loss: 0.0245 - accuracy: 0.0028\n",
      "Epoch 46/100\n",
      "721/721 [==============================] - 0s 17us/step - loss: 0.0241 - accuracy: 0.0028\n",
      "Epoch 47/100\n",
      "721/721 [==============================] - 0s 18us/step - loss: 0.0237 - accuracy: 0.0028\n",
      "Epoch 48/100\n",
      "721/721 [==============================] - 0s 17us/step - loss: 0.0234 - accuracy: 0.0028\n",
      "Epoch 49/100\n",
      "721/721 [==============================] - 0s 17us/step - loss: 0.0230 - accuracy: 0.0028\n",
      "Epoch 50/100\n",
      "721/721 [==============================] - 0s 16us/step - loss: 0.0226 - accuracy: 0.0028\n",
      "Epoch 51/100\n",
      "721/721 [==============================] - 0s 20us/step - loss: 0.0223 - accuracy: 0.0028\n",
      "Epoch 52/100\n",
      "721/721 [==============================] - 0s 18us/step - loss: 0.0220 - accuracy: 0.0028\n",
      "Epoch 53/100\n",
      "721/721 [==============================] - 0s 20us/step - loss: 0.0217 - accuracy: 0.0028\n",
      "Epoch 54/100\n",
      "721/721 [==============================] - 0s 21us/step - loss: 0.0214 - accuracy: 0.0028\n",
      "Epoch 55/100\n",
      "721/721 [==============================] - 0s 17us/step - loss: 0.0211 - accuracy: 0.0028\n",
      "Epoch 56/100\n",
      "721/721 [==============================] - 0s 16us/step - loss: 0.0208 - accuracy: 0.0028\n",
      "Epoch 57/100\n",
      "721/721 [==============================] - 0s 16us/step - loss: 0.0206 - accuracy: 0.0028\n",
      "Epoch 58/100\n",
      "721/721 [==============================] - 0s 22us/step - loss: 0.0203 - accuracy: 0.0028\n",
      "Epoch 59/100\n",
      "721/721 [==============================] - 0s 16us/step - loss: 0.0201 - accuracy: 0.0028\n",
      "Epoch 60/100\n",
      "721/721 [==============================] - 0s 18us/step - loss: 0.0199 - accuracy: 0.0028\n",
      "Epoch 61/100\n",
      "721/721 [==============================] - 0s 19us/step - loss: 0.0197 - accuracy: 0.0028\n",
      "Epoch 62/100\n",
      "721/721 [==============================] - 0s 24us/step - loss: 0.0195 - accuracy: 0.0028\n",
      "Epoch 63/100\n",
      "721/721 [==============================] - 0s 34us/step - loss: 0.0193 - accuracy: 0.0028\n",
      "Epoch 64/100\n",
      "721/721 [==============================] - 0s 22us/step - loss: 0.0191 - accuracy: 0.0028\n",
      "Epoch 65/100\n",
      "721/721 [==============================] - 0s 21us/step - loss: 0.0190 - accuracy: 0.0028\n",
      "Epoch 66/100\n",
      "721/721 [==============================] - 0s 16us/step - loss: 0.0188 - accuracy: 0.0028\n",
      "Epoch 67/100\n",
      "721/721 [==============================] - 0s 17us/step - loss: 0.0186 - accuracy: 0.0028\n",
      "Epoch 68/100\n",
      "721/721 [==============================] - 0s 23us/step - loss: 0.0185 - accuracy: 0.0028\n",
      "Epoch 69/100\n",
      "721/721 [==============================] - 0s 22us/step - loss: 0.0184 - accuracy: 0.0028\n",
      "Epoch 70/100\n",
      "721/721 [==============================] - 0s 17us/step - loss: 0.0182 - accuracy: 0.0028\n",
      "Epoch 71/100\n",
      "721/721 [==============================] - 0s 17us/step - loss: 0.0181 - accuracy: 0.0028\n",
      "Epoch 72/100\n",
      "721/721 [==============================] - 0s 17us/step - loss: 0.0180 - accuracy: 0.0028\n",
      "Epoch 73/100\n",
      "721/721 [==============================] - 0s 18us/step - loss: 0.0178 - accuracy: 0.0028\n",
      "Epoch 74/100\n",
      "721/721 [==============================] - 0s 16us/step - loss: 0.0177 - accuracy: 0.0028\n",
      "Epoch 75/100\n",
      "721/721 [==============================] - 0s 18us/step - loss: 0.0176 - accuracy: 0.0028\n",
      "Epoch 76/100\n",
      "721/721 [==============================] - 0s 16us/step - loss: 0.0175 - accuracy: 0.0028\n",
      "Epoch 77/100\n",
      "721/721 [==============================] - 0s 17us/step - loss: 0.0174 - accuracy: 0.0028\n",
      "Epoch 78/100\n",
      "721/721 [==============================] - 0s 19us/step - loss: 0.0173 - accuracy: 0.0028\n",
      "Epoch 79/100\n",
      "721/721 [==============================] - 0s 19us/step - loss: 0.0172 - accuracy: 0.0028\n",
      "Epoch 80/100\n",
      "721/721 [==============================] - 0s 20us/step - loss: 0.0171 - accuracy: 0.0028\n",
      "Epoch 81/100\n",
      "721/721 [==============================] - 0s 23us/step - loss: 0.0171 - accuracy: 0.0028\n",
      "Epoch 82/100\n",
      "721/721 [==============================] - 0s 18us/step - loss: 0.0170 - accuracy: 0.0028\n",
      "Epoch 83/100\n",
      "721/721 [==============================] - 0s 22us/step - loss: 0.0169 - accuracy: 0.0028\n",
      "Epoch 84/100\n",
      "721/721 [==============================] - 0s 17us/step - loss: 0.0168 - accuracy: 0.0028\n",
      "Epoch 85/100\n",
      "721/721 [==============================] - 0s 16us/step - loss: 0.0167 - accuracy: 0.0028\n",
      "Epoch 86/100\n",
      "721/721 [==============================] - 0s 17us/step - loss: 0.0167 - accuracy: 0.0028\n",
      "Epoch 87/100\n",
      "721/721 [==============================] - 0s 16us/step - loss: 0.0166 - accuracy: 0.0028\n",
      "Epoch 88/100\n",
      "721/721 [==============================] - 0s 16us/step - loss: 0.0166 - accuracy: 0.0028\n",
      "Epoch 89/100\n",
      "721/721 [==============================] - 0s 16us/step - loss: 0.0165 - accuracy: 0.0028\n",
      "Epoch 90/100\n",
      "721/721 [==============================] - 0s 16us/step - loss: 0.0164 - accuracy: 0.0028\n",
      "Epoch 91/100\n",
      "721/721 [==============================] - 0s 21us/step - loss: 0.0164 - accuracy: 0.0028\n",
      "Epoch 92/100\n",
      "721/721 [==============================] - 0s 18us/step - loss: 0.0163 - accuracy: 0.0028\n",
      "Epoch 93/100\n",
      "721/721 [==============================] - 0s 20us/step - loss: 0.0163 - accuracy: 0.0028\n",
      "Epoch 94/100\n",
      "721/721 [==============================] - 0s 15us/step - loss: 0.0162 - accuracy: 0.0028\n",
      "Epoch 95/100\n",
      "721/721 [==============================] - 0s 15us/step - loss: 0.0162 - accuracy: 0.0028\n",
      "Epoch 96/100\n",
      "721/721 [==============================] - 0s 20us/step - loss: 0.0161 - accuracy: 0.0028\n",
      "Epoch 97/100\n",
      "721/721 [==============================] - 0s 19us/step - loss: 0.0161 - accuracy: 0.0028\n",
      "Epoch 98/100\n",
      "721/721 [==============================] - 0s 19us/step - loss: 0.0160 - accuracy: 0.0028\n",
      "Epoch 99/100\n",
      "721/721 [==============================] - 0s 19us/step - loss: 0.0160 - accuracy: 0.0028\n",
      "Epoch 100/100\n",
      "721/721 [==============================] - 0s 18us/step - loss: 0.0159 - accuracy: 0.0028\n"
     ]
    },
    {
     "data": {
      "text/plain": [
       "<keras.callbacks.callbacks.History at 0x7fa328a2d5f8>"
      ]
     },
     "execution_count": 135,
     "metadata": {
      "tags": []
     },
     "output_type": "execute_result"
    }
   ],
   "source": [
    "from keras import Sequential\n",
    "from keras.layers import Dense\n",
    "\n",
    "baseline_model = Sequential()\n",
    "\n",
    "baseline_model.add(Dense(10, activation = 'relu', input_shape = (8,)))\n",
    "baseline_model.add(Dense(1, activation = 'sigmoid'))\n",
    "\n",
    "baseline_model.compile(optimizer = 'adam', loss = 'mean_squared_error', metrics = ['accuracy'])\n",
    "\n",
    "baseline_model.fit(x_train, y_train, batch_size = 200, epochs = 50)"
   ]
  },
  {
   "cell_type": "code",
   "execution_count": 136,
   "metadata": {
    "colab": {
     "base_uri": "https://localhost:8080/",
     "height": 54
    },
    "colab_type": "code",
    "id": "QaX50fFZFQ4E",
    "outputId": "10fd5cec-2ea8-43e7-af13-ad24153ffaec"
   },
   "outputs": [
    {
     "name": "stdout",
     "output_type": "stream",
     "text": [
      "Mean error:  1.0 \n",
      "Standard Deviation of errors:  0.0\n"
     ]
    }
   ],
   "source": [
    "from math import sqrt\n",
    "\n",
    "baseline_errors = baseline_model.predict(x_test, batch_size = 200)\n",
    "baseline_mean = baseline_model_errors.mean()\n",
    "baseline_std_dev = \\\n",
    "    sqrt(sum([i - baseline_mean for i in baseline_model_errors]) / len(baseline_errors))\n",
    "\n",
    "print('Mean error: ', baseline_mean, '\\nStandard Deviation of errors: ', baseline_std_dev)"
   ]
  },
  {
   "cell_type": "markdown",
   "metadata": {
    "colab_type": "text",
    "id": "N-UVmna_GGCy"
   },
   "source": [
    "Both the mean error and the standard deviation of the error remain the same."
   ]
  },
  {
   "cell_type": "markdown",
   "metadata": {
    "colab_type": "text",
    "id": "TNCdgogBFR0t"
   },
   "source": [
    "## Part C:\n",
    "Increase number of epochs with the same network."
   ]
  },
  {
   "cell_type": "code",
   "execution_count": 0,
   "metadata": {
    "colab": {},
    "colab_type": "code",
    "id": "TBSyoX8T1ig1"
   },
   "outputs": [],
   "source": [
    "from keras import Sequential\n",
    "from keras.layers import Dense\n",
    "\n",
    "baseline_model = Sequential()\n",
    "\n",
    "baseline_model.add(Dense(10, activation = 'relu', input_shape = (8,)))\n",
    "baseline_model.add(Dense(1, activation = 'sigmoid'))\n",
    "\n",
    "baseline_model.compile(optimizer = 'adam', loss = 'mean_squared_error', metrics = ['accuracy'])\n",
    "\n",
    "baseline_model.fit(x_train, y_train, batch_size = 200, epochs = 100)"
   ]
  },
  {
   "cell_type": "code",
   "execution_count": 138,
   "metadata": {
    "colab": {
     "base_uri": "https://localhost:8080/",
     "height": 54
    },
    "colab_type": "code",
    "id": "VQQIXvMl6b4f",
    "outputId": "d3325ade-be10-421d-bde8-01e859beda00"
   },
   "outputs": [
    {
     "name": "stdout",
     "output_type": "stream",
     "text": [
      "Mean error:  1.0 \n",
      "Standard Deviation of errors:  0.0\n"
     ]
    }
   ],
   "source": [
    "from math import sqrt\n",
    "\n",
    "baseline_errors = baseline_model.predict(x_test, batch_size = 200)\n",
    "baseline_mean = baseline_model_errors.mean()\n",
    "baseline_std_dev = \\\n",
    "    sqrt(sum([i - baseline_mean for i in baseline_model_errors]) / len(baseline_errors))\n",
    "\n",
    "print('Mean error: ', baseline_mean, '\\nStandard Deviation of errors: ', baseline_std_dev)"
   ]
  },
  {
   "cell_type": "markdown",
   "metadata": {
    "colab_type": "text",
    "id": "xdK40V99GhzY"
   },
   "source": [
    "Again, no change."
   ]
  },
  {
   "cell_type": "markdown",
   "metadata": {
    "colab_type": "text",
    "id": "ZguFxMN5GmgK"
   },
   "source": [
    "## Part D:\n"
   ]
  },
  {
   "cell_type": "code",
   "execution_count": 139,
   "metadata": {
    "colab": {
     "base_uri": "https://localhost:8080/",
     "height": 1000
    },
    "colab_type": "code",
    "id": "pkKIe-HW7nnS",
    "outputId": "9988746c-f931-4316-d463-2f88f94cf7a9"
   },
   "outputs": [
    {
     "name": "stdout",
     "output_type": "stream",
     "text": [
      "Epoch 1/100\n",
      "721/721 [==============================] - 0s 192us/step - loss: 0.0539 - accuracy: 0.0014\n",
      "Epoch 2/100\n",
      "721/721 [==============================] - 0s 23us/step - loss: 0.0522 - accuracy: 0.0014\n",
      "Epoch 3/100\n",
      "721/721 [==============================] - 0s 21us/step - loss: 0.0508 - accuracy: 0.0028\n",
      "Epoch 4/100\n",
      "721/721 [==============================] - 0s 22us/step - loss: 0.0497 - accuracy: 0.0028\n",
      "Epoch 5/100\n",
      "721/721 [==============================] - 0s 23us/step - loss: 0.0490 - accuracy: 0.0028\n",
      "Epoch 6/100\n",
      "721/721 [==============================] - 0s 22us/step - loss: 0.0486 - accuracy: 0.0014\n",
      "Epoch 7/100\n",
      "721/721 [==============================] - 0s 23us/step - loss: 0.0481 - accuracy: 0.0014\n",
      "Epoch 8/100\n",
      "721/721 [==============================] - 0s 21us/step - loss: 0.0476 - accuracy: 0.0014\n",
      "Epoch 9/100\n",
      "721/721 [==============================] - 0s 21us/step - loss: 0.0470 - accuracy: 0.0014\n",
      "Epoch 10/100\n",
      "721/721 [==============================] - 0s 20us/step - loss: 0.0465 - accuracy: 0.0014\n",
      "Epoch 11/100\n",
      "721/721 [==============================] - 0s 23us/step - loss: 0.0458 - accuracy: 0.0014\n",
      "Epoch 12/100\n",
      "721/721 [==============================] - 0s 32us/step - loss: 0.0452 - accuracy: 0.0014\n",
      "Epoch 13/100\n",
      "721/721 [==============================] - 0s 28us/step - loss: 0.0444 - accuracy: 0.0014\n",
      "Epoch 14/100\n",
      "721/721 [==============================] - 0s 27us/step - loss: 0.0436 - accuracy: 0.0014\n",
      "Epoch 15/100\n",
      "721/721 [==============================] - 0s 25us/step - loss: 0.0428 - accuracy: 0.0014\n",
      "Epoch 16/100\n",
      "721/721 [==============================] - 0s 21us/step - loss: 0.0420 - accuracy: 0.0014\n",
      "Epoch 17/100\n",
      "721/721 [==============================] - 0s 21us/step - loss: 0.0410 - accuracy: 0.0014\n",
      "Epoch 18/100\n",
      "721/721 [==============================] - 0s 24us/step - loss: 0.0400 - accuracy: 0.0028\n",
      "Epoch 19/100\n",
      "721/721 [==============================] - 0s 22us/step - loss: 0.0390 - accuracy: 0.0028\n",
      "Epoch 20/100\n",
      "721/721 [==============================] - 0s 21us/step - loss: 0.0378 - accuracy: 0.0028\n",
      "Epoch 21/100\n",
      "721/721 [==============================] - 0s 21us/step - loss: 0.0366 - accuracy: 0.0028\n",
      "Epoch 22/100\n",
      "721/721 [==============================] - 0s 25us/step - loss: 0.0353 - accuracy: 0.0028\n",
      "Epoch 23/100\n",
      "721/721 [==============================] - 0s 24us/step - loss: 0.0339 - accuracy: 0.0028\n",
      "Epoch 24/100\n",
      "721/721 [==============================] - 0s 24us/step - loss: 0.0325 - accuracy: 0.0028\n",
      "Epoch 25/100\n",
      "721/721 [==============================] - 0s 22us/step - loss: 0.0311 - accuracy: 0.0028\n",
      "Epoch 26/100\n",
      "721/721 [==============================] - 0s 20us/step - loss: 0.0298 - accuracy: 0.0028\n",
      "Epoch 27/100\n",
      "721/721 [==============================] - 0s 22us/step - loss: 0.0285 - accuracy: 0.0028\n",
      "Epoch 28/100\n",
      "721/721 [==============================] - 0s 24us/step - loss: 0.0273 - accuracy: 0.0028\n",
      "Epoch 29/100\n",
      "721/721 [==============================] - 0s 21us/step - loss: 0.0264 - accuracy: 0.0028\n",
      "Epoch 30/100\n",
      "721/721 [==============================] - 0s 21us/step - loss: 0.0255 - accuracy: 0.0028\n",
      "Epoch 31/100\n",
      "721/721 [==============================] - 0s 24us/step - loss: 0.0247 - accuracy: 0.0028\n",
      "Epoch 32/100\n",
      "721/721 [==============================] - 0s 21us/step - loss: 0.0241 - accuracy: 0.0028\n",
      "Epoch 33/100\n",
      "721/721 [==============================] - 0s 21us/step - loss: 0.0236 - accuracy: 0.0028\n",
      "Epoch 34/100\n",
      "721/721 [==============================] - 0s 25us/step - loss: 0.0230 - accuracy: 0.0028\n",
      "Epoch 35/100\n",
      "721/721 [==============================] - 0s 23us/step - loss: 0.0226 - accuracy: 0.0028\n",
      "Epoch 36/100\n",
      "721/721 [==============================] - 0s 22us/step - loss: 0.0222 - accuracy: 0.0028\n",
      "Epoch 37/100\n",
      "721/721 [==============================] - 0s 23us/step - loss: 0.0218 - accuracy: 0.0028\n",
      "Epoch 38/100\n",
      "721/721 [==============================] - 0s 22us/step - loss: 0.0215 - accuracy: 0.0028\n",
      "Epoch 39/100\n",
      "721/721 [==============================] - 0s 23us/step - loss: 0.0211 - accuracy: 0.0028\n",
      "Epoch 40/100\n",
      "721/721 [==============================] - 0s 22us/step - loss: 0.0208 - accuracy: 0.0028\n",
      "Epoch 41/100\n",
      "721/721 [==============================] - 0s 22us/step - loss: 0.0205 - accuracy: 0.0028\n",
      "Epoch 42/100\n",
      "721/721 [==============================] - 0s 21us/step - loss: 0.0201 - accuracy: 0.0028\n",
      "Epoch 43/100\n",
      "721/721 [==============================] - 0s 23us/step - loss: 0.0198 - accuracy: 0.0028\n",
      "Epoch 44/100\n",
      "721/721 [==============================] - 0s 21us/step - loss: 0.0195 - accuracy: 0.0028\n",
      "Epoch 45/100\n",
      "721/721 [==============================] - 0s 22us/step - loss: 0.0191 - accuracy: 0.0028\n",
      "Epoch 46/100\n",
      "721/721 [==============================] - 0s 21us/step - loss: 0.0188 - accuracy: 0.0028\n",
      "Epoch 47/100\n",
      "721/721 [==============================] - 0s 20us/step - loss: 0.0185 - accuracy: 0.0028\n",
      "Epoch 48/100\n",
      "721/721 [==============================] - 0s 21us/step - loss: 0.0182 - accuracy: 0.0028\n",
      "Epoch 49/100\n",
      "721/721 [==============================] - 0s 20us/step - loss: 0.0179 - accuracy: 0.0028\n",
      "Epoch 50/100\n",
      "721/721 [==============================] - 0s 21us/step - loss: 0.0175 - accuracy: 0.0028\n",
      "Epoch 51/100\n",
      "721/721 [==============================] - 0s 23us/step - loss: 0.0172 - accuracy: 0.0028\n",
      "Epoch 52/100\n",
      "721/721 [==============================] - 0s 22us/step - loss: 0.0169 - accuracy: 0.0028\n",
      "Epoch 53/100\n",
      "721/721 [==============================] - 0s 25us/step - loss: 0.0166 - accuracy: 0.0028\n",
      "Epoch 54/100\n",
      "721/721 [==============================] - 0s 25us/step - loss: 0.0163 - accuracy: 0.0028\n",
      "Epoch 55/100\n",
      "721/721 [==============================] - 0s 29us/step - loss: 0.0160 - accuracy: 0.0028\n",
      "Epoch 56/100\n",
      "721/721 [==============================] - 0s 24us/step - loss: 0.0157 - accuracy: 0.0028\n",
      "Epoch 57/100\n",
      "721/721 [==============================] - 0s 20us/step - loss: 0.0153 - accuracy: 0.0028\n",
      "Epoch 58/100\n",
      "721/721 [==============================] - 0s 21us/step - loss: 0.0151 - accuracy: 0.0028\n",
      "Epoch 59/100\n",
      "721/721 [==============================] - 0s 22us/step - loss: 0.0149 - accuracy: 0.0028\n",
      "Epoch 60/100\n",
      "721/721 [==============================] - 0s 22us/step - loss: 0.0145 - accuracy: 0.0028\n",
      "Epoch 61/100\n",
      "721/721 [==============================] - 0s 21us/step - loss: 0.0144 - accuracy: 0.0028\n",
      "Epoch 62/100\n",
      "721/721 [==============================] - 0s 21us/step - loss: 0.0140 - accuracy: 0.0028\n",
      "Epoch 63/100\n",
      "721/721 [==============================] - 0s 21us/step - loss: 0.0138 - accuracy: 0.0028\n",
      "Epoch 64/100\n",
      "721/721 [==============================] - 0s 22us/step - loss: 0.0135 - accuracy: 0.0028\n",
      "Epoch 65/100\n",
      "721/721 [==============================] - 0s 23us/step - loss: 0.0133 - accuracy: 0.0028\n",
      "Epoch 66/100\n",
      "721/721 [==============================] - 0s 34us/step - loss: 0.0131 - accuracy: 0.0028\n",
      "Epoch 67/100\n",
      "721/721 [==============================] - 0s 24us/step - loss: 0.0128 - accuracy: 0.0028\n",
      "Epoch 68/100\n",
      "721/721 [==============================] - 0s 24us/step - loss: 0.0126 - accuracy: 0.0028\n",
      "Epoch 69/100\n",
      "721/721 [==============================] - 0s 22us/step - loss: 0.0124 - accuracy: 0.0028\n",
      "Epoch 70/100\n",
      "721/721 [==============================] - 0s 28us/step - loss: 0.0122 - accuracy: 0.0028\n",
      "Epoch 71/100\n",
      "721/721 [==============================] - 0s 28us/step - loss: 0.0119 - accuracy: 0.0028\n",
      "Epoch 72/100\n",
      "721/721 [==============================] - 0s 22us/step - loss: 0.0117 - accuracy: 0.0028\n",
      "Epoch 73/100\n",
      "721/721 [==============================] - 0s 23us/step - loss: 0.0114 - accuracy: 0.0028\n",
      "Epoch 74/100\n",
      "721/721 [==============================] - 0s 22us/step - loss: 0.0111 - accuracy: 0.0028\n",
      "Epoch 75/100\n",
      "721/721 [==============================] - 0s 23us/step - loss: 0.0110 - accuracy: 0.0028\n",
      "Epoch 76/100\n",
      "721/721 [==============================] - 0s 24us/step - loss: 0.0108 - accuracy: 0.0028\n",
      "Epoch 77/100\n",
      "721/721 [==============================] - 0s 23us/step - loss: 0.0106 - accuracy: 0.0028\n",
      "Epoch 78/100\n",
      "721/721 [==============================] - 0s 22us/step - loss: 0.0104 - accuracy: 0.0028\n",
      "Epoch 79/100\n",
      "721/721 [==============================] - 0s 23us/step - loss: 0.0101 - accuracy: 0.0028\n",
      "Epoch 80/100\n",
      "721/721 [==============================] - 0s 25us/step - loss: 0.0100 - accuracy: 0.0028\n",
      "Epoch 81/100\n",
      "721/721 [==============================] - 0s 23us/step - loss: 0.0098 - accuracy: 0.0028\n",
      "Epoch 82/100\n",
      "721/721 [==============================] - 0s 20us/step - loss: 0.0096 - accuracy: 0.0028\n",
      "Epoch 83/100\n",
      "721/721 [==============================] - 0s 20us/step - loss: 0.0093 - accuracy: 0.0028\n",
      "Epoch 84/100\n",
      "721/721 [==============================] - 0s 25us/step - loss: 0.0092 - accuracy: 0.0028\n",
      "Epoch 85/100\n",
      "721/721 [==============================] - 0s 26us/step - loss: 0.0091 - accuracy: 0.0028\n",
      "Epoch 86/100\n",
      "721/721 [==============================] - 0s 24us/step - loss: 0.0090 - accuracy: 0.0028\n",
      "Epoch 87/100\n",
      "721/721 [==============================] - 0s 22us/step - loss: 0.0088 - accuracy: 0.0028\n",
      "Epoch 88/100\n",
      "721/721 [==============================] - 0s 23us/step - loss: 0.0086 - accuracy: 0.0028\n",
      "Epoch 89/100\n",
      "721/721 [==============================] - 0s 20us/step - loss: 0.0085 - accuracy: 0.0028\n",
      "Epoch 90/100\n",
      "721/721 [==============================] - 0s 26us/step - loss: 0.0085 - accuracy: 0.0028\n",
      "Epoch 91/100\n",
      "721/721 [==============================] - 0s 27us/step - loss: 0.0084 - accuracy: 0.0028\n",
      "Epoch 92/100\n",
      "721/721 [==============================] - 0s 23us/step - loss: 0.0083 - accuracy: 0.0028\n",
      "Epoch 93/100\n",
      "721/721 [==============================] - 0s 24us/step - loss: 0.0082 - accuracy: 0.0028\n",
      "Epoch 94/100\n",
      "721/721 [==============================] - 0s 24us/step - loss: 0.0082 - accuracy: 0.0028\n",
      "Epoch 95/100\n",
      "721/721 [==============================] - 0s 25us/step - loss: 0.0081 - accuracy: 0.0028\n",
      "Epoch 96/100\n",
      "721/721 [==============================] - 0s 26us/step - loss: 0.0080 - accuracy: 0.0028\n",
      "Epoch 97/100\n",
      "721/721 [==============================] - 0s 24us/step - loss: 0.0080 - accuracy: 0.0028\n",
      "Epoch 98/100\n",
      "721/721 [==============================] - 0s 23us/step - loss: 0.0079 - accuracy: 0.0028\n",
      "Epoch 99/100\n",
      "721/721 [==============================] - 0s 24us/step - loss: 0.0078 - accuracy: 0.0028\n",
      "Epoch 100/100\n",
      "721/721 [==============================] - 0s 29us/step - loss: 0.0078 - accuracy: 0.0028\n"
     ]
    },
    {
     "data": {
      "text/plain": [
       "<keras.callbacks.callbacks.History at 0x7fa327b60d30>"
      ]
     },
     "execution_count": 139,
     "metadata": {
      "tags": []
     },
     "output_type": "execute_result"
    }
   ],
   "source": [
    "from keras import Sequential\n",
    "from keras.layers import Dense\n",
    "\n",
    "baseline_model = Sequential()\n",
    "\n",
    "baseline_model.add(Dense(10, activation = 'relu', input_shape = (8,)))\n",
    "baseline_model.add(Dense(10, activation = 'relu', input_shape = (8,)))\n",
    "baseline_model.add(Dense(10, activation = 'relu', input_shape = (8,)))\n",
    "baseline_model.add(Dense(10, activation = 'relu', input_shape = (8,)))\n",
    "baseline_model.add(Dense(10, activation = 'relu', input_shape = (8,)))\n",
    "baseline_model.add(Dense(1, activation = 'sigmoid'))\n",
    "\n",
    "baseline_model.compile(optimizer = 'adam', loss = 'mean_squared_error', metrics = ['accuracy'])\n",
    "\n",
    "baseline_model.fit(x_train, y_train, batch_size = 200, epochs = 100)"
   ]
  },
  {
   "cell_type": "code",
   "execution_count": 140,
   "metadata": {
    "colab": {
     "base_uri": "https://localhost:8080/",
     "height": 54
    },
    "colab_type": "code",
    "id": "wzlAU7mwG62I",
    "outputId": "055195c3-5eab-4b45-c54f-0dea4947935b"
   },
   "outputs": [
    {
     "name": "stdout",
     "output_type": "stream",
     "text": [
      "Mean error:  1.0 \n",
      "Standard Deviation of errors:  0.0\n"
     ]
    }
   ],
   "source": [
    "from math import sqrt\n",
    "\n",
    "baseline_errors = baseline_model.predict(x_test, batch_size = 200)\n",
    "baseline_mean = baseline_model_errors.mean()\n",
    "baseline_std_dev = \\\n",
    "    sqrt(sum([i - baseline_mean for i in baseline_model_errors]) / len(baseline_errors))\n",
    "\n",
    "print('Mean error: ', baseline_mean, '\\nStandard Deviation of errors: ', baseline_std_dev)"
   ]
  },
  {
   "cell_type": "code",
   "execution_count": 0,
   "metadata": {
    "colab": {},
    "colab_type": "code",
    "id": "6ESkTMb_G9j1"
   },
   "outputs": [],
   "source": []
  }
 ],
 "metadata": {
  "accelerator": "GPU",
  "colab": {
   "collapsed_sections": [
    "bhR4uapgA9B_",
    "qdeWNlUBCIMF"
   ],
   "name": "intro_to_deep_learning_course_project.ipynb",
   "provenance": []
  },
  "kernelspec": {
   "display_name": "Python 3",
   "language": "python",
   "name": "python3"
  },
  "language_info": {
   "codemirror_mode": {
    "name": "ipython",
    "version": 3
   },
   "file_extension": ".py",
   "mimetype": "text/x-python",
   "name": "python",
   "nbconvert_exporter": "python",
   "pygments_lexer": "ipython3",
   "version": "3.7.7"
  }
 },
 "nbformat": 4,
 "nbformat_minor": 1
}
