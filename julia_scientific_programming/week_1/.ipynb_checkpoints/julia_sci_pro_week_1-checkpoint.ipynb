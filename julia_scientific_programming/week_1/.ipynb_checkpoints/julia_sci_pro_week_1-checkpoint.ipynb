{
 "cells": [
  {
   "cell_type": "markdown",
   "metadata": {},
   "source": [
    "# Julia Scientific Programming week 1"
   ]
  },
  {
   "cell_type": "markdown",
   "metadata": {},
   "source": [
    "## Starting with Julia notebooks"
   ]
  },
  {
   "cell_type": "markdown",
   "metadata": {},
   "source": [
    "The Julia REPL which stands for Read, Evaluate, Print, Loop.\n",
    "Every time you use the command `shift-enter` you run through that loop."
   ]
  },
  {
   "cell_type": "code",
   "execution_count": 1,
   "metadata": {},
   "outputs": [
    {
     "name": "stdout",
     "output_type": "stream",
     "text": [
      "Hello, world!\n"
     ]
    }
   ],
   "source": [
    "println(\"Hello, world!\")"
   ]
  },
  {
   "cell_type": "markdown",
   "metadata": {},
   "source": [
    "`println()`, will execute the code and display it in the command line and insert a new line after it."
   ]
  },
  {
   "cell_type": "code",
   "execution_count": 2,
   "metadata": {},
   "outputs": [
    {
     "data": {
      "text/plain": [
       "5"
      ]
     },
     "execution_count": 2,
     "metadata": {},
     "output_type": "execute_result"
    }
   ],
   "source": [
    "# Entering 5\n",
    "5"
   ]
  },
  {
   "cell_type": "code",
   "execution_count": 3,
   "metadata": {},
   "outputs": [
    {
     "data": {
      "text/plain": [
       "10"
      ]
     },
     "execution_count": 3,
     "metadata": {},
     "output_type": "execute_result"
    }
   ],
   "source": [
    "# Evaluating addition\n",
    "5 + 5"
   ]
  },
  {
   "cell_type": "code",
   "execution_count": 4,
   "metadata": {},
   "outputs": [
    {
     "name": "stdout",
     "output_type": "stream",
     "text": [
      "Hello! My word!\n",
      "Hello! My word! My word! My word!\n"
     ]
    }
   ],
   "source": [
    "println(\"Hello!\" * \" My word!\")\n",
    "println(\"Hello!\" * \" My word!\"^3)"
   ]
  },
  {
   "cell_type": "code",
   "execution_count": 8,
   "metadata": {},
   "outputs": [
    {
     "name": "stdout",
     "output_type": "stream",
     "text": [
      "1.2000000000000002"
     ]
    }
   ],
   "source": [
    "# Julia cannot represent exact floating point numbers, thus the output is 1.20...2\n",
    "print(5 - 3.8)"
   ]
  },
  {
   "cell_type": "code",
   "execution_count": 10,
   "metadata": {},
   "outputs": [
    {
     "ename": "LoadError",
     "evalue": "syntax: invalid character literal",
     "output_type": "error",
     "traceback": [
      "syntax: invalid character literal",
      ""
     ]
    }
   ],
   "source": [
    "# You cannot use single quotes for strings only double quotes\n",
    "println('hello world')"
   ]
  },
  {
   "cell_type": "markdown",
   "metadata": {},
   "source": [
    "Find out more about a function with a question mark followed by a \n",
    "function name with out paratheses. It won't work if there is any other code\n",
    "in the block, even comments."
   ]
  },
  {
   "cell_type": "code",
   "execution_count": 19,
   "metadata": {},
   "outputs": [
    {
     "name": "stdout",
     "output_type": "stream",
     "text": [
      "search: \u001b[0m\u001b[1mp\u001b[22m\u001b[0m\u001b[1mr\u001b[22m\u001b[0m\u001b[1mi\u001b[22m\u001b[0m\u001b[1mn\u001b[22m\u001b[0m\u001b[1mt\u001b[22m\u001b[0m\u001b[1ml\u001b[22m\u001b[0m\u001b[1mn\u001b[22m \u001b[0m\u001b[1mp\u001b[22m\u001b[0m\u001b[1mr\u001b[22m\u001b[0m\u001b[1mi\u001b[22m\u001b[0m\u001b[1mn\u001b[22m\u001b[0m\u001b[1mt\u001b[22msty\u001b[0m\u001b[1ml\u001b[22med \u001b[0m\u001b[1mp\u001b[22m\u001b[0m\u001b[1mr\u001b[22m\u001b[0m\u001b[1mi\u001b[22m\u001b[0m\u001b[1mn\u001b[22m\u001b[0m\u001b[1mt\u001b[22m s\u001b[0m\u001b[1mp\u001b[22m\u001b[0m\u001b[1mr\u001b[22m\u001b[0m\u001b[1mi\u001b[22m\u001b[0m\u001b[1mn\u001b[22m\u001b[0m\u001b[1mt\u001b[22m is\u001b[0m\u001b[1mp\u001b[22m\u001b[0m\u001b[1mr\u001b[22m\u001b[0m\u001b[1mi\u001b[22m\u001b[0m\u001b[1mn\u001b[22m\u001b[0m\u001b[1mt\u001b[22m\n",
      "\n"
     ]
    },
    {
     "data": {
      "text/latex": [
       "\\begin{verbatim}\n",
       "println([io::IO], xs...)\n",
       "\\end{verbatim}\n",
       "Print (using \\href{@ref}{\\texttt{print}}) \\texttt{xs} followed by a newline. If \\texttt{io} is not supplied, prints to \\href{@ref}{\\texttt{stdout}}.\n",
       "\n",
       "\\section{Examples}\n",
       "\\begin{verbatim}\n",
       "julia> println(\"Hello, world\")\n",
       "Hello, world\n",
       "\n",
       "julia> io = IOBuffer();\n",
       "\n",
       "julia> println(io, \"Hello, world\")\n",
       "\n",
       "julia> String(take!(io))\n",
       "\"Hello, world\\n\"\n",
       "\\end{verbatim}\n"
      ],
      "text/markdown": [
       "```\n",
       "println([io::IO], xs...)\n",
       "```\n",
       "\n",
       "Print (using [`print`](@ref)) `xs` followed by a newline. If `io` is not supplied, prints to [`stdout`](@ref).\n",
       "\n",
       "# Examples\n",
       "\n",
       "```jldoctest\n",
       "julia> println(\"Hello, world\")\n",
       "Hello, world\n",
       "\n",
       "julia> io = IOBuffer();\n",
       "\n",
       "julia> println(io, \"Hello, world\")\n",
       "\n",
       "julia> String(take!(io))\n",
       "\"Hello, world\\n\"\n",
       "```\n"
      ],
      "text/plain": [
       "\u001b[36m  println([io::IO], xs...)\u001b[39m\n",
       "\n",
       "  Print (using \u001b[36mprint\u001b[39m) \u001b[36mxs\u001b[39m followed by a newline. If \u001b[36mio\u001b[39m is not supplied, prints\n",
       "  to \u001b[36mstdout\u001b[39m.\n",
       "\n",
       "\u001b[1m  Examples\u001b[22m\n",
       "\u001b[1m  ≡≡≡≡≡≡≡≡≡≡\u001b[22m\n",
       "\n",
       "\u001b[36m  julia> println(\"Hello, world\")\u001b[39m\n",
       "\u001b[36m  Hello, world\u001b[39m\n",
       "\u001b[36m  \u001b[39m\n",
       "\u001b[36m  julia> io = IOBuffer();\u001b[39m\n",
       "\u001b[36m  \u001b[39m\n",
       "\u001b[36m  julia> println(io, \"Hello, world\")\u001b[39m\n",
       "\u001b[36m  \u001b[39m\n",
       "\u001b[36m  julia> String(take!(io))\u001b[39m\n",
       "\u001b[36m  \"Hello, world\\n\"\u001b[39m"
      ]
     },
     "execution_count": 19,
     "metadata": {},
     "output_type": "execute_result"
    }
   ],
   "source": [
    "? println"
   ]
  },
  {
   "cell_type": "markdown",
   "metadata": {},
   "source": [
    "## Simple arithmetical and logical expressions in Julia"
   ]
  },
  {
   "cell_type": "markdown",
   "metadata": {},
   "source": [
    "Julia evaluates arithmetic left to right, but not always.\n",
    "Some operators come in a higher precedence than others.\n",
    "The order of the operations are:\n",
    "1. Parantheses.\n",
    "2. Exponentation.\n",
    "3. Multiplication and division, left to right.\n",
    "4. Addition and subtraction, left to  right."
   ]
  },
  {
   "cell_type": "markdown",
   "metadata": {},
   "source": [
    "Mixing types slows Julia down tremendously.\n",
    "Bad code! It mixes types: Int64 and Float64"
   ]
  },
  {
   "cell_type": "code",
   "execution_count": 22,
   "metadata": {},
   "outputs": [
    {
     "data": {
      "text/plain": [
       "-11.725000000000001"
      ]
     },
     "execution_count": 22,
     "metadata": {},
     "output_type": "execute_result"
    }
   ],
   "source": [
    "0.2 + 0.1 - 3 * 6.7 / 4 - 1 - 2 * 3"
   ]
  },
  {
   "cell_type": "markdown",
   "metadata": {},
   "source": [
    "Exponentation does not behave in this way however"
   ]
  },
  {
   "cell_type": "code",
   "execution_count": 24,
   "metadata": {},
   "outputs": [
    {
     "name": "stdout",
     "output_type": "stream",
     "text": [
      "6561\n",
      "729\n"
     ]
    }
   ],
   "source": [
    "println(3^2^3)\n",
    "println((3^2)^3)"
   ]
  },
  {
   "cell_type": "code",
   "execution_count": 26,
   "metadata": {},
   "outputs": [
    {
     "ename": "DomainError",
     "evalue": "DomainError with -2123239275174882697:\nCannot raise an integer x to a negative power -2123239275174882697.\nMake x or -2123239275174882697 a float by adding a zero decimal (e.g., 2.0^-2123239275174882697 or 2^-2.1232392751748828e18 instead of 2^-2123239275174882697), or write 1/x^2123239275174882697, float(x)^-2123239275174882697, x^float(-2123239275174882697) or (x//1)^-2123239275174882697",
     "output_type": "error",
     "traceback": [
      "DomainError with -2123239275174882697:\nCannot raise an integer x to a negative power -2123239275174882697.\nMake x or -2123239275174882697 a float by adding a zero decimal (e.g., 2.0^-2123239275174882697 or 2^-2.1232392751748828e18 instead of 2^-2123239275174882697), or write 1/x^2123239275174882697, float(x)^-2123239275174882697, x^float(-2123239275174882697) or (x//1)^-2123239275174882697",
      "",
      "Stacktrace:",
      " [1] throw_domerr_powbysq(::Int64, ::Int64) at .\\intfuncs.jl:193",
      " [2] power_by_squaring(::Int64, ::Int64) at .\\intfuncs.jl:214",
      " [3] ^(::Int64, ::Int64) at .\\intfuncs.jl:238",
      " [4] top-level scope at In[26]:1"
     ]
    }
   ],
   "source": [
    "4 * 3 * (3^6^6^999^43 * 18973 + 103) * 279373 / 33773^1982^1982982^2989182 * ( 38273827^392898^373 * 283937 *397937 / (3837837^8^38383) * 83938) + 383983 - 38937397^1982198^982318^3982938283928392839^392839239"
   ]
  },
  {
   "cell_type": "markdown",
   "metadata": {},
   "source": [
    "## Logical expressions"
   ]
  },
  {
   "cell_type": "markdown",
   "metadata": {},
   "source": [
    "Logial operators in Julia:\n",
    "* `!` is the NOT operator.\n",
    "* `&&` is the AND operator.\n",
    "* `||` is the OR operator"
   ]
  },
  {
   "cell_type": "markdown",
   "metadata": {},
   "source": [
    "Comparison operators in Julia:\n",
    "* `<` is the LESS THAN operator.\n",
    "* `>` is the GREATER THAN operator.\n",
    "* `==`  is the EQUALITY operator.\n",
    "* `!=` is the INEQUALITY operator"
   ]
  },
  {
   "cell_type": "code",
   "execution_count": 29,
   "metadata": {},
   "outputs": [
    {
     "data": {
      "text/plain": [
       "84.0"
      ]
     },
     "execution_count": 29,
     "metadata": {},
     "output_type": "execute_result"
    }
   ],
   "source": [
    "5040 / 60"
   ]
  },
  {
   "cell_type": "markdown",
   "metadata": {},
   "source": [
    "## Julia types and arrays"
   ]
  },
  {
   "cell_type": "code",
   "execution_count": 5,
   "metadata": {
    "scrolled": true
   },
   "outputs": [
    {
     "data": {
      "text/plain": [
       "0.5"
      ]
     },
     "execution_count": 5,
     "metadata": {},
     "output_type": "execute_result"
    }
   ],
   "source": [
    "α = 0.5"
   ]
  },
  {
   "cell_type": "code",
   "execution_count": 8,
   "metadata": {
    "scrolled": true
   },
   "outputs": [
    {
     "data": {
      "text/plain": [
       "2.2"
      ]
     },
     "execution_count": 8,
     "metadata": {},
     "output_type": "execute_result"
    }
   ],
   "source": [
    "ω = 2.2 "
   ]
  },
  {
   "cell_type": "code",
   "execution_count": 9,
   "metadata": {},
   "outputs": [
    {
     "data": {
      "text/plain": [
       "2.7"
      ]
     },
     "execution_count": 9,
     "metadata": {},
     "output_type": "execute_result"
    }
   ],
   "source": [
    "α + ω"
   ]
  },
  {
   "cell_type": "code",
   "execution_count": 12,
   "metadata": {},
   "outputs": [
    {
     "data": {
      "text/plain": [
       "String"
      ]
     },
     "execution_count": 12,
     "metadata": {},
     "output_type": "execute_result"
    }
   ],
   "source": [
    "typeof(\"String\")"
   ]
  },
  {
   "cell_type": "code",
   "execution_count": 13,
   "metadata": {},
   "outputs": [
    {
     "data": {
      "text/plain": [
       "Int64"
      ]
     },
     "execution_count": 13,
     "metadata": {},
     "output_type": "execute_result"
    }
   ],
   "source": [
    "typeof(1)"
   ]
  },
  {
   "cell_type": "code",
   "execution_count": 14,
   "metadata": {},
   "outputs": [
    {
     "name": "stdout",
     "output_type": "stream",
     "text": [
      "search: \u001b[0m\u001b[1mS\u001b[22m\u001b[0m\u001b[1mt\u001b[22m\u001b[0m\u001b[1mr\u001b[22m\u001b[0m\u001b[1mi\u001b[22m\u001b[0m\u001b[1mn\u001b[22m\u001b[0m\u001b[1mg\u001b[22m \u001b[0m\u001b[1ms\u001b[22m\u001b[0m\u001b[1mt\u001b[22m\u001b[0m\u001b[1mr\u001b[22m\u001b[0m\u001b[1mi\u001b[22m\u001b[0m\u001b[1mn\u001b[22m\u001b[0m\u001b[1mg\u001b[22m \u001b[0m\u001b[1mS\u001b[22m\u001b[0m\u001b[1mt\u001b[22m\u001b[0m\u001b[1mr\u001b[22m\u001b[0m\u001b[1mi\u001b[22m\u001b[0m\u001b[1mn\u001b[22m\u001b[0m\u001b[1mg\u001b[22mIndexError C\u001b[0m\u001b[1ms\u001b[22m\u001b[0m\u001b[1mt\u001b[22m\u001b[0m\u001b[1mr\u001b[22m\u001b[0m\u001b[1mi\u001b[22m\u001b[0m\u001b[1mn\u001b[22m\u001b[0m\u001b[1mg\u001b[22m Cw\u001b[0m\u001b[1ms\u001b[22m\u001b[0m\u001b[1mt\u001b[22m\u001b[0m\u001b[1mr\u001b[22m\u001b[0m\u001b[1mi\u001b[22m\u001b[0m\u001b[1mn\u001b[22m\u001b[0m\u001b[1mg\u001b[22m bit\u001b[0m\u001b[1ms\u001b[22m\u001b[0m\u001b[1mt\u001b[22m\u001b[0m\u001b[1mr\u001b[22m\u001b[0m\u001b[1mi\u001b[22m\u001b[0m\u001b[1mn\u001b[22m\u001b[0m\u001b[1mg\u001b[22m \u001b[0m\u001b[1mS\u001b[22mubS\u001b[0m\u001b[1mt\u001b[22m\u001b[0m\u001b[1mr\u001b[22m\u001b[0m\u001b[1mi\u001b[22m\u001b[0m\u001b[1mn\u001b[22m\u001b[0m\u001b[1mg\u001b[22m\n",
      "\n"
     ]
    },
    {
     "data": {
      "text/latex": [
       "\\begin{verbatim}\n",
       "String(v::AbstractVector{UInt8})\n",
       "\\end{verbatim}\n",
       "Create a new \\texttt{String} object from a byte vector \\texttt{v} containing UTF-8 encoded characters. If \\texttt{v} is \\texttt{Vector\\{UInt8\\}} it will be truncated to zero length and future modification of \\texttt{v} cannot affect the contents of the resulting string. To avoid truncation use \\texttt{String(copy(v))}.\n",
       "\n",
       "When possible, the memory of \\texttt{v} will be used without copying when the \\texttt{String} object is created. This is guaranteed to be the case for byte vectors returned by \\href{@ref}{\\texttt{take!}} on a writable \\href{@ref}{\\texttt{IOBuffer}} and by calls to \\href{@ref}{\\texttt{read(io, nb)}}. This allows zero-copy conversion of I/O data to strings. In other cases, \\texttt{Vector\\{UInt8\\}} data may be copied, but \\texttt{v} is truncated anyway to guarantee consistent behavior.\n",
       "\n",
       "\\rule{\\textwidth}{1pt}\n",
       "\\begin{verbatim}\n",
       "String(s::AbstractString)\n",
       "\\end{verbatim}\n",
       "Convert a string to a contiguous byte array representation encoded as UTF-8 bytes. This representation is often appropriate for passing strings to C.\n",
       "\n"
      ],
      "text/markdown": [
       "```\n",
       "String(v::AbstractVector{UInt8})\n",
       "```\n",
       "\n",
       "Create a new `String` object from a byte vector `v` containing UTF-8 encoded characters. If `v` is `Vector{UInt8}` it will be truncated to zero length and future modification of `v` cannot affect the contents of the resulting string. To avoid truncation use `String(copy(v))`.\n",
       "\n",
       "When possible, the memory of `v` will be used without copying when the `String` object is created. This is guaranteed to be the case for byte vectors returned by [`take!`](@ref) on a writable [`IOBuffer`](@ref) and by calls to [`read(io, nb)`](@ref). This allows zero-copy conversion of I/O data to strings. In other cases, `Vector{UInt8}` data may be copied, but `v` is truncated anyway to guarantee consistent behavior.\n",
       "\n",
       "---\n",
       "\n",
       "```\n",
       "String(s::AbstractString)\n",
       "```\n",
       "\n",
       "Convert a string to a contiguous byte array representation encoded as UTF-8 bytes. This representation is often appropriate for passing strings to C.\n"
      ],
      "text/plain": [
       "\u001b[36m  String(v::AbstractVector{UInt8})\u001b[39m\n",
       "\n",
       "  Create a new \u001b[36mString\u001b[39m object from a byte vector \u001b[36mv\u001b[39m containing UTF-8 encoded\n",
       "  characters. If \u001b[36mv\u001b[39m is \u001b[36mVector{UInt8}\u001b[39m it will be truncated to zero length and\n",
       "  future modification of \u001b[36mv\u001b[39m cannot affect the contents of the resulting string.\n",
       "  To avoid truncation use \u001b[36mString(copy(v))\u001b[39m.\n",
       "\n",
       "  When possible, the memory of \u001b[36mv\u001b[39m will be used without copying when the \u001b[36mString\u001b[39m\n",
       "  object is created. This is guaranteed to be the case for byte vectors\n",
       "  returned by \u001b[36mtake!\u001b[39m on a writable \u001b[36mIOBuffer\u001b[39m and by calls to \u001b[36mread(io, nb)\u001b[39m. This\n",
       "  allows zero-copy conversion of I/O data to strings. In other cases,\n",
       "  \u001b[36mVector{UInt8}\u001b[39m data may be copied, but \u001b[36mv\u001b[39m is truncated anyway to guarantee\n",
       "  consistent behavior.\n",
       "\n",
       "  ────────────────────────────────────────────────────────────────────────────\n",
       "\n",
       "\u001b[36m  String(s::AbstractString)\u001b[39m\n",
       "\n",
       "  Convert a string to a contiguous byte array representation encoded as UTF-8\n",
       "  bytes. This representation is often appropriate for passing strings to C."
      ]
     },
     "execution_count": 14,
     "metadata": {},
     "output_type": "execute_result"
    }
   ],
   "source": [
    "? String"
   ]
  },
  {
   "cell_type": "code",
   "execution_count": 15,
   "metadata": {},
   "outputs": [
    {
     "name": "stdout",
     "output_type": "stream",
     "text": [
      "search: \u001b[0m\u001b[1mI\u001b[22m\u001b[0m\u001b[1mn\u001b[22m\u001b[0m\u001b[1mt\u001b[22m\u001b[0m\u001b[1m6\u001b[22m\u001b[0m\u001b[1m4\u001b[22m U\u001b[0m\u001b[1mI\u001b[22m\u001b[0m\u001b[1mn\u001b[22m\u001b[0m\u001b[1mt\u001b[22m\u001b[0m\u001b[1m6\u001b[22m\u001b[0m\u001b[1m4\u001b[22m \u001b[0m\u001b[1mI\u001b[22m\u001b[0m\u001b[1mn\u001b[22m\u001b[0m\u001b[1mt\u001b[22m1\u001b[0m\u001b[1m6\u001b[22m U\u001b[0m\u001b[1mI\u001b[22m\u001b[0m\u001b[1mn\u001b[22m\u001b[0m\u001b[1mt\u001b[22m1\u001b[0m\u001b[1m6\u001b[22m\n",
      "\n"
     ]
    },
    {
     "data": {
      "text/latex": [
       "\\begin{verbatim}\n",
       "Int64 <: Signed\n",
       "\\end{verbatim}\n",
       "64-bit signed integer type.\n",
       "\n"
      ],
      "text/markdown": [
       "```\n",
       "Int64 <: Signed\n",
       "```\n",
       "\n",
       "64-bit signed integer type.\n"
      ],
      "text/plain": [
       "\u001b[36m  Int64 <: Signed\u001b[39m\n",
       "\n",
       "  64-bit signed integer type."
      ]
     },
     "execution_count": 15,
     "metadata": {},
     "output_type": "execute_result"
    }
   ],
   "source": [
    "? Int64"
   ]
  },
  {
   "cell_type": "code",
   "execution_count": 16,
   "metadata": {},
   "outputs": [
    {
     "name": "stdout",
     "output_type": "stream",
     "text": [
      "search: \u001b[0m\u001b[1mI\u001b[22m\u001b[0m\u001b[1mn\u001b[22m\u001b[0m\u001b[1mt\u001b[22m\u001b[0m\u001b[1m8\u001b[22m U\u001b[0m\u001b[1mI\u001b[22m\u001b[0m\u001b[1mn\u001b[22m\u001b[0m\u001b[1mt\u001b[22m\u001b[0m\u001b[1m8\u001b[22m \u001b[0m\u001b[1mI\u001b[22m\u001b[0m\u001b[1mn\u001b[22m\u001b[0m\u001b[1mt\u001b[22m12\u001b[0m\u001b[1m8\u001b[22m U\u001b[0m\u001b[1mI\u001b[22m\u001b[0m\u001b[1mn\u001b[22m\u001b[0m\u001b[1mt\u001b[22m12\u001b[0m\u001b[1m8\u001b[22m @\u001b[0m\u001b[1mi\u001b[22m\u001b[0m\u001b[1mn\u001b[22m\u001b[0m\u001b[1mt\u001b[22m12\u001b[0m\u001b[1m8\u001b[22m_str @u\u001b[0m\u001b[1mi\u001b[22m\u001b[0m\u001b[1mn\u001b[22m\u001b[0m\u001b[1mt\u001b[22m12\u001b[0m\u001b[1m8\u001b[22m_str \u001b[0m\u001b[1mI\u001b[22m\u001b[0m\u001b[1mn\u001b[22m\u001b[0m\u001b[1mt\u001b[22m \u001b[0m\u001b[1mI\u001b[22m\u001b[0m\u001b[1mn\u001b[22m\u001b[0m\u001b[1mt\u001b[22m64 \u001b[0m\u001b[1mI\u001b[22m\u001b[0m\u001b[1mn\u001b[22m\u001b[0m\u001b[1mt\u001b[22m32 \u001b[0m\u001b[1mI\u001b[22m\u001b[0m\u001b[1mn\u001b[22m\u001b[0m\u001b[1mt\u001b[22m16\n",
      "\n"
     ]
    },
    {
     "data": {
      "text/latex": [
       "\\begin{verbatim}\n",
       "Int8 <: Signed\n",
       "\\end{verbatim}\n",
       "8-bit signed integer type.\n",
       "\n"
      ],
      "text/markdown": [
       "```\n",
       "Int8 <: Signed\n",
       "```\n",
       "\n",
       "8-bit signed integer type.\n"
      ],
      "text/plain": [
       "\u001b[36m  Int8 <: Signed\u001b[39m\n",
       "\n",
       "  8-bit signed integer type."
      ]
     },
     "execution_count": 16,
     "metadata": {},
     "output_type": "execute_result"
    }
   ],
   "source": [
    "? Int8"
   ]
  },
  {
   "cell_type": "markdown",
   "metadata": {},
   "source": [
    "When mathematical operations are performed if there are any `Float64` values inside of the equation, then they are all converted to `Float64`.\n",
    "\n",
    "Because:\n",
    "1. Any `Int64` can be an `Float64`.\n",
    "2. Not every `Float64` can be an `Int64`."
   ]
  },
  {
   "cell_type": "markdown",
   "metadata": {},
   "source": [
    "There are such a thing as supertypes of which any type has one except the type `Any`. `Any` is its own supertype.\n",
    "\n",
    "* `Float64`, supertype is `Real`.\n",
    "* `Int64`, supertype is `Signed`, supertype is `Integer`, supertype is `Real`.\n",
    "\n",
    "Any type that has a subtype, is called an abstract type."
   ]
  }
 ],
 "metadata": {
  "kernelspec": {
   "display_name": "Julia 1.4.1",
   "language": "julia",
   "name": "julia-1.4"
  },
  "language_info": {
   "file_extension": ".jl",
   "mimetype": "application/julia",
   "name": "julia",
   "version": "1.4.1"
  }
 },
 "nbformat": 4,
 "nbformat_minor": 4
}
