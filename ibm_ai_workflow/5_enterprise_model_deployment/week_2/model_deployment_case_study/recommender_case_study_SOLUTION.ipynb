{
 "cells": [
  {
   "cell_type": "markdown",
   "metadata": {},
   "source": [
    "## CASE STUDY - Deploying a recommender\n",
    "\n",
    "We have seen the movie lens data on a toy dataset now lets try something a little bigger.  You have some\n",
    "choices.\n",
    "\n",
    "* [MovieLens Downloads](https://grouplens.org/datasets/movielens/latest/)\n",
    "\n",
    "If your resources are limited (your working on a computer with limited amount of memory)\n",
    "\n",
    "> continue to use the sample_movielens_ranting.csv\n",
    "\n",
    "If you have a computer with at least 8GB of RAM\n",
    "\n",
    "> download the ml-latest-small.zip\n",
    "\n",
    "If you have the computational resources (access to Spark cluster or high-memory machine)\n",
    "\n",
    "> download the ml-latest.zip\n",
    "\n",
    "The two important pages for documentation are below.\n",
    "\n",
    "* [Spark MLlib collaborative filtering docs](https://spark.apache.org/docs/latest/ml-collaborative-filtering.html) \n",
    "* [Spark ALS docs](https://spark.apache.org/docs/latest/api/python/pyspark.mllib.html#pyspark.mllib.recommendation.ALS)\n"
   ]
  },
  {
   "cell_type": "code",
   "execution_count": 1,
   "metadata": {},
   "outputs": [],
   "source": [
    "import os\n",
    "import shutil\n",
    "import pandas as pd\n",
    "import numpy as np\n",
    "import pyspark as ps\n",
    "from pyspark.ml import Pipeline\n",
    "from pyspark.ml.evaluation import RegressionEvaluator\n",
    "from pyspark.ml.recommendation import ALS\n",
    "from pyspark.sql import Row\n",
    "from pyspark.sql.types import DoubleType"
   ]
  },
  {
   "cell_type": "code",
   "execution_count": 2,
   "metadata": {},
   "outputs": [
    {
     "name": "stdout",
     "output_type": "stream",
     "text": [
      "3.0.0\n"
     ]
    }
   ],
   "source": [
    "## ensure the spark context is available\n",
    "spark = (ps.sql.SparkSession.builder\n",
    "        .appName(\"sandbox\")\n",
    "        .getOrCreate()\n",
    "        )\n",
    "\n",
    "sc = spark.sparkContext\n",
    "print(spark.version) "
   ]
  },
  {
   "cell_type": "code",
   "execution_count": 7,
   "metadata": {},
   "outputs": [],
   "source": [
    "## note that this solution uses ml-latest.zip\n",
    "data_dir = os.path.join(\".\",\"spark_docker\",\"data\", 'ml-latest-small')\n",
    "ratings_file = os.path.join(data_dir,\"ratings.csv\")\n",
    "movies_file = os.path.join(data_dir,\"movies.csv\")                            \n",
    "if not os.path.exists(ratings_file):\n",
    "    print(\"ERROR make sure the path to the ratings file is correct\")"
   ]
  },
  {
   "cell_type": "code",
   "execution_count": 8,
   "metadata": {},
   "outputs": [
    {
     "name": "stdout",
     "output_type": "stream",
     "text": [
      "+------+-------+------+---------+\n",
      "|userId|movieId|rating|timestamp|\n",
      "+------+-------+------+---------+\n",
      "|     1|      1|   4.0|964982703|\n",
      "|     1|      3|   4.0|964981247|\n",
      "|     1|      6|   4.0|964982224|\n",
      "|     1|     47|   5.0|964983815|\n",
      "+------+-------+------+---------+\n",
      "only showing top 4 rows\n",
      "\n"
     ]
    }
   ],
   "source": [
    "## load the data\n",
    "df = spark.read.format(\"csv\").options(header=\"true\",inferSchema=\"true\").load(ratings_file)\n",
    "df.show(n=4)"
   ]
  },
  {
   "cell_type": "code",
   "execution_count": 9,
   "metadata": {
    "scrolled": false
   },
   "outputs": [
    {
     "data": {
      "text/html": [
       "<div>\n",
       "<style scoped>\n",
       "    .dataframe tbody tr th:only-of-type {\n",
       "        vertical-align: middle;\n",
       "    }\n",
       "\n",
       "    .dataframe tbody tr th {\n",
       "        vertical-align: top;\n",
       "    }\n",
       "\n",
       "    .dataframe thead th {\n",
       "        text-align: right;\n",
       "    }\n",
       "</style>\n",
       "<table border=\"1\" class=\"dataframe\">\n",
       "  <thead>\n",
       "    <tr style=\"text-align: right;\">\n",
       "      <th></th>\n",
       "      <th>movie_id</th>\n",
       "      <th>title</th>\n",
       "      <th>genres</th>\n",
       "    </tr>\n",
       "  </thead>\n",
       "  <tbody>\n",
       "    <tr>\n",
       "      <th>0</th>\n",
       "      <td>1</td>\n",
       "      <td>Toy Story (1995)</td>\n",
       "      <td>Adventure|Animation|Children|Comedy|Fantasy</td>\n",
       "    </tr>\n",
       "    <tr>\n",
       "      <th>1</th>\n",
       "      <td>2</td>\n",
       "      <td>Jumanji (1995)</td>\n",
       "      <td>Adventure|Children|Fantasy</td>\n",
       "    </tr>\n",
       "    <tr>\n",
       "      <th>2</th>\n",
       "      <td>3</td>\n",
       "      <td>Grumpier Old Men (1995)</td>\n",
       "      <td>Comedy|Romance</td>\n",
       "    </tr>\n",
       "    <tr>\n",
       "      <th>3</th>\n",
       "      <td>4</td>\n",
       "      <td>Waiting to Exhale (1995)</td>\n",
       "      <td>Comedy|Drama|Romance</td>\n",
       "    </tr>\n",
       "    <tr>\n",
       "      <th>4</th>\n",
       "      <td>5</td>\n",
       "      <td>Father of the Bride Part II (1995)</td>\n",
       "      <td>Comedy</td>\n",
       "    </tr>\n",
       "  </tbody>\n",
       "</table>\n",
       "</div>"
      ],
      "text/plain": [
       "   movie_id                               title  \\\n",
       "0         1                    Toy Story (1995)   \n",
       "1         2                      Jumanji (1995)   \n",
       "2         3             Grumpier Old Men (1995)   \n",
       "3         4            Waiting to Exhale (1995)   \n",
       "4         5  Father of the Bride Part II (1995)   \n",
       "\n",
       "                                        genres  \n",
       "0  Adventure|Animation|Children|Comedy|Fantasy  \n",
       "1                   Adventure|Children|Fantasy  \n",
       "2                               Comedy|Romance  \n",
       "3                         Comedy|Drama|Romance  \n",
       "4                                       Comedy  "
      ]
     },
     "execution_count": 9,
     "metadata": {},
     "output_type": "execute_result"
    }
   ],
   "source": [
    "movies_df = pd.read_csv(movies_file)\n",
    "movies_df.rename(columns={\"movieId\": \"movie_id\"},inplace=True)\n",
    "movies_df.head(5)"
   ]
  },
  {
   "cell_type": "markdown",
   "metadata": {},
   "source": [
    "## QUESTION 1\n",
    "\n",
    "Explore the movie lens data a little and summarize it"
   ]
  },
  {
   "cell_type": "code",
   "execution_count": 10,
   "metadata": {},
   "outputs": [
    {
     "name": "stdout",
     "output_type": "stream",
     "text": [
      "+-------+------------------+----------------+------------------+--------------------+\n",
      "|summary|           user_id|        movie_id|            rating|           timestamp|\n",
      "+-------+------------------+----------------+------------------+--------------------+\n",
      "|  count|            100836|          100836|            100836|              100836|\n",
      "|   mean|326.12756356856676|19435.2957177992| 3.501556983616962|1.2059460873684695E9|\n",
      "| stddev| 182.6184914635004|35530.9871987003|1.0425292390606342|2.1626103599513078E8|\n",
      "|    min|                 1|               1|               0.5|           828124615|\n",
      "|    max|               610|          193609|               5.0|          1537799250|\n",
      "+-------+------------------+----------------+------------------+--------------------+\n",
      "\n",
      "Unique users: 610\n",
      "Unique movies: 9724\n",
      "Movies with Rating > 2: 8852\n",
      "Movies with Rating > 3: 7363\n",
      "Movies with Rating > 4: 4056\n"
     ]
    }
   ],
   "source": [
    "## YOUR CODE HERE (summarize the data)\n",
    "df = df.withColumnRenamed(\"movieID\", \"movie_id\")\n",
    "df = df.withColumnRenamed(\"userID\", \"user_id\")\n",
    "df.describe().show()\n",
    "print('Unique users: {}'.format(df.select('user_id').distinct().count()))\n",
    "print('Unique movies: {}'.format(df.select('movie_id').distinct().count()))\n",
    "print('Movies with Rating > 2: {}'.format(df.filter('rating > 2').select('movie_id').distinct().count()))\n",
    "print('Movies with Rating > 3: {}'.format(df.filter('rating > 3').select('movie_id').distinct().count()))\n",
    "print('Movies with Rating > 4: {}'.format(df.filter('rating > 4').select('movie_id').distinct().count()))"
   ]
  },
  {
   "cell_type": "markdown",
   "metadata": {},
   "source": [
    "## QUESTION 2\n",
    "\n",
    "Find the ten most popular movies---that is the then movies with the highest average rating\n",
    "\n",
    ">Hint: you may want to subset the movie matrix to only consider movies with a minimum number of ratings"
   ]
  },
  {
   "cell_type": "code",
   "execution_count": 11,
   "metadata": {},
   "outputs": [
    {
     "data": {
      "text/html": [
       "<div>\n",
       "<style scoped>\n",
       "    .dataframe tbody tr th:only-of-type {\n",
       "        vertical-align: middle;\n",
       "    }\n",
       "\n",
       "    .dataframe tbody tr th {\n",
       "        vertical-align: top;\n",
       "    }\n",
       "\n",
       "    .dataframe thead th {\n",
       "        text-align: right;\n",
       "    }\n",
       "</style>\n",
       "<table border=\"1\" class=\"dataframe\">\n",
       "  <thead>\n",
       "    <tr style=\"text-align: right;\">\n",
       "      <th></th>\n",
       "      <th>avg(rating)</th>\n",
       "      <th>movie_id</th>\n",
       "      <th>count</th>\n",
       "      <th>title</th>\n",
       "    </tr>\n",
       "  </thead>\n",
       "  <tbody>\n",
       "    <tr>\n",
       "      <th>0</th>\n",
       "      <td>4.429022</td>\n",
       "      <td>318</td>\n",
       "      <td>317</td>\n",
       "      <td>Shawshank Redemption, The (1994)</td>\n",
       "    </tr>\n",
       "    <tr>\n",
       "      <th>1</th>\n",
       "      <td>4.289062</td>\n",
       "      <td>858</td>\n",
       "      <td>192</td>\n",
       "      <td>Godfather, The (1972)</td>\n",
       "    </tr>\n",
       "    <tr>\n",
       "      <th>2</th>\n",
       "      <td>4.272936</td>\n",
       "      <td>2959</td>\n",
       "      <td>218</td>\n",
       "      <td>Fight Club (1999)</td>\n",
       "    </tr>\n",
       "    <tr>\n",
       "      <th>3</th>\n",
       "      <td>4.259690</td>\n",
       "      <td>1221</td>\n",
       "      <td>129</td>\n",
       "      <td>Godfather: Part II, The (1974)</td>\n",
       "    </tr>\n",
       "    <tr>\n",
       "      <th>4</th>\n",
       "      <td>4.252336</td>\n",
       "      <td>48516</td>\n",
       "      <td>107</td>\n",
       "      <td>Departed, The (2006)</td>\n",
       "    </tr>\n",
       "    <tr>\n",
       "      <th>5</th>\n",
       "      <td>4.250000</td>\n",
       "      <td>1213</td>\n",
       "      <td>126</td>\n",
       "      <td>Goodfellas (1990)</td>\n",
       "    </tr>\n",
       "    <tr>\n",
       "      <th>6</th>\n",
       "      <td>4.238255</td>\n",
       "      <td>58559</td>\n",
       "      <td>149</td>\n",
       "      <td>Dark Knight, The (2008)</td>\n",
       "    </tr>\n",
       "    <tr>\n",
       "      <th>7</th>\n",
       "      <td>4.237745</td>\n",
       "      <td>50</td>\n",
       "      <td>204</td>\n",
       "      <td>Usual Suspects, The (1995)</td>\n",
       "    </tr>\n",
       "    <tr>\n",
       "      <th>8</th>\n",
       "      <td>4.232394</td>\n",
       "      <td>1197</td>\n",
       "      <td>142</td>\n",
       "      <td>Princess Bride, The (1987)</td>\n",
       "    </tr>\n",
       "    <tr>\n",
       "      <th>9</th>\n",
       "      <td>4.231076</td>\n",
       "      <td>260</td>\n",
       "      <td>251</td>\n",
       "      <td>Star Wars: Episode IV - A New Hope (1977)</td>\n",
       "    </tr>\n",
       "  </tbody>\n",
       "</table>\n",
       "</div>"
      ],
      "text/plain": [
       "   avg(rating)  movie_id  count                                      title\n",
       "0     4.429022       318    317           Shawshank Redemption, The (1994)\n",
       "1     4.289062       858    192                      Godfather, The (1972)\n",
       "2     4.272936      2959    218                          Fight Club (1999)\n",
       "3     4.259690      1221    129             Godfather: Part II, The (1974)\n",
       "4     4.252336     48516    107                       Departed, The (2006)\n",
       "5     4.250000      1213    126                          Goodfellas (1990)\n",
       "6     4.238255     58559    149                    Dark Knight, The (2008)\n",
       "7     4.237745        50    204                 Usual Suspects, The (1995)\n",
       "8     4.232394      1197    142                 Princess Bride, The (1987)\n",
       "9     4.231076       260    251  Star Wars: Episode IV - A New Hope (1977)"
      ]
     },
     "execution_count": 11,
     "metadata": {},
     "output_type": "execute_result"
    }
   ],
   "source": [
    "## YOUR CODE HERE\n",
    "\n",
    "## get the top rated movies with more than 100 ratings\n",
    "movie_counts = df.groupBy(\"movie_id\").count()\n",
    "top_rated = df.groupBy(\"movie_id\").avg('rating')\n",
    "top_rated = top_rated.withColumnRenamed(\"movie_id\", \"movie_id_2\")\n",
    "top_movies = top_rated.join(movie_counts, top_rated.movie_id_2 == movie_counts.movie_id)\n",
    "top_movies = top_movies.filter('count>100').orderBy('avg(rating)',ascending=False).drop(\"movie_id_2\")\n",
    "top_movies = top_movies.toPandas()\n",
    "\n",
    "## add the movie titles to data frame\n",
    "movie_ids = top_movies['movie_id'].values\n",
    "inds = [np.where(movies_df['movie_id'].values==mid)[0][0] for mid in movie_ids]\n",
    "top_movies[\"title\"] = movies_df['title'].values[inds]\n",
    "\n",
    "top_movies.head(10)"
   ]
  },
  {
   "cell_type": "markdown",
   "metadata": {},
   "source": [
    "## QUESTION 3\n",
    "\n",
    "Compare at least 5 different values for the ``regParam``\n",
    "\n",
    "Use the `` ALS.trainImplicit()`` and compare it to the ``.fit()`` method.  See the [Spark ALS docs](https://spark.apache.org/docs/latest/api/python/pyspark.mllib.html#pyspark.mllib.recommendation.ALS)\n",
    "for example usage. "
   ]
  },
  {
   "cell_type": "code",
   "execution_count": 12,
   "metadata": {},
   "outputs": [],
   "source": [
    "## YOUR CODE HERE\n",
    "\n",
    "(training, test) = df.randomSplit([0.8, 0.2])\n",
    "\n",
    "def train_model(reg_param,implicit_prefs=False):\n",
    "    als = ALS(maxIter=5, regParam=reg_param, userCol=\"user_id\", \n",
    "              itemCol=\"movie_id\", ratingCol=\"rating\",\n",
    "              coldStartStrategy=\"drop\",implicitPrefs=implicit_prefs)\n",
    "    model = als.fit(training)\n",
    "\n",
    "    predictions = model.transform(test)\n",
    "    evaluator = RegressionEvaluator(\n",
    "        metricName=\"rmse\", \n",
    "        labelCol=\"rating\",\n",
    "        predictionCol=\"prediction\"\n",
    "    )\n",
    "\n",
    "    rmse = evaluator.evaluate(predictions)\n",
    "    print(\"regParam={}, RMSE={}\".format(reg_param,np.round(rmse,2)))\n"
   ]
  },
  {
   "cell_type": "code",
   "execution_count": 13,
   "metadata": {},
   "outputs": [
    {
     "name": "stdout",
     "output_type": "stream",
     "text": [
      "regParam=0.01, RMSE=1.09\n",
      "regParam=0.05, RMSE=0.95\n",
      "regParam=0.1, RMSE=0.89\n",
      "regParam=0.15, RMSE=0.87\n",
      "regParam=0.25, RMSE=0.9\n"
     ]
    }
   ],
   "source": [
    "for reg_param in [0.01, 0.05, 0.1, 0.15, 0.25]:\n",
    "    train_model(reg_param)"
   ]
  },
  {
   "cell_type": "markdown",
   "metadata": {},
   "source": [
    "## QUESTION 4\n",
    "\n",
    "With your best regParam try using the `implicitPrefs` flag.\n",
    "\n",
    ">Note that the results here make sense because the data are `explicit` ratings"
   ]
  },
  {
   "cell_type": "code",
   "execution_count": null,
   "metadata": {},
   "outputs": [],
   "source": [
    "## YOUR CODE HERE\n",
    "\n",
    "train_model(0.1, implicit_prefs=True)"
   ]
  },
  {
   "cell_type": "markdown",
   "metadata": {},
   "source": [
    "## QUESTION 5\n",
    "\n",
    "Use model persistence to save your finalized model"
   ]
  },
  {
   "cell_type": "code",
   "execution_count": null,
   "metadata": {},
   "outputs": [],
   "source": [
    "## YOUR CODE HERE\n",
    "\n",
    "## re-train using the whole data set\n",
    "print(\"...training\")\n",
    "als = ALS(maxIter=5, regParam=0.1, userCol=\"user_id\", \n",
    "          itemCol=\"movie_id\", ratingCol=\"rating\",\n",
    "          coldStartStrategy=\"drop\")\n",
    "model = als.fit(df)\n",
    "\n",
    "## save the model for furture use\n",
    "save_dir = \"saved-recommender\"\n",
    "if os.path.isdir(save_dir):\n",
    "    print(\"...overwritting saved model\")\n",
    "    shutil.rmtree(save_dir)\n",
    "\n",
    "## save the top-ten movies\n",
    "print(\"...saving top-movies\")\n",
    "top_movies[:10000].to_csv(\"top-movies.csv\",index=False)\n",
    "    \n",
    "## save model\n",
    "model.save(save_dir)\n",
    "print(\"done.\")"
   ]
  },
  {
   "cell_type": "markdown",
   "metadata": {},
   "source": [
    "## QUESTION 6\n",
    "\n",
    "Use ``spark-submit`` to load the model and demonstrate that you can load the model and interface with it."
   ]
  },
  {
   "cell_type": "code",
   "execution_count": 12,
   "metadata": {},
   "outputs": [],
   "source": [
    "## YOUR CODE HERE\n",
    "\n",
    "## see recommender-submit.py"
   ]
  },
  {
   "cell_type": "code",
   "execution_count": null,
   "metadata": {},
   "outputs": [],
   "source": []
  }
 ],
 "metadata": {
  "kernelspec": {
   "display_name": "Python 3",
   "language": "python",
   "name": "python3"
  },
  "language_info": {
   "codemirror_mode": {
    "name": "ipython",
    "version": 3
   },
   "file_extension": ".py",
   "mimetype": "text/x-python",
   "name": "python",
   "nbconvert_exporter": "python",
   "pygments_lexer": "ipython3",
   "version": "3.7.7"
  }
 },
 "nbformat": 4,
 "nbformat_minor": 4
}
