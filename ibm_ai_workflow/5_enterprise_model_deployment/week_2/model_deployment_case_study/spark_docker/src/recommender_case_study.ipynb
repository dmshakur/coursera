{
 "cells": [
  {
   "cell_type": "markdown",
   "metadata": {},
   "source": [
    "## CASE STUDY - Deploying a recommender\n",
    "\n",
    "We have seen the movie lens data on a toy dataset now lets try something a little bigger.  You have some\n",
    "choices.\n",
    "\n",
    "* [MovieLens Downloads](https://grouplens.org/datasets/movielens/latest/)\n",
    "\n",
    "If your resources are limited (your working on a computer with limited amount of memory)\n",
    "\n",
    "> continue to use the sample_movielens_ranting.csv\n",
    "\n",
    "If you have a computer with at least 8GB of RAM\n",
    "\n",
    "> download the ml-latest-small.zip\n",
    "\n",
    "If you have the computational resources (access to Spark cluster or high-memory machine)\n",
    "\n",
    "> download the ml-latest.zip\n",
    "\n",
    "The two important pages for documentation are below.\n",
    "\n",
    "* [Spark MLlib collaborative filtering docs](https://spark.apache.org/docs/latest/ml-collaborative-filtering.html) \n",
    "* [Spark ALS docs](https://spark.apache.org/docs/latest/api/python/pyspark.mllib.html#pyspark.mllib.recommendation.ALS)\n"
   ]
  },
  {
   "cell_type": "code",
   "execution_count": 83,
   "metadata": {},
   "outputs": [],
   "source": [
    "import os\n",
    "import shutil\n",
    "import pandas as pd\n",
    "import numpy as np\n",
    "from pyspark.ml import Pipeline\n",
    "from pyspark.ml.evaluation import RegressionEvaluator\n",
    "from pyspark.ml.recommendation import ALS, ALSModel\n",
    "from pyspark.sql import Row, SparkSession\n",
    "from pyspark import SparkConf, SparkContext\n",
    "from pyspark.sql.types import *"
   ]
  },
  {
   "cell_type": "code",
   "execution_count": 2,
   "metadata": {},
   "outputs": [
    {
     "name": "stdout",
     "output_type": "stream",
     "text": [
      "3.0.0\n"
     ]
    }
   ],
   "source": [
    "sc = SparkContext.getOrCreate(SparkConf().setMaster('local[8]'))\n",
    "spark = SparkSession.builder.getOrCreate()\n",
    "\n",
    "print(spark.version) "
   ]
  },
  {
   "cell_type": "markdown",
   "metadata": {},
   "source": [
    "### ensure the data are downloaded and specify the file paths here\n"
   ]
  },
  {
   "cell_type": "code",
   "execution_count": 3,
   "metadata": {},
   "outputs": [],
   "source": [
    "dr = os.path.abspath('../data/ml-latest-small')\n",
    "\n",
    "paths = {\n",
    "    'g_scores': './genome-scores.csv',\n",
    "    'g_tags': './genome-tags.csv',\n",
    "    'links': './links.csv',\n",
    "    'movies': './movies.csv',\n",
    "    'tags': './tags.csv',\n",
    "    'ratings': './ratings.csv',\n",
    "}"
   ]
  },
  {
   "cell_type": "code",
   "execution_count": 16,
   "metadata": {},
   "outputs": [],
   "source": [
    "ratings_schema = StructType([\n",
    "    StructField('userId', FloatType(), True), \n",
    "    StructField('movieId', FloatType(), True), \n",
    "    StructField('rating', FloatType(), True), \n",
    "    StructField('timestamp', FloatType(), True)\n",
    "])\n",
    "movies_schema = StructType([\n",
    "    StructField('movieId', IntegerType(), True),\n",
    "    StructField('title', StringType(), True),\n",
    "    StructField('genres', StringType(), True)\n",
    "])"
   ]
  },
  {
   "cell_type": "code",
   "execution_count": 34,
   "metadata": {
    "scrolled": true
   },
   "outputs": [],
   "source": [
    "# g_scores_df = spark.read.csv(os.path.join(dr, paths['g_scores']))\n",
    "# g_tags_df = spark.read.csv(os.path.join(dr, paths['g_tags']))\n",
    "# links_df = spark.read.csv(os.path.join(dr, paths['links']))\n",
    "movies_df = spark.read.csv(os.path.join(dr, paths['movies']), inferSchema = 'true', header = True)\n",
    "ratings_df = spark.read.csv(os.path.join(dr, paths['ratings']), inferSchema = 'true', header = True)\n",
    "# tags_df = spark.read.csv(os.path.join(dr, paths['tags']))"
   ]
  },
  {
   "cell_type": "code",
   "execution_count": 35,
   "metadata": {},
   "outputs": [],
   "source": [
    "movies_df.createOrReplaceTempView('movies')\n",
    "ratings_df.createOrReplaceTempView('ratings')"
   ]
  },
  {
   "cell_type": "markdown",
   "metadata": {},
   "source": [
    "## QUESTION 1\n",
    "\n",
    "Explore the movie lens data a little and summarize it"
   ]
  },
  {
   "cell_type": "code",
   "execution_count": 36,
   "metadata": {
    "scrolled": false
   },
   "outputs": [
    {
     "name": "stdout",
     "output_type": "stream",
     "text": [
      "+-------+-------------------------------------+-------------------------------------------+\n",
      "|movieId|title                                |genres                                     |\n",
      "+-------+-------------------------------------+-------------------------------------------+\n",
      "|1      |Toy Story (1995)                     |Adventure|Animation|Children|Comedy|Fantasy|\n",
      "|2      |Jumanji (1995)                       |Adventure|Children|Fantasy                 |\n",
      "|3      |Grumpier Old Men (1995)              |Comedy|Romance                             |\n",
      "|4      |Waiting to Exhale (1995)             |Comedy|Drama|Romance                       |\n",
      "|5      |Father of the Bride Part II (1995)   |Comedy                                     |\n",
      "|6      |Heat (1995)                          |Action|Crime|Thriller                      |\n",
      "|7      |Sabrina (1995)                       |Comedy|Romance                             |\n",
      "|8      |Tom and Huck (1995)                  |Adventure|Children                         |\n",
      "|9      |Sudden Death (1995)                  |Action                                     |\n",
      "|10     |GoldenEye (1995)                     |Action|Adventure|Thriller                  |\n",
      "|11     |American President, The (1995)       |Comedy|Drama|Romance                       |\n",
      "|12     |Dracula: Dead and Loving It (1995)   |Comedy|Horror                              |\n",
      "|13     |Balto (1995)                         |Adventure|Animation|Children               |\n",
      "|14     |Nixon (1995)                         |Drama                                      |\n",
      "|15     |Cutthroat Island (1995)              |Action|Adventure|Romance                   |\n",
      "|16     |Casino (1995)                        |Crime|Drama                                |\n",
      "|17     |Sense and Sensibility (1995)         |Drama|Romance                              |\n",
      "|18     |Four Rooms (1995)                    |Comedy                                     |\n",
      "|19     |Ace Ventura: When Nature Calls (1995)|Comedy                                     |\n",
      "|20     |Money Train (1995)                   |Action|Comedy|Crime|Drama|Thriller         |\n",
      "+-------+-------------------------------------+-------------------------------------------+\n",
      "only showing top 20 rows\n",
      "\n"
     ]
    }
   ],
   "source": [
    "movies_df.show(truncate = False)"
   ]
  },
  {
   "cell_type": "code",
   "execution_count": 37,
   "metadata": {
    "scrolled": false
   },
   "outputs": [
    {
     "name": "stdout",
     "output_type": "stream",
     "text": [
      "+-----------------------+-----+\n",
      "|genres                 |count|\n",
      "+-----------------------+-----+\n",
      "|Drama                  |1053 |\n",
      "|Comedy                 |946  |\n",
      "|Comedy|Drama           |435  |\n",
      "|Comedy|Romance         |363  |\n",
      "|Drama|Romance          |349  |\n",
      "|Documentary            |339  |\n",
      "|Comedy|Drama|Romance   |276  |\n",
      "|Drama|Thriller         |168  |\n",
      "|Horror                 |167  |\n",
      "|Horror|Thriller        |135  |\n",
      "|Crime|Drama            |134  |\n",
      "|Crime|Drama|Thriller   |125  |\n",
      "|Drama|War              |114  |\n",
      "|Comedy|Crime           |101  |\n",
      "|Action|Comedy          |92   |\n",
      "|Thriller               |84   |\n",
      "|Children|Comedy        |74   |\n",
      "|Comedy|Horror          |69   |\n",
      "|Action|Crime|Thriller  |66   |\n",
      "|Action|Adventure|Sci-Fi|66   |\n",
      "+-----------------------+-----+\n",
      "only showing top 20 rows\n",
      "\n"
     ]
    }
   ],
   "source": [
    "movies_df.groupBy('genres').count().sort('count', ascending = False).show(truncate = False)"
   ]
  },
  {
   "cell_type": "code",
   "execution_count": 38,
   "metadata": {
    "scrolled": true
   },
   "outputs": [
    {
     "name": "stdout",
     "output_type": "stream",
     "text": [
      "+-------+------------------+--------------------+------------------+\n",
      "|summary|           movieId|               title|            genres|\n",
      "+-------+------------------+--------------------+------------------+\n",
      "|  count|              9742|                9742|              9742|\n",
      "|   mean|42200.353623485935|                null|              null|\n",
      "| stddev| 52160.49485443833|                null|              null|\n",
      "|    min|                 1|\"11'09\"\"01 - Sept...|(no genres listed)|\n",
      "|    25%|            193609|                null|              null|\n",
      "|    50%|            193609|                null|              null|\n",
      "|    75%|             76251|                null|              null|\n",
      "|    max|            193609|À nous la liberté...|           Western|\n",
      "+-------+------------------+--------------------+------------------+\n",
      "\n"
     ]
    }
   ],
   "source": [
    "duplicates = movies_df.dropDuplicates()\n",
    "duplicates.summary().show()"
   ]
  },
  {
   "cell_type": "code",
   "execution_count": 39,
   "metadata": {
    "scrolled": false
   },
   "outputs": [
    {
     "name": "stdout",
     "output_type": "stream",
     "text": [
      "+------+-------+------+---------+\n",
      "|userId|movieId|rating|timestamp|\n",
      "+------+-------+------+---------+\n",
      "|     1|      1|   4.0|964982703|\n",
      "|     1|      3|   4.0|964981247|\n",
      "|     1|      6|   4.0|964982224|\n",
      "|     1|     47|   5.0|964983815|\n",
      "|     1|     50|   5.0|964982931|\n",
      "|     1|     70|   3.0|964982400|\n",
      "|     1|    101|   5.0|964980868|\n",
      "|     1|    110|   4.0|964982176|\n",
      "|     1|    151|   5.0|964984041|\n",
      "|     1|    157|   5.0|964984100|\n",
      "|     1|    163|   5.0|964983650|\n",
      "|     1|    216|   5.0|964981208|\n",
      "|     1|    223|   3.0|964980985|\n",
      "|     1|    231|   5.0|964981179|\n",
      "|     1|    235|   4.0|964980908|\n",
      "|     1|    260|   5.0|964981680|\n",
      "|     1|    296|   3.0|964982967|\n",
      "|     1|    316|   3.0|964982310|\n",
      "|     1|    333|   5.0|964981179|\n",
      "|     1|    349|   4.0|964982563|\n",
      "+------+-------+------+---------+\n",
      "only showing top 20 rows\n",
      "\n"
     ]
    }
   ],
   "source": [
    "ratings_df.show()"
   ]
  },
  {
   "cell_type": "markdown",
   "metadata": {},
   "source": [
    "## QUESTION 2\n",
    "\n",
    "Find the ten most popular movies---that is the then movies with the highest average rating\n",
    "\n",
    ">Hint: you may want to subset the movie matrix to only consider movies with a minimum number of ratings"
   ]
  },
  {
   "cell_type": "code",
   "execution_count": 40,
   "metadata": {},
   "outputs": [
    {
     "name": "stdout",
     "output_type": "stream",
     "text": [
      "+----------------+----------------+------------------+----------------+----------------+-----------------+\n",
      "|min(num_ratings)|max(num_ratings)| mean(num_ratings)|min(mean_rating)|max(mean_rating)|mean(mean_rating)|\n",
      "+----------------+----------------+------------------+----------------+----------------+-----------------+\n",
      "|               1|             329|10.369806663924312|             0.5|             5.0|3.262448274810963|\n",
      "+----------------+----------------+------------------+----------------+----------------+-----------------+\n",
      "\n"
     ]
    }
   ],
   "source": [
    "spark.sql('''\n",
    "    SELECT \n",
    "        MIN(num_ratings), MAX(num_ratings), MEAN(num_ratings),\n",
    "        MIN(mean_rating), MAX(mean_rating), MEAN(mean_rating)\n",
    "        FROM (\n",
    "        SELECT \n",
    "            COUNT(rating) AS num_ratings, MEAN(rating) AS mean_rating\n",
    "            FROM ratings GROUP BY movieId\n",
    "        )\n",
    "''').show()"
   ]
  },
  {
   "cell_type": "code",
   "execution_count": 41,
   "metadata": {},
   "outputs": [
    {
     "name": "stdout",
     "output_type": "stream",
     "text": [
      "+------------------+-----------+-------+\n",
      "|       mean_rating|num_ratings|movieId|\n",
      "+------------------+-----------+-------+\n",
      "| 4.429022082018927|        317|    318|\n",
      "|         4.2890625|        192|    858|\n",
      "| 4.272935779816514|        218|   2959|\n",
      "| 4.268041237113402|         97|    750|\n",
      "| 4.261904761904762|         84|    904|\n",
      "|  4.25968992248062|        129|   1221|\n",
      "| 4.252336448598131|        107|  48516|\n",
      "|              4.25|        126|   1213|\n",
      "|              4.24|        100|    912|\n",
      "| 4.238255033557047|        149|  58559|\n",
      "| 4.237745098039215|        204|     50|\n",
      "| 4.232394366197183|        142|   1197|\n",
      "| 4.231075697211155|        251|    260|\n",
      "|             4.225|        220|    527|\n",
      "| 4.219626168224299|        107|   1208|\n",
      "| 4.217054263565892|        129|   2329|\n",
      "|4.2156398104265405|        211|   1196|\n",
      "|            4.2075|        200|   1198|\n",
      "| 4.203007518796992|        133|   1193|\n",
      "| 4.202290076335878|        131|   1089|\n",
      "+------------------+-----------+-------+\n",
      "only showing top 20 rows\n",
      "\n"
     ]
    }
   ],
   "source": [
    "spark.sql('''\n",
    "    SELECT * FROM (\n",
    "        SELECT \n",
    "            MEAN(rating) AS mean_rating, COUNT(rating) as num_ratings, movieId\n",
    "            FROM ratings\n",
    "            GROUP BY movieId\n",
    "            ORDER BY num_ratings, mean_rating DESC\n",
    "    ) WHERE num_ratings > 75\n",
    "    ORDER BY mean_rating DESC\n",
    "''').show()"
   ]
  },
  {
   "cell_type": "code",
   "execution_count": 42,
   "metadata": {
    "scrolled": false
   },
   "outputs": [
    {
     "name": "stdout",
     "output_type": "stream",
     "text": [
      "+---------------------------------------------------------------------------+-----------------+-----------+-------+\n",
      "|title                                                                      |mean_rating      |num_ratings|movieId|\n",
      "+---------------------------------------------------------------------------+-----------------+-----------+-------+\n",
      "|Shawshank Redemption, The (1994)                                           |4.429022082018927|317        |318    |\n",
      "|Godfather, The (1972)                                                      |4.2890625        |192        |858    |\n",
      "|Fight Club (1999)                                                          |4.272935779816514|218        |2959   |\n",
      "|Dr. Strangelove or: How I Learned to Stop Worrying and Love the Bomb (1964)|4.268041237113402|97         |750    |\n",
      "|Rear Window (1954)                                                         |4.261904761904762|84         |904    |\n",
      "|Godfather: Part II, The (1974)                                             |4.25968992248062 |129        |1221   |\n",
      "|Departed, The (2006)                                                       |4.252336448598131|107        |48516  |\n",
      "|Goodfellas (1990)                                                          |4.25             |126        |1213   |\n",
      "|Casablanca (1942)                                                          |4.24             |100        |912    |\n",
      "|Dark Knight, The (2008)                                                    |4.238255033557047|149        |58559  |\n",
      "+---------------------------------------------------------------------------+-----------------+-----------+-------+\n",
      "\n"
     ]
    }
   ],
   "source": [
    "spark.sql('''\n",
    "    SELECT \n",
    "        title, mean_rating, num_ratings, movieId\n",
    "        FROM movies\n",
    "        INNER JOIN (\n",
    "            SELECT \n",
    "                MEAN(rating) AS mean_rating, COUNT(rating) as num_ratings, movieId as ratings_id\n",
    "                FROM ratings\n",
    "                GROUP BY movieId\n",
    "                ORDER BY num_ratings, mean_rating DESC\n",
    "            \n",
    "        ) ratings_table\n",
    "        ON movies.movieId = ratings_table.ratings_id\n",
    "        WHERE num_ratings > 75\n",
    "        ORDER BY mean_rating DESC\n",
    "        LIMIT 10\n",
    "''').show(truncate = False)"
   ]
  },
  {
   "cell_type": "code",
   "execution_count": 43,
   "metadata": {},
   "outputs": [
    {
     "name": "stdout",
     "output_type": "stream",
     "text": [
      "+------+-------+------+---------+\n",
      "|userId|movieId|rating|timestamp|\n",
      "+------+-------+------+---------+\n",
      "|     1|      1|   4.0|964982703|\n",
      "|     1|      3|   4.0|964981247|\n",
      "|     1|      6|   4.0|964982224|\n",
      "|     1|     47|   5.0|964983815|\n",
      "|     1|     50|   5.0|964982931|\n",
      "|     1|     70|   3.0|964982400|\n",
      "|     1|    101|   5.0|964980868|\n",
      "|     1|    110|   4.0|964982176|\n",
      "|     1|    151|   5.0|964984041|\n",
      "|     1|    157|   5.0|964984100|\n",
      "|     1|    163|   5.0|964983650|\n",
      "|     1|    216|   5.0|964981208|\n",
      "|     1|    223|   3.0|964980985|\n",
      "|     1|    231|   5.0|964981179|\n",
      "|     1|    235|   4.0|964980908|\n",
      "|     1|    260|   5.0|964981680|\n",
      "|     1|    296|   3.0|964982967|\n",
      "|     1|    316|   3.0|964982310|\n",
      "|     1|    333|   5.0|964981179|\n",
      "|     1|    349|   4.0|964982563|\n",
      "+------+-------+------+---------+\n",
      "only showing top 20 rows\n",
      "\n"
     ]
    }
   ],
   "source": [
    "ratings_df.show()"
   ]
  },
  {
   "cell_type": "markdown",
   "metadata": {},
   "source": [
    "## QUESTION 3\n",
    "\n",
    "Compare at least 5 different values for the ``regParam``\n",
    "\n",
    "Use the `` ALS.trainImplicit()`` and compare it to the ``.fit()`` method.  See the [Spark ALS docs](https://spark.apache.org/docs/latest/api/python/pyspark.mllib.html#pyspark.mllib.recommendation.ALS)\n",
    "for example usage. "
   ]
  },
  {
   "cell_type": "code",
   "execution_count": 49,
   "metadata": {},
   "outputs": [],
   "source": [
    "def als_train_model(train, test, latent_factors, rp, ip = False):\n",
    "    als = ALS(\n",
    "        maxIter = 5,\n",
    "        rank = latent_factors,\n",
    "        regParam = rp,\n",
    "        userCol = 'userId', \n",
    "        itemCol = 'movieId', \n",
    "        ratingCol = 'rating',\n",
    "        implicitPrefs = ip,\n",
    "        coldStartStrategy = 'drop'\n",
    "    )\n",
    "    model = als.fit(train)\n",
    "    pred = model.transform(test)\n",
    "    evaluator = RegressionEvaluator(\n",
    "        metricName = 'rmse',\n",
    "        predictionCol = 'prediction',\n",
    "        labelCol = 'rating'\n",
    "    )\n",
    "    rmse = evaluator.evaluate(pred)\n",
    "    return rmse"
   ]
  },
  {
   "cell_type": "code",
   "execution_count": 50,
   "metadata": {
    "scrolled": false
   },
   "outputs": [
    {
     "name": "stdout",
     "output_type": "stream",
     "text": [
      "latent factors 5\n",
      "latent factors 10\n",
      "latent factors 15\n",
      "latent factors 20\n",
      "latent factors 25\n",
      "latent factors 30\n",
      "With latent factors = 5, regParam = 0.5, RMSE = 0.9948204746276237\n",
      "With latent factors = 5, regParam = 0.1, RMSE = 0.873709724574041\n",
      "With latent factors = 5, regParam = 0.05, RMSE = 0.9031745249378167\n",
      "With latent factors = 5, regParam = 0.01, RMSE = 0.9727481164431061\n",
      "With latent factors = 5, regParam = 0.005, RMSE = 1.0015755767953094\n",
      "With latent factors = 10, regParam = 0.5, RMSE = 1.0007618632884374\n",
      "With latent factors = 10, regParam = 0.1, RMSE = 0.8719155285425322\n",
      "With latent factors = 10, regParam = 0.05, RMSE = 0.9192205952748745\n",
      "With latent factors = 10, regParam = 0.01, RMSE = 1.0424789187392565\n",
      "With latent factors = 10, regParam = 0.005, RMSE = 1.0881646316741342\n",
      "With latent factors = 15, regParam = 0.5, RMSE = 1.0027117885844872\n",
      "With latent factors = 15, regParam = 0.1, RMSE = 0.8763526617578207\n",
      "With latent factors = 15, regParam = 0.05, RMSE = 0.9348311539541733\n",
      "With latent factors = 15, regParam = 0.01, RMSE = 1.1058446501301846\n",
      "With latent factors = 15, regParam = 0.005, RMSE = 1.1647484283146978\n",
      "With latent factors = 20, regParam = 0.5, RMSE = 1.0063114714488373\n",
      "With latent factors = 20, regParam = 0.1, RMSE = 0.8743780787662188\n",
      "With latent factors = 20, regParam = 0.05, RMSE = 0.9509710952394582\n",
      "With latent factors = 20, regParam = 0.01, RMSE = 1.1512170977874578\n",
      "With latent factors = 20, regParam = 0.005, RMSE = 1.2147205903076586\n",
      "With latent factors = 25, regParam = 0.5, RMSE = 1.00452443119923\n",
      "With latent factors = 25, regParam = 0.1, RMSE = 0.8708918741477119\n",
      "With latent factors = 25, regParam = 0.05, RMSE = 0.9448229200853613\n",
      "With latent factors = 25, regParam = 0.01, RMSE = 1.21110452773115\n",
      "With latent factors = 25, regParam = 0.005, RMSE = 1.3083451202593133\n",
      "With latent factors = 30, regParam = 0.5, RMSE = 1.0053816848779213\n",
      "With latent factors = 30, regParam = 0.1, RMSE = 0.874576883386215\n",
      "With latent factors = 30, regParam = 0.05, RMSE = 0.9530508491258946\n",
      "With latent factors = 30, regParam = 0.01, RMSE = 1.2241537529916198\n",
      "With latent factors = 30, regParam = 0.005, RMSE = 1.322090183551286\n"
     ]
    }
   ],
   "source": [
    "train, test = ratings_df.randomSplit([0.9, 0.1])\n",
    "\n",
    "model_pred = list()\n",
    "\n",
    "for latent_factors in range(5, 31, 5):\n",
    "    print('latent factors', latent_factors)\n",
    "    for regParam in [0.5, 0.1, 0.05, 0.01, 0.005]:\n",
    "        \n",
    "        model_pred.append(\n",
    "            (als_train_model(train, test, latent_factors, regParam), \n",
    "            latent_factors, \n",
    "            regParam)\n",
    "        )\n",
    "\n",
    "for rmse, latent_factors, regParam in model_pred:\n",
    "    print(f'With latent factors = {latent_factors}, regParam = {regParam}, RMSE = {rmse}')"
   ]
  },
  {
   "cell_type": "code",
   "execution_count": 54,
   "metadata": {},
   "outputs": [
    {
     "data": {
      "text/plain": [
       "<seaborn.axisgrid.FacetGrid at 0x7f7a5ac35e10>"
      ]
     },
     "execution_count": 54,
     "metadata": {},
     "output_type": "execute_result"
    },
    {
     "data": {
      "image/png": "[encoded data removed]",
      "text/plain": [
       "<Figure size 452.85x360 with 1 Axes>"
      ]
     },
     "metadata": {},
     "output_type": "display_data"
    }
   ],
   "source": [
    "import seaborn as sns\n",
    "sns.set()\n",
    "\n",
    "err = pd.DataFrame(model_pred, columns = ['rmse', 'latent_factors', 'regParam'])\n",
    "\n",
    "sns.relplot(x = 'rmse', y = 'latent_factors', style= 'regParam', data = err)"
   ]
  },
  {
   "cell_type": "markdown",
   "metadata": {},
   "source": [
    "## QUESTION 4\n",
    "\n",
    "With your best `regParam` try using the `implicitPrefs` flag."
   ]
  },
  {
   "cell_type": "code",
   "execution_count": 56,
   "metadata": {},
   "outputs": [
    {
     "data": {
      "text/plain": [
       "3.220105556105446"
      ]
     },
     "execution_count": 56,
     "metadata": {},
     "output_type": "execute_result"
    }
   ],
   "source": [
    "als_train_model(train, test, 25, 0.1, ip = True)"
   ]
  },
  {
   "cell_type": "code",
   "execution_count": 61,
   "metadata": {
    "scrolled": false
   },
   "outputs": [
    {
     "name": "stdout",
     "output_type": "stream",
     "text": [
      "latent factors 5\n",
      "latent factors 10\n",
      "latent factors 15\n",
      "latent factors 20\n",
      "latent factors 25\n",
      "latent factors 30\n",
      "With latent factors = 5, regParam = 0.5, RMSE = 3.2710848674433413\n",
      "With latent factors = 5, regParam = 0.1, RMSE = 3.222700843613907\n",
      "With latent factors = 5, regParam = 0.05, RMSE = 3.2186106098624574\n",
      "With latent factors = 5, regParam = 0.01, RMSE = 3.209108171979812\n",
      "With latent factors = 5, regParam = 0.005, RMSE = 3.205484288006874\n",
      "With latent factors = 10, regParam = 0.5, RMSE = 3.2611092235299663\n",
      "With latent factors = 10, regParam = 0.1, RMSE = 3.206638372223324\n",
      "With latent factors = 10, regParam = 0.05, RMSE = 3.200680722562006\n",
      "With latent factors = 10, regParam = 0.01, RMSE = 3.190030134383357\n",
      "With latent factors = 10, regParam = 0.005, RMSE = 3.187414198744593\n",
      "With latent factors = 15, regParam = 0.5, RMSE = 3.257720722439735\n",
      "With latent factors = 15, regParam = 0.1, RMSE = 3.207275599100202\n",
      "With latent factors = 15, regParam = 0.05, RMSE = 3.202439211291463\n",
      "With latent factors = 15, regParam = 0.01, RMSE = 3.195143341125131\n",
      "With latent factors = 15, regParam = 0.005, RMSE = 3.1939355797633278\n",
      "With latent factors = 20, regParam = 0.5, RMSE = 3.257982752063325\n",
      "With latent factors = 20, regParam = 0.1, RMSE = 3.211552788738328\n",
      "With latent factors = 20, regParam = 0.05, RMSE = 3.2081277652401363\n",
      "With latent factors = 20, regParam = 0.01, RMSE = 3.205973603184041\n",
      "With latent factors = 20, regParam = 0.005, RMSE = 3.206430715330064\n",
      "With latent factors = 25, regParam = 0.5, RMSE = 3.258634508212665\n",
      "With latent factors = 25, regParam = 0.1, RMSE = 3.220105556105446\n",
      "With latent factors = 25, regParam = 0.05, RMSE = 3.220103328498172\n",
      "With latent factors = 25, regParam = 0.01, RMSE = 3.2227522432181495\n",
      "With latent factors = 25, regParam = 0.005, RMSE = 3.2239290478965588\n",
      "With latent factors = 30, regParam = 0.5, RMSE = 3.2600092787124995\n",
      "With latent factors = 30, regParam = 0.1, RMSE = 3.226728977887325\n",
      "With latent factors = 30, regParam = 0.05, RMSE = 3.2300474727346105\n",
      "With latent factors = 30, regParam = 0.01, RMSE = 3.2380592057355515\n",
      "With latent factors = 30, regParam = 0.005, RMSE = 3.240120691389932\n"
     ]
    }
   ],
   "source": [
    "model_pred_ip = list()\n",
    "\n",
    "for latent_factors in range(5, 31, 5):\n",
    "    print('latent factors', latent_factors)\n",
    "    for regParam in [0.5, 0.1, 0.05, 0.01, 0.005]:\n",
    "        \n",
    "        model_pred_ip.append(\n",
    "            (als_train_model(train, test, latent_factors, regParam, ip = True), \n",
    "            latent_factors, \n",
    "            regParam)\n",
    "        )\n",
    "\n",
    "for rmse, latent_factors, regParam in model_pred_ip:\n",
    "    print(f'With latent factors = {latent_factors}, regParam = {regParam}, RMSE = {rmse}')"
   ]
  },
  {
   "cell_type": "code",
   "execution_count": 67,
   "metadata": {},
   "outputs": [
    {
     "data": {
      "text/plain": [
       "3.187414198744593"
      ]
     },
     "execution_count": 67,
     "metadata": {},
     "output_type": "execute_result"
    }
   ],
   "source": [
    "min([e[0] for e in model_pred_ip])"
   ]
  },
  {
   "cell_type": "code",
   "execution_count": 62,
   "metadata": {
    "scrolled": false
   },
   "outputs": [
    {
     "data": {
      "text/plain": [
       "<seaborn.axisgrid.FacetGrid at 0x7f7a5aa921d0>"
      ]
     },
     "execution_count": 62,
     "metadata": {},
     "output_type": "execute_result"
    },
    {
     "data": {
      "image/png": "[encoded data removed]",
      "text/plain": [
       "<Figure size 452.85x360 with 1 Axes>"
      ]
     },
     "metadata": {},
     "output_type": "display_data"
    }
   ],
   "source": [
    "err_ip = pd.DataFrame(model_pred, columns = ['rmse', 'latent_factors', 'regParam'])\n",
    "\n",
    "sns.relplot(x = 'rmse', y = 'latent_factors', style= 'regParam', data = err_ip)"
   ]
  },
  {
   "cell_type": "markdown",
   "metadata": {},
   "source": [
    "### 10 latent factors and a regParam 0f 0.005 achieve the best RMSE with the implicitPerfs tag."
   ]
  },
  {
   "cell_type": "markdown",
   "metadata": {},
   "source": [
    "## QUESTION 5\n",
    "\n",
    "Use model persistence to save your finalized model"
   ]
  },
  {
   "cell_type": "code",
   "execution_count": 77,
   "metadata": {},
   "outputs": [],
   "source": [
    "model_path = '../models'\n",
    "ip_path = 'ip_als_model'\n",
    "als_path = 'als_model'"
   ]
  },
  {
   "cell_type": "code",
   "execution_count": 74,
   "metadata": {},
   "outputs": [],
   "source": [
    "ip_als = ALS(maxIter = 5,\n",
    "        rank = 10,\n",
    "        regParam = 0.005,\n",
    "        userCol = 'userId', \n",
    "        itemCol = 'movieId', \n",
    "        ratingCol = 'rating',\n",
    "        implicitPrefs = True,\n",
    "        coldStartStrategy = 'drop')\n",
    "als = ALS(maxIter = 5,\n",
    "        rank = 25,\n",
    "        regParam = 0.1,\n",
    "        userCol = 'userId', \n",
    "        itemCol = 'movieId', \n",
    "        ratingCol = 'rating',\n",
    "        implicitPrefs = False,\n",
    "        coldStartStrategy = 'drop')\n",
    "\n",
    "ip_model = ip_als.fit(train)\n",
    "als_model = als.fit(train)\n",
    "\n",
    "ip_model.save(os.path.join(model_path, ip_path)\n",
    "als_model.save(os.path.join(model_path, als_path))"
   ]
  },
  {
   "cell_type": "code",
   "execution_count": 75,
   "metadata": {},
   "outputs": [
    {
     "name": "stdout",
     "output_type": "stream",
     "text": [
      ".  ..  als_model  ip_als_model\r\n"
     ]
    }
   ],
   "source": [
    "!ls -a ../models"
   ]
  },
  {
   "cell_type": "markdown",
   "metadata": {},
   "source": [
    "## QUESTION 6\n",
    "\n",
    "Use ``spark-submit`` to load the model and demonstrate that you can load the model and interface with it."
   ]
  },
  {
   "cell_type": "code",
   "execution_count": 84,
   "metadata": {},
   "outputs": [],
   "source": [
    "ip_als_model = ALSModel.load(os.path.join(model_path, ip_path))\n",
    "als_model = ALSModel.load(os.path.join(model_path, als_path))"
   ]
  },
  {
   "cell_type": "code",
   "execution_count": 87,
   "metadata": {},
   "outputs": [
    {
     "data": {
      "text/plain": [
       "3.187414198744593"
      ]
     },
     "execution_count": 87,
     "metadata": {},
     "output_type": "execute_result"
    }
   ],
   "source": [
    "ip_pred = ip_model.transform(test)\n",
    "\n",
    "ip_evaluator = RegressionEvaluator(\n",
    "    metricName = 'rmse',\n",
    "    predictionCol = 'prediction',\n",
    "    labelCol = 'rating'\n",
    ")\n",
    "\n",
    "evaluator.evaluate(ip_pred)"
   ]
  },
  {
   "cell_type": "code",
   "execution_count": 88,
   "metadata": {},
   "outputs": [
    {
     "data": {
      "text/plain": [
       "0.8708918741477119"
      ]
     },
     "execution_count": 88,
     "metadata": {},
     "output_type": "execute_result"
    }
   ],
   "source": [
    "als_pred = als_model.transform(test)\n",
    "\n",
    "evaluator = RegressionEvaluator(\n",
    "    metricName = 'rmse',\n",
    "    predictionCol = 'prediction',\n",
    "    labelCol = 'rating'\n",
    ")\n",
    "\n",
    "evaluator.evaluate(als_pred)"
   ]
  },
  {
   "cell_type": "code",
   "execution_count": null,
   "metadata": {},
   "outputs": [],
   "source": []
  }
 ],
 "metadata": {
  "kernelspec": {
   "display_name": "Python 3",
   "language": "python",
   "name": "python3"
  },
  "language_info": {
   "codemirror_mode": {
    "name": "ipython",
    "version": 3
   },
   "file_extension": ".py",
   "mimetype": "text/x-python",
   "name": "python",
   "nbconvert_exporter": "python",
   "pygments_lexer": "ipython3",
   "version": "3.7.7"
  }
 },
 "nbformat": 4,
 "nbformat_minor": 4
}
