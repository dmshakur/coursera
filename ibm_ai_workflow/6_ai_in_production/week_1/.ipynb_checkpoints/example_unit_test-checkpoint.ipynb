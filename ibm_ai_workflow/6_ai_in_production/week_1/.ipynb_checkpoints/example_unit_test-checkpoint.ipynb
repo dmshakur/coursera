{
 "cells": [
  {
   "cell_type": "code",
   "execution_count": 1,
   "metadata": {},
   "outputs": [],
   "source": [
    "import unittest, re\n",
    "import numpy as np"
   ]
  },
  {
   "cell_type": "code",
   "execution_count": 2,
   "metadata": {},
   "outputs": [],
   "source": [
    "def slr_predict(x_query):\n",
    "    '''\n",
    "    given a simple linear regression make a prediction for x\n",
    "    '''\n",
    "    if isinstance(x_query, float):\n",
    "        x_query = np.array([x_query])\n",
    "    elif isinstance(x_query, str):\n",
    "        if not re.search('\\d+', x_query):\n",
    "            raise Exception('non-numeric string input provided')\n",
    "        x_query = np.array([float(x_query)])\n",
    "    elif isinstance(x_query, list):\n",
    "        x_query = np.array(x_query)\n",
    "    \n",
    "    # Generate data for linear regression\n",
    "    x = np.array([0, 1, 2, 3, 4])\n",
    "    y = np.array([-1, 0.15, 0.95, 2.1, 2.8])\n",
    "    \n",
    "    A = np.vstack([x, np.ones(len(x))]).T\n",
    "    coeffs = np.linalg.lstsq(A, y, rcond = None)[0]\n",
    "    \n",
    "    return coeffs[0] + (coeffs[1] * x_query)"
   ]
  },
  {
   "cell_type": "code",
   "execution_count": 3,
   "metadata": {},
   "outputs": [],
   "source": [
    "class TestSimpleLinearRegressionPredict(unittest.TestCase):\n",
    "    \n",
    "    def test_numeric(self):\n",
    "        y_pred = slr_predict(0.5)\n",
    "        self.assertEqual(0.5, y_pred[0])\n",
    "    \n",
    "    def test_str(self):\n",
    "        y_pred = slr_predict('0.5')\n",
    "        self.assertEqual(0.5, y_pred[0])\n",
    "    \n",
    "    def test_list(self):\n",
    "        y_pred = slr_predict([0.5, 0.1])\n",
    "        self.assertEqual(0.5, y_pred[0])\n",
    "    \n",
    "    def test_array(self):\n",
    "        y_pred = slr_predict(np.array([0.5, 0.1]))\n",
    "        self.assertEqual(0.5, y_pred[0])"
   ]
  },
  {
   "cell_type": "code",
   "execution_count": 4,
   "metadata": {},
   "outputs": [
    {
     "name": "stdout",
     "output_type": "stream",
     "text": [
      "E\r\n",
      "======================================================================\r\n",
      "ERROR: example_unit_test (unittest.loader._FailedTest)\r\n",
      "----------------------------------------------------------------------\r\n",
      "ImportError: Failed to import test module: example_unit_test\r\n",
      "Traceback (most recent call last):\r\n",
      "  File \"/home/dangelo/source_files/anaconda3/lib/python3.7/unittest/loader.py\", line 154, in loadTestsFromName\r\n",
      "    module = __import__(module_name)\r\n",
      "ModuleNotFoundError: No module named 'example_unit_test'\r\n",
      "\r\n",
      "\r\n",
      "----------------------------------------------------------------------\r\n",
      "Ran 1 test in 0.000s\r\n",
      "\r\n",
      "FAILED (errors=1)\r\n"
     ]
    }
   ],
   "source": [
    "!python -m unittest example_unit_test.py"
   ]
  },
  {
   "cell_type": "code",
   "execution_count": 5,
   "metadata": {},
   "outputs": [
    {
     "name": "stdout",
     "output_type": "stream",
     "text": [
      "/home/dangelo/mounted_parts/sda1/Courses/coursera/ibm_ai_workflow/6_ai_in_production/week_1\r\n"
     ]
    }
   ],
   "source": [
    "!pwd"
   ]
  },
  {
   "cell_type": "code",
   "execution_count": null,
   "metadata": {},
   "outputs": [],
   "source": []
  }
 ],
 "metadata": {
  "kernelspec": {
   "display_name": "Python 3",
   "language": "python",
   "name": "python3"
  },
  "language_info": {
   "codemirror_mode": {
    "name": "ipython",
    "version": 3
   },
   "file_extension": ".py",
   "mimetype": "text/x-python",
   "name": "python",
   "nbconvert_exporter": "python",
   "pygments_lexer": "ipython3",
   "version": "3.7.7"
  }
 },
 "nbformat": 4,
 "nbformat_minor": 4
}
