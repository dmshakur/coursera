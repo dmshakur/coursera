{
 "cells": [
  {
   "cell_type": "markdown",
   "metadata": {},
   "source": [
    "### Flask Templates and the Jinja2 engine\n",
    "\n",
    "The following global variables are available with Flask/Jinja2\n",
    "* `config`: Current configuration object (`flask.config`).\n",
    "* `request`: Current request object (`flask.request`). Unavailable if the template was rendered without an active request context\n",
    "* `session`: Currect session object (`flask.session`). Unavailable if the template was rendered without an active request context.\n",
    "* `g`: The request-bound object for global variables (`flask.g`). Unavailable if the template was rendered without an active request context.\n",
    "* `url_for()`: The `flask.url_for()` function.\n",
    "* `get_flashed_messages()`: The `flask.get_flashed_messages()` function."
   ]
  }
 ],
 "metadata": {
  "kernelspec": {
   "display_name": "Python 3",
   "language": "python",
   "name": "python3"
  },
  "language_info": {
   "codemirror_mode": {
    "name": "ipython",
    "version": 3
   },
   "file_extension": ".py",
   "mimetype": "text/x-python",
   "name": "python",
   "nbconvert_exporter": "python",
   "pygments_lexer": "ipython3",
   "version": "3.7.7"
  }
 },
 "nbformat": 4,
 "nbformat_minor": 4
}
