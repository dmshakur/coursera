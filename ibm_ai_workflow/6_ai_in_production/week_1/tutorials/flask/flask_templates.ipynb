{
 "cells": [
  {
   "cell_type": "markdown",
   "metadata": {},
   "source": [
    "### Flask Templates and the Jinja2 engine\n",
    "\n",
    "The following global variables are available with Flask/Jinja2\n",
    "* `config`: Current configuration object (`flask.config`).\n",
    "* `request`: Current request object (`flask.request`). Unavailable if the template was rendered without an active request context\n",
    "* `session`: Currect session object (`flask.session`). Unavailable if the template was rendered without an active request context.\n",
    "* `g`: The request-bound object for global variables (`flask.g`). Unavailable if the template was rendered without an active request context.\n",
    "* `url_for()`: The `flask.url_for()` function.\n",
    "* `get_flashed_messages()`: The `flask.get_flashed_messages()` function."
   ]
  },
  {
   "cell_type": "markdown",
   "metadata": {},
   "source": [
    "### Controlling Auto-escaping\n",
    "\n",
    "In order to turn off auto-escaping the following lines of code can be used to surround anything that needs that particular feature turned off.\n",
    "\n",
    "```python\n",
    "{% autoescape false %}\n",
    "...coder here...\n",
    "{% endautoescape %}\n",
    "```"
   ]
  },
  {
   "cell_type": "markdown",
   "metadata": {},
   "source": [
    "### Registering Filters\n",
    "\n",
    "Filters can be registered in two ways either with the `template_filter()`, or by hand in the `jinja_env`.\n",
    "\n",
    "```python\n",
    "@app.template_filter('reverse')\n",
    "def reverse_filter(s):\n",
    "    return s[::-1]\n",
    "\n",
    "def reverse_filter(s):\n",
    "    return s[::-1\n",
    "app.jinja_env.filters['reverse'] = reverse_filter\n",
    "```\n",
    "Used like so.\n",
    "```python\n",
    "{% for x in mylist | reverse %}\n",
    "{% endfor %}\n",
    "```"
   ]
  },
  {
   "cell_type": "markdown",
   "metadata": {},
   "source": [
    "### Context Processors\n",
    "\n",
    "Context processors are used for injecting new variables into the context of a template.\n",
    "```python\n",
    "@app.context_processor\n",
    "def inject_user():\n",
    "    return dict(user = g.user)\n",
    "```\n",
    "This makes a variable called `user` available in the template with a value of `g.user`.\n",
    "```python\n",
    "@app.context_processor\n",
    "def utility_processor():\n",
    "    def format_price(amount, currency = u'€'):\n",
    "        return u'{0:.2f}{1}'.format(amount, currency)\n",
    "    return dict(format_price = format_price)\n",
    "```\n",
    "The above makes the below possible.\n",
    "```python\n",
    "{{ format_price(0.33) }}\n",
    "```"
   ]
  },
  {
   "cell_type": "code",
   "execution_count": null,
   "metadata": {},
   "outputs": [],
   "source": []
  }
 ],
 "metadata": {
  "kernelspec": {
   "display_name": "Python 3",
   "language": "python",
   "name": "python3"
  },
  "language_info": {
   "codemirror_mode": {
    "name": "ipython",
    "version": 3
   },
   "file_extension": ".py",
   "mimetype": "text/x-python",
   "name": "python",
   "nbconvert_exporter": "python",
   "pygments_lexer": "ipython3",
   "version": "3.7.7"
  }
 },
 "nbformat": 4,
 "nbformat_minor": 4
}
