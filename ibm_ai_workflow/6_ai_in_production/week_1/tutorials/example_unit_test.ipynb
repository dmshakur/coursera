{
 "cells": [
  {
   "cell_type": "code",
   "execution_count": 1,
   "metadata": {},
   "outputs": [],
   "source": [
    "import unittest, re\n",
    "import numpy as np"
   ]
  },
  {
   "cell_type": "code",
   "execution_count": 2,
   "metadata": {},
   "outputs": [],
   "source": [
    "def slr_predict(x_query):\n",
    "    '''\n",
    "    given a simple linear regression make a prediction for x\n",
    "    '''\n",
    "    if isinstance(x_query, float):\n",
    "        x_query = np.array([x_query])\n",
    "    elif isinstance(x_query, str):\n",
    "        if not re.search('\\d+', x_query):\n",
    "            raise Exception('non-numeric string input provided')\n",
    "        x_query = np.array([float(x_query)])\n",
    "    elif isinstance(x_query, list):\n",
    "        x_query = np.array(x_query)\n",
    "    \n",
    "    # Generate data for linear regression\n",
    "    x = np.array([0, 1, 2, 3, 4])\n",
    "    y = np.array([-1, 0.15, 0.95, 2.1, 2.8])\n",
    "    \n",
    "    A = np.vstack([x, np.ones(len(x))]).T\n",
    "    coeffs = np.linalg.lstsq(A, y, rcond = None)[0]\n",
    "    \n",
    "    return coeffs[0] + (coeffs[1] * x_query)"
   ]
  },
  {
   "cell_type": "code",
   "execution_count": 3,
   "metadata": {},
   "outputs": [],
   "source": [
    "class TestSimpleLinearRegressionPredict(unittest.TestCase):\n",
    "    \n",
    "    def test_numeric(self):\n",
    "        y_pred = slr_predict(0.5)\n",
    "        self.assertEqual(0.5, y_pred[0])\n",
    "    \n",
    "    def test_str(self):\n",
    "        y_pred = slr_predict('0.5')\n",
    "        self.assertEqual(0.5, y_pred[0])\n",
    "    \n",
    "    def test_list(self):\n",
    "        y_pred = slr_predict([0.5, 0.1])\n",
    "        self.assertEqual(0.5, y_pred[0])\n",
    "    \n",
    "    def test_array(self):\n",
    "        y_pred = slr_predict(np.array([0.5, 0.1]))\n",
    "        self.assertEqual(0.5, y_pred[0])"
   ]
  },
  {
   "cell_type": "code",
   "execution_count": 6,
   "metadata": {},
   "outputs": [
    {
     "name": "stdout",
     "output_type": "stream",
     "text": [
      "Traceback (most recent call last):\r\n",
      "  File \"/home/dangelo/source_files/anaconda3/lib/python3.7/runpy.py\", line 193, in _run_module_as_main\r\n",
      "    \"__main__\", mod_spec)\r\n",
      "  File \"/home/dangelo/source_files/anaconda3/lib/python3.7/runpy.py\", line 85, in _run_code\r\n",
      "    exec(code, run_globals)\r\n",
      "  File \"/home/dangelo/source_files/anaconda3/lib/python3.7/unittest/__main__.py\", line 18, in <module>\r\n",
      "    main(module=None)\r\n",
      "  File \"/home/dangelo/source_files/anaconda3/lib/python3.7/unittest/main.py\", line 100, in __init__\r\n",
      "    self.parseArgs(argv)\r\n",
      "  File \"/home/dangelo/source_files/anaconda3/lib/python3.7/unittest/main.py\", line 147, in parseArgs\r\n",
      "    self.createTests()\r\n",
      "  File \"/home/dangelo/source_files/anaconda3/lib/python3.7/unittest/main.py\", line 159, in createTests\r\n",
      "    self.module)\r\n",
      "  File \"/home/dangelo/source_files/anaconda3/lib/python3.7/unittest/loader.py\", line 220, in loadTestsFromNames\r\n",
      "    suites = [self.loadTestsFromName(name, module) for name in names]\r\n",
      "  File \"/home/dangelo/source_files/anaconda3/lib/python3.7/unittest/loader.py\", line 220, in <listcomp>\r\n",
      "    suites = [self.loadTestsFromName(name, module) for name in names]\r\n",
      "  File \"/home/dangelo/source_files/anaconda3/lib/python3.7/unittest/loader.py\", line 154, in loadTestsFromName\r\n",
      "    module = __import__(module_name)\r\n",
      "ValueError: Empty module name\r\n"
     ]
    }
   ],
   "source": [
    "!python -m unittest ./example_unit_test.py"
   ]
  },
  {
   "cell_type": "code",
   "execution_count": null,
   "metadata": {},
   "outputs": [],
   "source": []
  }
 ],
 "metadata": {
  "kernelspec": {
   "display_name": "Python 3",
   "language": "python",
   "name": "python3"
  },
  "language_info": {
   "codemirror_mode": {
    "name": "ipython",
    "version": 3
   },
   "file_extension": ".py",
   "mimetype": "text/x-python",
   "name": "python",
   "nbconvert_exporter": "python",
   "pygments_lexer": "ipython3",
   "version": "3.7.7"
  }
 },
 "nbformat": 4,
 "nbformat_minor": 4
}
