{
 "cells": [
  {
   "cell_type": "code",
   "execution_count": 22,
   "metadata": {},
   "outputs": [],
   "source": [
    "import requests\n",
    "text = open('./sherlock-holmes.txt', 'r', encoding = 'utf-8').read()"
   ]
  },
  {
   "cell_type": "code",
   "execution_count": 23,
   "metadata": {},
   "outputs": [],
   "source": [
    "import re\n",
    "stop_pattern = '\\.|\\?|\\!'\n",
    "sentences = re.split(stop_pattern, text)\n",
    "sentences = [re.sub(\"\\r|\\n\", \" \", s.lower()) for s in sentences]"
   ]
  },
  {
   "cell_type": "code",
   "execution_count": 24,
   "metadata": {},
   "outputs": [
    {
     "name": "stdout",
     "output_type": "stream",
     "text": [
      "<class 'pandas.core.frame.DataFrame'>\n",
      "RangeIndex: 7309 entries, 0 to 7308\n",
      "Data columns (total 3 columns):\n",
      " #   Column        Non-Null Count  Dtype \n",
      "---  ------        --------------  ----- \n",
      " 0   text          7309 non-null   object\n",
      " 1   has_sherlock  7309 non-null   bool  \n",
      " 2   has_watson    7309 non-null   bool  \n",
      "dtypes: bool(2), object(1)\n",
      "memory usage: 71.5+ KB\n"
     ]
    }
   ],
   "source": [
    "import pandas as pd\n",
    "has_sherlock = [True if re.search(\"sherlock|holmes\", s) else False for s in sentences]\n",
    "has_watson = [True if re.search(\"john|watson\", s) else False for s in sentences]\n",
    "df = pd.DataFrame({'text': sentences, 'has_sherlock': has_sherlock, 'has_watson': has_watson})\n",
    "df.info()"
   ]
  },
  {
   "cell_type": "code",
   "execution_count": 25,
   "metadata": {},
   "outputs": [
    {
     "data": {
      "text/html": [
       "<div>\n",
       "<style scoped>\n",
       "    .dataframe tbody tr th:only-of-type {\n",
       "        vertical-align: middle;\n",
       "    }\n",
       "\n",
       "    .dataframe tbody tr th {\n",
       "        vertical-align: top;\n",
       "    }\n",
       "\n",
       "    .dataframe thead th {\n",
       "        text-align: right;\n",
       "    }\n",
       "</style>\n",
       "<table border=\"1\" class=\"dataframe\">\n",
       "  <thead>\n",
       "    <tr style=\"text-align: right;\">\n",
       "      <th></th>\n",
       "      <th>text</th>\n",
       "      <th>has_sherlock</th>\n",
       "      <th>has_watson</th>\n",
       "    </tr>\n",
       "  </thead>\n",
       "  <tbody>\n",
       "    <tr>\n",
       "      <th>0</th>\n",
       "      <td>project gutenberg's the adventures of sherloc...</td>\n",
       "      <td>True</td>\n",
       "      <td>False</td>\n",
       "    </tr>\n",
       "    <tr>\n",
       "      <th>1</th>\n",
       "      <td>you may copy it, give it away or re-use it u...</td>\n",
       "      <td>False</td>\n",
       "      <td>False</td>\n",
       "    </tr>\n",
       "    <tr>\n",
       "      <th>2</th>\n",
       "      <td>gutenberg</td>\n",
       "      <td>False</td>\n",
       "      <td>False</td>\n",
       "    </tr>\n",
       "    <tr>\n",
       "      <th>3</th>\n",
       "      <td>net   title: the adventures of sherlock holmes...</td>\n",
       "      <td>True</td>\n",
       "      <td>False</td>\n",
       "    </tr>\n",
       "    <tr>\n",
       "      <th>4</th>\n",
       "      <td>a scandal in bohemia    ii</td>\n",
       "      <td>False</td>\n",
       "      <td>False</td>\n",
       "    </tr>\n",
       "  </tbody>\n",
       "</table>\n",
       "</div>"
      ],
      "text/plain": [
       "                                                text  has_sherlock  has_watson\n",
       "0   project gutenberg's the adventures of sherloc...          True       False\n",
       "1    you may copy it, give it away or re-use it u...         False       False\n",
       "2                                          gutenberg         False       False\n",
       "3  net   title: the adventures of sherlock holmes...          True       False\n",
       "4                         a scandal in bohemia    ii         False       False"
      ]
     },
     "execution_count": 25,
     "metadata": {},
     "output_type": "execute_result"
    }
   ],
   "source": [
    "df.head()"
   ]
  },
  {
   "cell_type": "code",
   "execution_count": 28,
   "metadata": {},
   "outputs": [
    {
     "data": {
      "image/png": "[encoded data removed]",
      "text/plain": [
       "<Figure size 576x576 with 1 Axes>"
      ]
     },
     "metadata": {
      "needs_background": "light"
     },
     "output_type": "display_data"
    }
   ],
   "source": [
    "import os\n",
    "import re\n",
    "import requests\n",
    "import pandas as pd\n",
    "import numpy as np\n",
    "import matplotlib.pyplot as plt\n",
    "\n",
    "## save the book locally\n",
    "if not os.path.exists('sherlock-holmes.txt'):\n",
    "    text = requests.get('https://www.gutenberg.org/files/1661/1661-0.txt').text\n",
    "    with open(\"sherlock-holmes.txt\", \"w\") as text_file:\n",
    "        text_file.write(text)\n",
    "\n",
    "## read in the book        \n",
    "text = open('sherlock-holmes.txt', 'r', encoding = 'utf-8').read()\n",
    "\n",
    "## do some basic parsing and cleaning of sentences\n",
    "stop_pattern = '\\.|\\?|\\!'\n",
    "sentences = re.split(stop_pattern, text)\n",
    "sentences = [re.sub(\"\\r|\\n\",\" \",s.lower()) for s in sentences][3:]\n",
    "\n",
    "## extract a few features and create a pandas df\n",
    "has_sherlock =  [True if re.search(\"sherlock|holmes\",s) else False for s in sentences]\n",
    "has_watson = [True if re.search(\"john|watson\",s) else False for s in sentences]\n",
    "df = pd.DataFrame({'text':sentences,'has_sherlock':has_sherlock,'has_watson':has_watson})\n",
    "df['num_words'] = df['text'].apply(lambda x: len(x.split(\" \")))\n",
    "\n",
    "## make eda plot\n",
    "fig = plt.figure(figsize=(8,8))\n",
    "ax1 = fig.add_subplot(111)\n",
    "\n",
    "data1 = df[df['has_sherlock']==True]\n",
    "data2 = df[df['has_watson']==True]\n",
    "\n",
    "data = [df[df[col]==True]['num_words'].values for col in ['has_sherlock','has_watson']]\n",
    "\n",
    "pos = [1,2]\n",
    "ax1.violinplot(data, pos, points=40, widths=0.5,showextrema=True, showmedians=True)\n",
    "\n",
    "labels = ['Sherlock', 'Watson']\n",
    "ax1.set_xticks(np.arange(1, len(labels) + 1))\n",
    "ax1.set_xticklabels(labels)\n",
    "ax1.set_xlim(0.25, len(labels) + 0.75)\n",
    "ax1.set_xlabel('Feature')\n",
    "ax1.set_ylabel('# Words')\n",
    "ax1.set_title(\"Words per sentence\")\n",
    "\n",
    "plt.show()"
   ]
  },
  {
   "cell_type": "code",
   "execution_count": 30,
   "metadata": {},
   "outputs": [],
   "source": [
    "from sklearn.feature_extraction.text import CountVectorizer\n",
    "from sklearn.feature_extraction.text import TfidfTransformer\n",
    "from sklearn.pipeline import Pipeline\n",
    "\n",
    "labels = np.zeros(df.shape[0])\n",
    "labels[(df['has_sherlock'] == True)] = 1\n",
    "labels[(df['has_watson'] == True)] = 2\n",
    "df['labels'] = labels\n",
    "df = df[df['labels'] != 0]\n",
    "x = df['text'].values\n",
    "y = df['labels'].values"
   ]
  },
  {
   "cell_type": "code",
   "execution_count": 35,
   "metadata": {},
   "outputs": [
    {
     "data": {
      "text/plain": [
       "Pipeline(memory=None,\n",
       "         steps=[('vect',\n",
       "                 CountVectorizer(analyzer='word', binary=False,\n",
       "                                 decode_error='strict',\n",
       "                                 dtype=<class 'numpy.int64'>, encoding='utf-8',\n",
       "                                 input='content', lowercase=True, max_df=1.0,\n",
       "                                 max_features=None, min_df=1,\n",
       "                                 ngram_range=(1, 1), preprocessor=None,\n",
       "                                 stop_words=None, strip_accents=None,\n",
       "                                 token_pattern='(?u)\\\\b\\\\w\\\\w+\\\\b',\n",
       "                                 tokenizer=None, vocabulary=Non...\n",
       "                ('clf',\n",
       "                 SGDClassifier(alpha=0.001, average=False, class_weight=None,\n",
       "                               early_stopping=False, epsilon=0.1, eta0=0.0,\n",
       "                               fit_intercept=True, l1_ratio=0.15,\n",
       "                               learning_rate='optimal', loss='hinge',\n",
       "                               max_iter=5, n_iter_no_change=5, n_jobs=None,\n",
       "                               penalty='l2', power_t=0.5, random_state=42,\n",
       "                               shuffle=True, tol=None, validation_fraction=0.1,\n",
       "                               verbose=0, warm_start=False))],\n",
       "         verbose=False)"
      ]
     },
     "execution_count": 35,
     "metadata": {},
     "output_type": "execute_result"
    }
   ],
   "source": [
    "from sklearn.linear_model import SGDClassifier\n",
    "from sklearn.model_selection import train_test_split\n",
    "\n",
    "x_train, x_test, y_train, y_test = train_test_split(x, y, test_size = 0.33, random_state = 42)\n",
    "\n",
    "text_clf = Pipeline([\n",
    "    ('vect', CountVectorizer()),\n",
    "    ('tfidf', TfidfTransformer()),\n",
    "    ('clf', SGDClassifier(loss = 'hinge', penalty = 'l2',\n",
    "                         alpha = 1e-3, random_state = 42,\n",
    "                         max_iter = 5, tol = None))\n",
    "])\n",
    "\n",
    "text_clf.fit(x_train, y_train)"
   ]
  },
  {
   "cell_type": "code",
   "execution_count": 36,
   "metadata": {},
   "outputs": [
    {
     "name": "stdout",
     "output_type": "stream",
     "text": [
      "              precision    recall  f1-score   support\n",
      "\n",
      "    sherlock       1.00      1.00      1.00       155\n",
      "      watson       1.00      1.00      1.00        31\n",
      "\n",
      "    accuracy                           1.00       186\n",
      "   macro avg       1.00      1.00      1.00       186\n",
      "weighted avg       1.00      1.00      1.00       186\n",
      "\n"
     ]
    }
   ],
   "source": [
    "from sklearn import metrics\n",
    "\n",
    "predicted = text_clf.predict(x_test)\n",
    "\n",
    "print(metrics.classification_report(y_test, predicted, target_names = ['sherlock', 'watson']))"
   ]
  },
  {
   "cell_type": "code",
   "execution_count": null,
   "metadata": {},
   "outputs": [],
   "source": []
  },
  {
   "cell_type": "code",
   "execution_count": null,
   "metadata": {},
   "outputs": [],
   "source": []
  }
 ],
 "metadata": {
  "kernelspec": {
   "display_name": "Python 3",
   "language": "python",
   "name": "python3"
  },
  "language_info": {
   "codemirror_mode": {
    "name": "ipython",
    "version": 3
   },
   "file_extension": ".py",
   "mimetype": "text/x-python",
   "name": "python",
   "nbconvert_exporter": "python",
   "pygments_lexer": "ipython3",
   "version": "3.7.6"
  }
 },
 "nbformat": 4,
 "nbformat_minor": 4
}
