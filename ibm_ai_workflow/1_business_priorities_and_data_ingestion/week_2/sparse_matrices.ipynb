{
 "cells": [
  {
   "cell_type": "code",
   "execution_count": 1,
   "metadata": {},
   "outputs": [],
   "source": [
    "import numpy as np\n",
    "from scipy import sparse"
   ]
  },
  {
   "cell_type": "code",
   "execution_count": 3,
   "metadata": {},
   "outputs": [
    {
     "name": "stdout",
     "output_type": "stream",
     "text": [
      "0.4974\n"
     ]
    }
   ],
   "source": [
    "a = np.random.randint(0, 2, 100000).reshape(100, 1000)\n",
    "sparcity = 1.0 - (np.count_nonzero(a) /  a.size)\n",
    "print(round(sparcity, 4))"
   ]
  },
  {
   "cell_type": "code",
   "execution_count": 5,
   "metadata": {},
   "outputs": [
    {
     "name": "stdout",
     "output_type": "stream",
     "text": [
      "a <class 'numpy.ndarray'> (10, 100) \n",
      " b <class 'scipy.sparse.coo.coo_matrix'> (10, 100) \n",
      " c <class 'numpy.matrix'> (10, 100) \n",
      "\n"
     ]
    }
   ],
   "source": [
    "a = np.random.poisson(0.3, (10, 100))\n",
    "b = sparse.coo_matrix(a)\n",
    "c = b.todense()\n",
    "\n",
    "print('a', type(a), a.shape, '\\n', 'b', type(b), b.shape, '\\n', 'c', type(c), c.shape, '\\n')"
   ]
  },
  {
   "cell_type": "code",
   "execution_count": 10,
   "metadata": {},
   "outputs": [
    {
     "name": "stdout",
     "output_type": "stream",
     "text": [
      "  (6, 0)\t1\n",
      "  (9, 0)\t1\n",
      "  (3, 1)\t1\n",
      "  (5, 1)\t1\n",
      "  (6, 1)\t1\n",
      "  (9, 1)\t1\n",
      "  (6, 2)\t1\n",
      "  (1, 3)\t1\n",
      "  (2, 3)\t2\n",
      "  (5, 3)\t1\n",
      "  (0, 4)\t1\n",
      "  (3, 4)\t1\n",
      "  (4, 4)\t1\n",
      "  (5, 5)\t1\n",
      "  (8, 5)\t1\n",
      "  (0, 6)\t1\n",
      "  (4, 6)\t1\n",
      "  (5, 6)\t1\n",
      "  (7, 6)\t1\n",
      "  (0, 7)\t2\n",
      "  (2, 7)\t1\n",
      "  (4, 7)\t1\n",
      "  (5, 7)\t1\n",
      "  (8, 7)\t1\n",
      "  (5, 8)\t1\n",
      "  :\t:\n",
      "  (0, 89)\t1\n",
      "  (9, 89)\t1\n",
      "  (6, 90)\t1\n",
      "  (0, 91)\t1\n",
      "  (3, 91)\t2\n",
      "  (6, 91)\t1\n",
      "  (8, 91)\t1\n",
      "  (2, 92)\t1\n",
      "  (5, 93)\t2\n",
      "  (0, 94)\t1\n",
      "  (3, 94)\t1\n",
      "  (5, 94)\t1\n",
      "  (7, 94)\t1\n",
      "  (6, 95)\t1\n",
      "  (9, 95)\t2\n",
      "  (4, 96)\t1\n",
      "  (5, 96)\t1\n",
      "  (8, 96)\t1\n",
      "  (9, 96)\t1\n",
      "  (2, 97)\t1\n",
      "  (3, 97)\t1\n",
      "  (0, 99)\t1\n",
      "  (1, 99)\t1\n",
      "  (2, 99)\t2\n",
      "  (3, 99)\t1\n"
     ]
    }
   ],
   "source": [
    "a = np.random.poisson(0.3, (10, 100))\n",
    "b = sparse.csc_matrix(a)\n",
    "print(b)"
   ]
  },
  {
   "cell_type": "code",
   "execution_count": 11,
   "metadata": {},
   "outputs": [
    {
     "name": "stdout",
     "output_type": "stream",
     "text": [
      "  (0, 0)\t1\n",
      "  (0, 1)\t1\n",
      "  (0, 5)\t2\n",
      "  (0, 6)\t1\n",
      "  (0, 9)\t1\n",
      "  (0, 21)\t1\n",
      "  (0, 22)\t1\n",
      "  (0, 31)\t1\n",
      "  (0, 34)\t3\n",
      "  (0, 41)\t2\n",
      "  (0, 44)\t1\n",
      "  (0, 58)\t1\n",
      "  (0, 62)\t1\n",
      "  (0, 63)\t1\n",
      "  (0, 66)\t1\n",
      "  (0, 76)\t1\n",
      "  (0, 82)\t1\n",
      "  (0, 91)\t1\n",
      "  (0, 93)\t1\n",
      "  (0, 96)\t1\n",
      "  (0, 97)\t1\n",
      "  (1, 0)\t1\n",
      "  (1, 3)\t1\n",
      "  (1, 4)\t1\n",
      "  (1, 5)\t1\n",
      "  :\t:\n",
      "  (8, 89)\t1\n",
      "  (8, 90)\t1\n",
      "  (8, 96)\t1\n",
      "  (8, 99)\t1\n",
      "  (9, 1)\t1\n",
      "  (9, 6)\t1\n",
      "  (9, 20)\t1\n",
      "  (9, 21)\t1\n",
      "  (9, 23)\t1\n",
      "  (9, 24)\t1\n",
      "  (9, 28)\t2\n",
      "  (9, 32)\t1\n",
      "  (9, 33)\t2\n",
      "  (9, 34)\t1\n",
      "  (9, 37)\t1\n",
      "  (9, 45)\t1\n",
      "  (9, 48)\t1\n",
      "  (9, 53)\t1\n",
      "  (9, 59)\t1\n",
      "  (9, 67)\t2\n",
      "  (9, 71)\t1\n",
      "  (9, 79)\t1\n",
      "  (9, 80)\t1\n",
      "  (9, 81)\t1\n",
      "  (9, 98)\t1\n"
     ]
    }
   ],
   "source": [
    "a = np.random.poisson(0.3, (10, 100))\n",
    "b = sparse.csr_matrix(a)\n",
    "print(b)"
   ]
  },
  {
   "cell_type": "code",
   "execution_count": 13,
   "metadata": {},
   "outputs": [],
   "source": [
    "rows = [0, 1, 2, 8]\n",
    "cols = [1, 0, 4, 8]\n",
    "vals = [1, 2, 1, 4]\n",
    "\n",
    "a = sparse.coo_matrix((vals, (rows, cols)))"
   ]
  },
  {
   "cell_type": "code",
   "execution_count": 14,
   "metadata": {},
   "outputs": [
    {
     "name": "stdout",
     "output_type": "stream",
     "text": [
      "[[1 1 0 0 0 2 1 0 0 1 0 0 0 0 0 0 0 0 0 0 0 1 1 0 0 0 0 0 0 0 0 1 0 0 3 0\n",
      "  0 0 0 0 0 2 0 0 1 0 0 0 0 0 0 0 0 0 0 0 0 0 1 0 0 0 1 1 0 0 1 0 0 0 0 0\n",
      "  0 0 0 0 1 0 0 0 0 0 1 0 0 0 0 0 0 0 0 1 0 1 0 0 1 1 0 0]\n",
      " [1 0 0 1 1 1 0 0 0 0 0 1 0 0 0 0 2 0 0 1 0 0 0 0 0 1 0 0 1 0 0 0 0 1 0 0\n",
      "  0 0 0 0 0 0 1 1 1 0 0 0 0 0 0 0 0 0 0 0 0 1 0 0 1 0 0 0 1 1 0 0 1 0 0 0\n",
      "  0 1 0 0 0 0 1 0 0 0 0 1 0 0 0 0 1 0 0 1 1 0 0 0 2 1 1 1]\n",
      " [0 0 1 0 1 0 0 0 0 1 0 1 0 0 1 0 0 0 1 0 1 0 0 0 1 1 0 0 0 1 0 0 1 0 0 0\n",
      "  2 0 0 0 0 0 0 0 0 0 0 0 0 0 0 1 0 1 0 0 0 0 0 0 0 1 0 0 0 2 2 0 0 0 0 0\n",
      "  1 0 0 1 1 0 0 1 0 1 0 1 0 0 0 0 0 0 1 0 1 0 1 0 1 0 0 0]\n",
      " [1 0 1 0 0 1 2 0 1 0 0 1 0 0 0 0 0 1 1 0 1 0 0 1 0 0 0 0 1 0 2 0 0 0 0 0\n",
      "  0 0 0 1 0 0 0 0 0 0 1 0 0 0 0 0 0 0 0 0 1 0 0 0 0 0 0 0 0 0 0 1 0 1 1 0\n",
      "  0 0 0 1 1 0 0 1 0 1 0 1 2 0 0 0 0 1 0 1 2 1 0 0 0 0 0 0]\n",
      " [0 1 0 1 0 0 0 0 1 0 0 1 1 1 0 0 0 1 0 0 0 1 0 0 1 0 0 2 0 1 0 0 0 0 0 1\n",
      "  1 0 0 0 0 0 0 0 0 0 1 0 1 1 0 0 1 0 2 0 0 0 0 1 0 0 0 0 0 0 0 0 0 0 0 0\n",
      "  0 0 0 0 0 0 0 0 0 2 0 1 0 0 0 0 0 0 0 2 0 0 0 0 0 0 0 0]\n",
      " [1 0 1 0 0 2 0 0 0 1 0 0 0 0 0 1 0 0 0 0 0 0 0 1 0 1 0 1 0 0 0 0 0 0 0 1\n",
      "  2 0 0 0 0 0 0 0 0 0 0 2 0 1 0 3 1 0 0 0 0 0 1 1 1 0 0 0 0 0 0 0 0 0 0 0\n",
      "  3 0 0 0 0 0 0 0 0 0 1 0 0 0 1 0 1 0 0 0 0 1 0 0 0 0 1 0]\n",
      " [0 1 0 0 0 1 0 0 0 0 0 0 1 0 2 0 1 0 0 0 0 1 0 1 0 2 1 1 0 0 0 0 0 1 0 0\n",
      "  2 0 1 0 0 2 0 0 0 0 0 0 0 0 0 2 1 0 0 0 0 1 0 0 0 0 0 1 0 0 0 1 1 1 0 0\n",
      "  0 0 0 0 0 1 0 1 0 1 0 0 0 0 1 0 0 1 0 0 0 0 0 1 0 0 1 0]\n",
      " [1 1 1 1 1 0 0 1 0 1 1 0 1 0 1 0 0 1 1 0 0 1 0 0 0 0 0 0 1 0 1 0 0 1 0 0\n",
      "  0 0 0 0 1 0 1 1 0 1 0 0 1 0 0 0 0 0 0 0 0 0 0 0 0 0 0 1 0 0 0 0 0 0 2 0\n",
      "  0 0 0 0 0 0 0 0 0 2 1 0 0 0 0 1 0 1 1 0 0 1 0 0 1 0 1 1]\n",
      " [0 0 0 0 0 0 0 0 0 0 0 2 0 0 0 0 0 1 0 0 0 0 2 0 0 0 0 0 0 2 0 0 0 1 0 0\n",
      "  0 0 0 0 1 0 0 0 1 0 1 0 0 0 0 1 0 0 0 0 0 0 0 1 0 1 0 0 0 0 1 0 0 0 0 0\n",
      "  2 0 0 0 0 0 0 1 1 1 0 0 0 0 0 0 0 1 1 0 0 0 0 0 1 0 0 1]\n",
      " [0 1 0 0 0 0 1 0 0 0 0 0 0 0 0 0 0 0 0 0 1 1 0 1 1 0 0 0 2 0 0 0 1 2 1 0\n",
      "  0 1 0 0 0 0 0 0 0 1 0 0 1 0 0 0 0 1 0 0 0 0 0 1 0 0 0 0 0 0 0 2 0 0 0 1\n",
      "  0 0 0 0 0 0 0 1 1 1 0 0 0 0 0 0 0 0 0 0 0 0 0 0 0 0 1 0]]\n"
     ]
    }
   ],
   "source": [
    "print(b.todense())"
   ]
  },
  {
   "cell_type": "code",
   "execution_count": 15,
   "metadata": {},
   "outputs": [],
   "source": [
    "b = a.tocsr()"
   ]
  },
  {
   "cell_type": "code",
   "execution_count": 16,
   "metadata": {},
   "outputs": [
    {
     "name": "stdout",
     "output_type": "stream",
     "text": [
      "(9, 9) (1, 9)\n",
      "[[0 1 0 0 0 0 0 0 0]\n",
      " [2 0 0 0 0 0 0 0 0]\n",
      " [0 0 0 0 1 0 0 0 0]\n",
      " [0 0 0 0 0 0 0 0 0]\n",
      " [0 0 0 0 0 0 0 0 0]\n",
      " [0 0 0 0 0 0 0 0 0]\n",
      " [0 0 0 0 0 0 0 0 0]\n",
      " [0 0 0 0 0 0 0 0 0]\n",
      " [0 0 0 0 0 0 0 0 4]\n",
      " [0 1 0 0 2 0 0 0 1]]\n"
     ]
    }
   ],
   "source": [
    "c = sparse.csr_matrix(np.array([0, 1, 0 ,0, 2, 0, 0, 0, 1]).reshape(1, 9))\n",
    "print(b.shape, c.shape)\n",
    "d = sparse.vstack([b, c])\n",
    "print(d.todense())"
   ]
  },
  {
   "cell_type": "code",
   "execution_count": 17,
   "metadata": {},
   "outputs": [
    {
     "name": "stdout",
     "output_type": "stream",
     "text": [
      "(10, 9)\n"
     ]
    }
   ],
   "source": [
    "file_name = 'sparse_matrix.npz'\n",
    "sparse.save_npz(file_name, d)\n",
    "e = sparse.load_npz(file_name)\n",
    "print(e.shape)"
   ]
  },
  {
   "cell_type": "code",
   "execution_count": null,
   "metadata": {},
   "outputs": [],
   "source": []
  }
 ],
 "metadata": {
  "kernelspec": {
   "display_name": "Python 3",
   "language": "python",
   "name": "python3"
  },
  "language_info": {
   "codemirror_mode": {
    "name": "ipython",
    "version": 3
   },
   "file_extension": ".py",
   "mimetype": "text/x-python",
   "name": "python",
   "nbconvert_exporter": "python",
   "pygments_lexer": "ipython3",
   "version": "3.7.6"
  }
 },
 "nbformat": 4,
 "nbformat_minor": 4
}
