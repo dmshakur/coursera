{
 "cells": [
  {
   "cell_type": "code",
   "execution_count": 2,
   "metadata": {},
   "outputs": [],
   "source": [
    "import numpy as np\n",
    "import scipy.stats as stats"
   ]
  },
  {
   "cell_type": "code",
   "execution_count": 3,
   "metadata": {},
   "outputs": [],
   "source": [
    "local_arrivals = np.array([3.99, 4.15, 6.88, 4.53, 5.65, 6.75, 7.13, 2.79, 6.20,\n",
    "                           3.72, 7.28, 5.23, 4.72, 1.04, 4.25, 4.71, 2.16, 3.46,\n",
    "                           3.41, 7.98, 0.75, 3.64, 6.25, 6.86, 4.71])\n",
    "hosted_arrivals = np.array([5.82, 4.83, 7.19, 6.98, 5.82, 5.25, 5.71, 5.59, 7.93,\n",
    "                            7.09, 6.37, 6.31, 6.28, 3.12, 6.02, 4.84, 4.16, 6.72,\n",
    "                            7.44, 6.28, 7.37, 4.27, 6.15, 4.88, 7.78])"
   ]
  },
  {
   "cell_type": "code",
   "execution_count": 4,
   "metadata": {},
   "outputs": [
    {
     "name": "stdout",
     "output_type": "stream",
     "text": [
      "p-value: 0.0069\n"
     ]
    }
   ],
   "source": [
    "test_stat, p_val = stats.ttest_ind(local_arrivals, hosted_arrivals)\n",
    "print('p-value: {}'.format(round(p_val, 5)))"
   ]
  },
  {
   "cell_type": "code",
   "execution_count": 5,
   "metadata": {},
   "outputs": [
    {
     "name": "stdout",
     "output_type": "stream",
     "text": [
      "p-value: 0.00735\n"
     ]
    }
   ],
   "source": [
    "test_stat, p_val = stats.ttest_ind(local_arrivals, hosted_arrivals, equal_var = False)\n",
    "print('p-value: {}'.format(round(p_val, 5)))"
   ]
  },
  {
   "cell_type": "markdown",
   "metadata": {},
   "source": [
    "The students t test always has a mean of 0 and a variance of 1, and only has 1 parameter, degrees of freedom."
   ]
  },
  {
   "cell_type": "markdown",
   "metadata": {},
   "source": [
    "## One way analysis of variance"
   ]
  },
  {
   "cell_type": "code",
   "execution_count": 6,
   "metadata": {},
   "outputs": [],
   "source": [
    "import numpy as np\n",
    "from scipy import stats\n",
    "\n",
    "local_arrivals = np.array([3.99, 4.15, 7.88, 4.53, 5.65, 6.75, 7.13, 3.79, 6.20,\n",
    "                           3.72, 7.28, 5.23, 4.72, 2.04, 4.25, 4.71, 3.16, 3.46,\n",
    "                           3.41, 7.98, 0.75, 3.64, 6.25, 6.86, 4.71])\n",
    "cloud1_arrivals = np.array([5.82, 4.83, 7.19, 6.98, 5.82, 5.25, 5.71, 5.59, 6.93,\n",
    "                            7.09, 6.37, 6.31, 6.28, 3.12, 6.02, 4.84, 4.16, 6.72,\n",
    "                            7.44, 6.28, 6.37, 4.27, 6.15, 4.88, 6.78])\n",
    "cloud2_arrivals = np.array([5.73, 4.95, 6.96, 6.12, 5.85, 6.74, 5.19, 7.24,\n",
    "                            6.08, 6.11, 6.11, 7.68, 4.66, 6.12, 5.04, 4.19, 6.46,\n",
    "                            7.02, 7.28, 6.19, 4.67, 7.15, 4.58, 6.01])\n",
    "                            "
   ]
  },
  {
   "cell_type": "code",
   "execution_count": 7,
   "metadata": {},
   "outputs": [
    {
     "name": "stdout",
     "output_type": "stream",
     "text": [
      "The global mean arrival time is: 5.59\n",
      "mean arrival time for local is 4.89\n",
      "mean arrival time for cloud1 is 5.89\n",
      "mean arrival time for cloud2 is 6.01\n"
     ]
    }
   ],
   "source": [
    "all_arrivals = [local_arrivals, cloud1_arrivals, cloud2_arrivals]\n",
    "global_mean = np.hstack(all_arrivals).mean()\n",
    "\n",
    "print('The global mean arrival time is: %s' % np.round(global_mean, decimals = 2))\n",
    "\n",
    "for name, arrivals in zip(['local', 'cloud1', 'cloud2'], all_arrivals):\n",
    "    print('mean arrival time for {} is {}'.format(name, np.round(arrivals.mean(), decimals = 2)))"
   ]
  },
  {
   "cell_type": "code",
   "execution_count": 8,
   "metadata": {},
   "outputs": [
    {
     "name": "stdout",
     "output_type": "stream",
     "text": [
      "0.0082\n"
     ]
    }
   ],
   "source": [
    "test_stat, p_val = stats.f_oneway(*all_arrivals)\n",
    "print(np.round(p_val, decimals = 4))"
   ]
  },
  {
   "cell_type": "code",
   "execution_count": null,
   "metadata": {},
   "outputs": [],
   "source": []
  }
 ],
 "metadata": {
  "kernelspec": {
   "display_name": "Python 3",
   "language": "python",
   "name": "python3"
  },
  "language_info": {
   "codemirror_mode": {
    "name": "ipython",
    "version": 3
   },
   "file_extension": ".py",
   "mimetype": "text/x-python",
   "name": "python",
   "nbconvert_exporter": "python",
   "pygments_lexer": "ipython3",
   "version": "3.7.6"
  }
 },
 "nbformat": 4,
 "nbformat_minor": 4
}
